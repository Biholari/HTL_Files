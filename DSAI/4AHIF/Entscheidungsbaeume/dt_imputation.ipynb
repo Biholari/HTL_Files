{
 "cells": [
  {
   "cell_type": "code",
   "execution_count": 53,
   "id": "bf94754f",
   "metadata": {},
   "outputs": [
    {
     "name": "stdout",
     "output_type": "stream",
     "text": [
      "Requirement already satisfied: mlxtend in c:\\users\\fabia\\anaconda3\\lib\\site-packages (0.23.4)\n",
      "Requirement already satisfied: scipy>=1.2.1 in c:\\users\\fabia\\anaconda3\\lib\\site-packages (from mlxtend) (1.13.1)\n",
      "Requirement already satisfied: numpy>=1.16.2 in c:\\users\\fabia\\anaconda3\\lib\\site-packages (from mlxtend) (1.26.4)\n",
      "Requirement already satisfied: pandas>=0.24.2 in c:\\users\\fabia\\anaconda3\\lib\\site-packages (from mlxtend) (2.2.2)\n",
      "Requirement already satisfied: scikit-learn>=1.3.1 in c:\\users\\fabia\\anaconda3\\lib\\site-packages (from mlxtend) (1.5.1)\n",
      "Requirement already satisfied: matplotlib>=3.0.0 in c:\\users\\fabia\\anaconda3\\lib\\site-packages (from mlxtend) (3.9.2)\n",
      "Requirement already satisfied: joblib>=0.13.2 in c:\\users\\fabia\\anaconda3\\lib\\site-packages (from mlxtend) (1.4.2)\n",
      "Requirement already satisfied: contourpy>=1.0.1 in c:\\users\\fabia\\anaconda3\\lib\\site-packages (from matplotlib>=3.0.0->mlxtend) (1.2.0)\n",
      "Requirement already satisfied: cycler>=0.10 in c:\\users\\fabia\\anaconda3\\lib\\site-packages (from matplotlib>=3.0.0->mlxtend) (0.11.0)\n",
      "Requirement already satisfied: fonttools>=4.22.0 in c:\\users\\fabia\\anaconda3\\lib\\site-packages (from matplotlib>=3.0.0->mlxtend) (4.51.0)\n",
      "Requirement already satisfied: kiwisolver>=1.3.1 in c:\\users\\fabia\\anaconda3\\lib\\site-packages (from matplotlib>=3.0.0->mlxtend) (1.4.4)\n",
      "Requirement already satisfied: packaging>=20.0 in c:\\users\\fabia\\anaconda3\\lib\\site-packages (from matplotlib>=3.0.0->mlxtend) (24.1)\n",
      "Requirement already satisfied: pillow>=8 in c:\\users\\fabia\\anaconda3\\lib\\site-packages (from matplotlib>=3.0.0->mlxtend) (10.4.0)\n",
      "Requirement already satisfied: pyparsing>=2.3.1 in c:\\users\\fabia\\anaconda3\\lib\\site-packages (from matplotlib>=3.0.0->mlxtend) (3.1.2)\n",
      "Requirement already satisfied: python-dateutil>=2.7 in c:\\users\\fabia\\anaconda3\\lib\\site-packages (from matplotlib>=3.0.0->mlxtend) (2.9.0.post0)\n",
      "Requirement already satisfied: pytz>=2020.1 in c:\\users\\fabia\\anaconda3\\lib\\site-packages (from pandas>=0.24.2->mlxtend) (2024.1)\n",
      "Requirement already satisfied: tzdata>=2022.7 in c:\\users\\fabia\\anaconda3\\lib\\site-packages (from pandas>=0.24.2->mlxtend) (2023.3)\n",
      "Requirement already satisfied: threadpoolctl>=3.1.0 in c:\\users\\fabia\\anaconda3\\lib\\site-packages (from scikit-learn>=1.3.1->mlxtend) (3.5.0)\n",
      "Requirement already satisfied: six>=1.5 in c:\\users\\fabia\\anaconda3\\lib\\site-packages (from python-dateutil>=2.7->matplotlib>=3.0.0->mlxtend) (1.16.0)\n",
      "Note: you may need to restart the kernel to use updated packages.\n"
     ]
    }
   ],
   "source": [
    "%pip install mlxtend"
   ]
  },
  {
   "cell_type": "markdown",
   "id": "mental-arizona",
   "metadata": {},
   "source": [
    "# Motivation"
   ]
  },
  {
   "cell_type": "markdown",
   "id": "finished-spice",
   "metadata": {},
   "source": [
    "Let's return to our well known classic - the _Iris_ dataset. Imagine you're tasked with writing a program for classifying the three species.\n",
    "You'd probably perform some basic data exploration and visualization..."
   ]
  },
  {
   "cell_type": "code",
   "execution_count": 54,
   "id": "sunrise-testimony",
   "metadata": {},
   "outputs": [],
   "source": [
    "import pandas as pd\n",
    "import numpy as np\n",
    "import matplotlib.pyplot as plt\n",
    "import seaborn as sns\n",
    "\n",
    "#kind of important - we have to talk about this a bit later again ....\n",
    "my_random_state = 10"
   ]
  },
  {
   "cell_type": "code",
   "execution_count": 55,
   "id": "premier-tunnel",
   "metadata": {},
   "outputs": [
    {
     "data": {
      "text/html": [
       "<div>\n",
       "<style scoped>\n",
       "    .dataframe tbody tr th:only-of-type {\n",
       "        vertical-align: middle;\n",
       "    }\n",
       "\n",
       "    .dataframe tbody tr th {\n",
       "        vertical-align: top;\n",
       "    }\n",
       "\n",
       "    .dataframe thead th {\n",
       "        text-align: right;\n",
       "    }\n",
       "</style>\n",
       "<table border=\"1\" class=\"dataframe\">\n",
       "  <thead>\n",
       "    <tr style=\"text-align: right;\">\n",
       "      <th></th>\n",
       "      <th>sepal_length</th>\n",
       "      <th>sepal_width</th>\n",
       "      <th>petal_length</th>\n",
       "      <th>petal_width</th>\n",
       "      <th>species</th>\n",
       "    </tr>\n",
       "  </thead>\n",
       "  <tbody>\n",
       "    <tr>\n",
       "      <th>12</th>\n",
       "      <td>4.8</td>\n",
       "      <td>3.0</td>\n",
       "      <td>1.4</td>\n",
       "      <td>0.1</td>\n",
       "      <td>setosa</td>\n",
       "    </tr>\n",
       "    <tr>\n",
       "      <th>146</th>\n",
       "      <td>6.3</td>\n",
       "      <td>2.5</td>\n",
       "      <td>5.0</td>\n",
       "      <td>1.9</td>\n",
       "      <td>virginica</td>\n",
       "    </tr>\n",
       "    <tr>\n",
       "      <th>133</th>\n",
       "      <td>6.3</td>\n",
       "      <td>2.8</td>\n",
       "      <td>5.1</td>\n",
       "      <td>1.5</td>\n",
       "      <td>virginica</td>\n",
       "    </tr>\n",
       "    <tr>\n",
       "      <th>140</th>\n",
       "      <td>6.7</td>\n",
       "      <td>3.1</td>\n",
       "      <td>5.6</td>\n",
       "      <td>2.4</td>\n",
       "      <td>virginica</td>\n",
       "    </tr>\n",
       "    <tr>\n",
       "      <th>24</th>\n",
       "      <td>4.8</td>\n",
       "      <td>3.4</td>\n",
       "      <td>1.9</td>\n",
       "      <td>0.2</td>\n",
       "      <td>setosa</td>\n",
       "    </tr>\n",
       "  </tbody>\n",
       "</table>\n",
       "</div>"
      ],
      "text/plain": [
       "     sepal_length  sepal_width  petal_length  petal_width    species\n",
       "12            4.8          3.0           1.4          0.1     setosa\n",
       "146           6.3          2.5           5.0          1.9  virginica\n",
       "133           6.3          2.8           5.1          1.5  virginica\n",
       "140           6.7          3.1           5.6          2.4  virginica\n",
       "24            4.8          3.4           1.9          0.2     setosa"
      ]
     },
     "execution_count": 55,
     "metadata": {},
     "output_type": "execute_result"
    }
   ],
   "source": [
    "iris_data = sns.load_dataset('iris')\n",
    "iris_data.sample(n=5)"
   ]
  },
  {
   "cell_type": "code",
   "execution_count": 56,
   "id": "64d80c86-651d-4ac9-8c1a-7cf16cdc0be3",
   "metadata": {},
   "outputs": [
    {
     "name": "stdout",
     "output_type": "stream",
     "text": [
      "<class 'pandas.core.frame.DataFrame'>\n",
      "RangeIndex: 150 entries, 0 to 149\n",
      "Data columns (total 5 columns):\n",
      " #   Column        Non-Null Count  Dtype  \n",
      "---  ------        --------------  -----  \n",
      " 0   sepal_length  150 non-null    float64\n",
      " 1   sepal_width   150 non-null    float64\n",
      " 2   petal_length  150 non-null    float64\n",
      " 3   petal_width   150 non-null    float64\n",
      " 4   species       150 non-null    object \n",
      "dtypes: float64(4), object(1)\n",
      "memory usage: 6.0+ KB\n"
     ]
    }
   ],
   "source": [
    "iris_data.info()"
   ]
  },
  {
   "cell_type": "code",
   "execution_count": 57,
   "id": "sealed-census",
   "metadata": {},
   "outputs": [
    {
     "data": {
      "text/html": [
       "<div>\n",
       "<style scoped>\n",
       "    .dataframe tbody tr th:only-of-type {\n",
       "        vertical-align: middle;\n",
       "    }\n",
       "\n",
       "    .dataframe tbody tr th {\n",
       "        vertical-align: top;\n",
       "    }\n",
       "\n",
       "    .dataframe thead tr th {\n",
       "        text-align: left;\n",
       "    }\n",
       "\n",
       "    .dataframe thead tr:last-of-type th {\n",
       "        text-align: right;\n",
       "    }\n",
       "</style>\n",
       "<table border=\"1\" class=\"dataframe\">\n",
       "  <thead>\n",
       "    <tr>\n",
       "      <th></th>\n",
       "      <th colspan=\"3\" halign=\"left\">sepal_length</th>\n",
       "      <th colspan=\"3\" halign=\"left\">sepal_width</th>\n",
       "      <th colspan=\"3\" halign=\"left\">petal_length</th>\n",
       "      <th colspan=\"3\" halign=\"left\">petal_width</th>\n",
       "    </tr>\n",
       "    <tr>\n",
       "      <th></th>\n",
       "      <th>min</th>\n",
       "      <th>mean</th>\n",
       "      <th>max</th>\n",
       "      <th>min</th>\n",
       "      <th>mean</th>\n",
       "      <th>max</th>\n",
       "      <th>min</th>\n",
       "      <th>mean</th>\n",
       "      <th>max</th>\n",
       "      <th>min</th>\n",
       "      <th>mean</th>\n",
       "      <th>max</th>\n",
       "    </tr>\n",
       "    <tr>\n",
       "      <th>species</th>\n",
       "      <th></th>\n",
       "      <th></th>\n",
       "      <th></th>\n",
       "      <th></th>\n",
       "      <th></th>\n",
       "      <th></th>\n",
       "      <th></th>\n",
       "      <th></th>\n",
       "      <th></th>\n",
       "      <th></th>\n",
       "      <th></th>\n",
       "      <th></th>\n",
       "    </tr>\n",
       "  </thead>\n",
       "  <tbody>\n",
       "    <tr>\n",
       "      <th>setosa</th>\n",
       "      <td>4.3</td>\n",
       "      <td>5.006</td>\n",
       "      <td>5.8</td>\n",
       "      <td>2.3</td>\n",
       "      <td>3.428</td>\n",
       "      <td>4.4</td>\n",
       "      <td>1.0</td>\n",
       "      <td>1.462</td>\n",
       "      <td>1.9</td>\n",
       "      <td>0.1</td>\n",
       "      <td>0.246</td>\n",
       "      <td>0.6</td>\n",
       "    </tr>\n",
       "    <tr>\n",
       "      <th>versicolor</th>\n",
       "      <td>4.9</td>\n",
       "      <td>5.936</td>\n",
       "      <td>7.0</td>\n",
       "      <td>2.0</td>\n",
       "      <td>2.770</td>\n",
       "      <td>3.4</td>\n",
       "      <td>3.0</td>\n",
       "      <td>4.260</td>\n",
       "      <td>5.1</td>\n",
       "      <td>1.0</td>\n",
       "      <td>1.326</td>\n",
       "      <td>1.8</td>\n",
       "    </tr>\n",
       "    <tr>\n",
       "      <th>virginica</th>\n",
       "      <td>4.9</td>\n",
       "      <td>6.588</td>\n",
       "      <td>7.9</td>\n",
       "      <td>2.2</td>\n",
       "      <td>2.974</td>\n",
       "      <td>3.8</td>\n",
       "      <td>4.5</td>\n",
       "      <td>5.552</td>\n",
       "      <td>6.9</td>\n",
       "      <td>1.4</td>\n",
       "      <td>2.026</td>\n",
       "      <td>2.5</td>\n",
       "    </tr>\n",
       "  </tbody>\n",
       "</table>\n",
       "</div>"
      ],
      "text/plain": [
       "           sepal_length             sepal_width             petal_length  \\\n",
       "                    min   mean  max         min   mean  max          min   \n",
       "species                                                                    \n",
       "setosa              4.3  5.006  5.8         2.3  3.428  4.4          1.0   \n",
       "versicolor          4.9  5.936  7.0         2.0  2.770  3.4          3.0   \n",
       "virginica           4.9  6.588  7.9         2.2  2.974  3.8          4.5   \n",
       "\n",
       "                       petal_width              \n",
       "             mean  max         min   mean  max  \n",
       "species                                         \n",
       "setosa      1.462  1.9         0.1  0.246  0.6  \n",
       "versicolor  4.260  5.1         1.0  1.326  1.8  \n",
       "virginica   5.552  6.9         1.4  2.026  2.5  "
      ]
     },
     "execution_count": 57,
     "metadata": {},
     "output_type": "execute_result"
    }
   ],
   "source": [
    "iris_data.groupby('species').agg(['min', 'mean', 'max'])"
   ]
  },
  {
   "cell_type": "code",
   "execution_count": 58,
   "id": "impossible-tulsa",
   "metadata": {},
   "outputs": [
    {
     "data": {
      "text/plain": [
       "<seaborn.axisgrid.JointGrid at 0x1bc1caef980>"
      ]
     },
     "execution_count": 58,
     "metadata": {},
     "output_type": "execute_result"
    },
    {
     "data": {
      "image/png": "[encoded data removed]",
      "text/plain": [
       "<Figure size 600x600 with 3 Axes>"
      ]
     },
     "metadata": {},
     "output_type": "display_data"
    }
   ],
   "source": [
    "sns.jointplot(data=iris_data, x='petal_length', y='petal_width', hue='species')"
   ]
  },
  {
   "cell_type": "markdown",
   "id": "piano-headline",
   "metadata": {},
   "source": [
    "...and then come up with a solution (probably) similar to the following _Java_ example:\n",
    "\n",
    "```\n",
    "if(petalLength <= 2) {\n",
    "    return Species.SETOSA;\n",
    "}\n",
    "else {\n",
    "    if(5 <= petalLength) {\n",
    "        return Species.VERSICOLOR;\n",
    "    }\n",
    "    else {\n",
    "        if(1.8 < petalWidth) {\n",
    "            return Species.VIRGINICA;\n",
    "        }\n",
    "        else {\n",
    "            return Species.VERSICOLOR;\n",
    "        }\n",
    "    }\n",
    "}\n",
    "```\n",
    "\n",
    "The exemplary implementation above resembles a _binary tree_: at each node we ask a _yes/no_-question (e.g. _Is the petal length greater than or equal to 5?_) and either continue asking or ascertain the result.\n",
    "\n",
    "This analogy - with the questions being the _decisions_ and the results the _leaves_ - is the base for **_Decision Trees_**, a widely used **_supervised_** _machine learning_ algorithm, popular for its simplicity and interpretability. Before we dive deeper into the technical details, let's try it out on the _Iris_ dataset:\n",
    "\n",
    "1. We import the relevant classes/modules from _scikit_learn_.\n",
    "    * We use the `Classifier` since we're dealing with a **_classification_** problem.\n",
    "1. We segregate the **_features_** into variable `X` and the **_label_** into variable `y`.\n",
    "1. We **_split_** the data into two parts, one for **_training_** and one for **_testing_**.\n",
    "1. We **_train_** the _decision tree_ **_model_** using `fit`, supplying the training data as input.\n",
    "1. We use the model to **_predict_** the labels using the features from the test data.\n",
    "1. We calculate the **_accuracy_** (_number of correct predictions_ divided by the _total number of predictions_) to **_evaluate_** our model."
   ]
  },
  {
   "cell_type": "code",
   "execution_count": 59,
   "id": "thick-shoot",
   "metadata": {},
   "outputs": [],
   "source": [
    "from sklearn.tree import DecisionTreeClassifier\n",
    "from sklearn.model_selection import train_test_split\n",
    "from sklearn import metrics"
   ]
  },
  {
   "cell_type": "code",
   "execution_count": 60,
   "id": "tender-infrared",
   "metadata": {
    "scrolled": true
   },
   "outputs": [
    {
     "name": "stdout",
     "output_type": "stream",
     "text": [
      "Accuracy: 92.11%\n"
     ]
    }
   ],
   "source": [
    "X = iris_data[['sepal_length', 'sepal_width', 'petal_length', 'petal_width']]\n",
    "y = iris_data['species']\n",
    "\n",
    "X_train, X_test, y_train, y_test = train_test_split(X, y, random_state=21)\n",
    "\n",
    "dt_model = DecisionTreeClassifier()\n",
    "dt_model.fit(X_train, y_train)\n",
    "\n",
    "y_pred = dt_model.predict(X_test)\n",
    "\n",
    "accuracy_score = metrics.accuracy_score(y_test, y_pred)\n",
    "print('Accuracy: {:.2%}'.format(accuracy_score))"
   ]
  },
  {
   "cell_type": "markdown",
   "id": "fatty-ready",
   "metadata": {},
   "source": [
    "Above 90% accuracy, without adjusting any **_hyperparameters_**!\n",
    "\n",
    "We can take a look at the structure of the _decision tree_ as follows - demonstrating its _interpretability_:"
   ]
  },
  {
   "cell_type": "code",
   "execution_count": 61,
   "id": "light-curtis",
   "metadata": {},
   "outputs": [],
   "source": [
    "from sklearn import tree"
   ]
  },
  {
   "cell_type": "code",
   "execution_count": 62,
   "id": "pending-single",
   "metadata": {},
   "outputs": [
    {
     "name": "stdout",
     "output_type": "stream",
     "text": [
      "|--- petal_length <= 2.45\n",
      "|   |--- class: setosa\n",
      "|--- petal_length >  2.45\n",
      "|   |--- petal_length <= 4.95\n",
      "|   |   |--- petal_width <= 1.65\n",
      "|   |   |   |--- class: versicolor\n",
      "|   |   |--- petal_width >  1.65\n",
      "|   |   |   |--- class: virginica\n",
      "|   |--- petal_length >  4.95\n",
      "|   |   |--- class: virginica\n",
      "\n"
     ]
    }
   ],
   "source": [
    "text_representation = tree.export_text(dt_model, feature_names=list(iris_data.columns[:-1]))\n",
    "print(text_representation)"
   ]
  },
  {
   "cell_type": "code",
   "execution_count": 63,
   "id": "floating-overall",
   "metadata": {},
   "outputs": [
    {
     "data": {
      "text/plain": [
       "[Text(0.4, 0.875, 'petal_length <= 2.45\\ngini = 0.666\\nsamples = 112\\nvalue = [37, 35, 40]\\nclass = virginica'),\n",
       " Text(0.2, 0.625, 'gini = 0.0\\nsamples = 37\\nvalue = [37, 0, 0]\\nclass = setosa'),\n",
       " Text(0.30000000000000004, 0.75, 'True  '),\n",
       " Text(0.6, 0.625, 'petal_length <= 4.95\\ngini = 0.498\\nsamples = 75\\nvalue = [0, 35, 40]\\nclass = virginica'),\n",
       " Text(0.5, 0.75, '  False'),\n",
       " Text(0.4, 0.375, 'petal_width <= 1.65\\ngini = 0.102\\nsamples = 37\\nvalue = [0, 35, 2]\\nclass = versicolor'),\n",
       " Text(0.2, 0.125, 'gini = 0.0\\nsamples = 35\\nvalue = [0, 35, 0]\\nclass = versicolor'),\n",
       " Text(0.6, 0.125, 'gini = 0.0\\nsamples = 2\\nvalue = [0, 0, 2]\\nclass = virginica'),\n",
       " Text(0.8, 0.375, 'gini = 0.0\\nsamples = 38\\nvalue = [0, 0, 38]\\nclass = virginica')]"
      ]
     },
     "execution_count": 63,
     "metadata": {},
     "output_type": "execute_result"
    },
    {
     "data": {
      "image/png": "[encoded data removed]",
      "text/plain": [
       "<Figure size 500x700 with 1 Axes>"
      ]
     },
     "metadata": {},
     "output_type": "display_data"
    }
   ],
   "source": [
    "fig = plt.figure(figsize=(5,7))\n",
    "tree.plot_tree(dt_model, feature_names=iris_data.columns[:-1], class_names=iris_data['species'].unique(), filled=True)"
   ]
  },
  {
   "cell_type": "markdown",
   "id": "molecular-print",
   "metadata": {},
   "source": [
    "Or use some helper methods or libraries to plot the _decision regions_:\n",
    "\n",
    "N.B.: The library we use in this demonstration only works with numerical values, hence the cumbersome transformations."
   ]
  },
  {
   "cell_type": "code",
   "execution_count": 64,
   "id": "acceptable-geneva",
   "metadata": {},
   "outputs": [
    {
     "name": "stderr",
     "output_type": "stream",
     "text": [
      "c:\\Users\\fabia\\anaconda3\\Lib\\site-packages\\sklearn\\base.py:493: UserWarning: X does not have valid feature names, but DecisionTreeClassifier was fitted with feature names\n",
      "  warnings.warn(\n"
     ]
    },
    {
     "data": {
      "text/plain": [
       "<Axes: >"
      ]
     },
     "execution_count": 64,
     "metadata": {},
     "output_type": "execute_result"
    },
    {
     "data": {
      "image/png": "[encoded data removed]",
      "text/plain": [
       "<Figure size 900x900 with 1 Axes>"
      ]
     },
     "metadata": {},
     "output_type": "display_data"
    }
   ],
   "source": [
    "from mlxtend.plotting import plot_decision_regions\n",
    "\n",
    "X_train, X_test, y_train, y_test = train_test_split(X, y, random_state=21)\n",
    "\n",
    "dt_model = DecisionTreeClassifier()\n",
    "dt_model.fit(X_train.iloc[:,2:], np.unique(y_train, return_inverse=True)[1])\n",
    "\n",
    "plt.figure(figsize=(9,9))\n",
    "plot_decision_regions(X=X_train.iloc[:,2:].to_numpy(dtype=float), y=np.unique(y_train, return_inverse=True)[1], clf=dt_model, zoom_factor=6)"
   ]
  },
  {
   "cell_type": "markdown",
   "id": "continuing-indonesian",
   "metadata": {},
   "source": [
    "# Decision _Th(r)eory_\n",
    "\n",
    "Take a look at the provided article by Alan Jeffares!\n"
   ]
  },
  {
   "cell_type": "markdown",
   "id": "objective-square",
   "metadata": {},
   "source": [
    "# Real Life Example: _Breast Cancer_ Data Set\n",
    "\n",
    "![](images/breast-cancer.png)\n",
    "\n",
    "Time to apply our new knowledge to a real and meaningful example. According to the _Mayo Clinic_, breast cancer is the most common form of cancer diagnosed in women in the united states - but there's also some optimistic news:\n",
    "\n",
    "> Substantial support for breast cancer awareness and research funding has helped created advances in the diagnosis and treatment of breast cancer. Breast cancer survival rates have increased, and the number of deaths associated with this disease is steadily declining, largely due to factors such as earlier detection, a new personalized approach to treatment and a better understanding of the disease.\n",
    "\n",
    "Maybe the chances for early detection could be increased even further by _machine learning_?\n",
    "\n",
    "For this demo we'll be working with the _Breast Cancer Wisconsin_ dataset, containing features computed from a digitized image of a _fine needle aspirate_ (_FNA_) of breast mass. They describe characteristics of the cell nuclei present in the image. Our _target_ is the prediction whether the tissue sample is _malignant_ or not.\n",
    "\n",
    "To focus on the task at hand - the prediction itself - we'll limit ourselves to a quick peek at the data and skip the visualization for now:"
   ]
  },
  {
   "cell_type": "code",
   "execution_count": 65,
   "id": "entire-harvey",
   "metadata": {},
   "outputs": [],
   "source": [
    "bcw_data = pd.read_csv('./breast-cancer-prepared.csv')"
   ]
  },
  {
   "cell_type": "code",
   "execution_count": 66,
   "id": "incredible-network",
   "metadata": {},
   "outputs": [
    {
     "data": {
      "text/html": [
       "<div>\n",
       "<style scoped>\n",
       "    .dataframe tbody tr th:only-of-type {\n",
       "        vertical-align: middle;\n",
       "    }\n",
       "\n",
       "    .dataframe tbody tr th {\n",
       "        vertical-align: top;\n",
       "    }\n",
       "\n",
       "    .dataframe thead th {\n",
       "        text-align: right;\n",
       "    }\n",
       "</style>\n",
       "<table border=\"1\" class=\"dataframe\">\n",
       "  <thead>\n",
       "    <tr style=\"text-align: right;\">\n",
       "      <th></th>\n",
       "      <th>mean radius</th>\n",
       "      <th>mean texture</th>\n",
       "      <th>mean perimeter</th>\n",
       "      <th>mean area</th>\n",
       "      <th>mean smoothness</th>\n",
       "      <th>mean compactness</th>\n",
       "      <th>mean concavity</th>\n",
       "      <th>mean concave points</th>\n",
       "      <th>mean symmetry</th>\n",
       "      <th>mean fractal dimension</th>\n",
       "      <th>...</th>\n",
       "      <th>worst texture</th>\n",
       "      <th>worst perimeter</th>\n",
       "      <th>worst area</th>\n",
       "      <th>worst smoothness</th>\n",
       "      <th>worst compactness</th>\n",
       "      <th>worst concavity</th>\n",
       "      <th>worst concave points</th>\n",
       "      <th>worst symmetry</th>\n",
       "      <th>worst fractal dimension</th>\n",
       "      <th>is_malignant</th>\n",
       "    </tr>\n",
       "  </thead>\n",
       "  <tbody>\n",
       "    <tr>\n",
       "      <th>172</th>\n",
       "      <td>15.460</td>\n",
       "      <td>11.89</td>\n",
       "      <td>102.50</td>\n",
       "      <td>736.9</td>\n",
       "      <td>0.12570</td>\n",
       "      <td>0.15550</td>\n",
       "      <td>0.203200</td>\n",
       "      <td>0.10970</td>\n",
       "      <td>0.1966</td>\n",
       "      <td>0.07069</td>\n",
       "      <td>...</td>\n",
       "      <td>17.04</td>\n",
       "      <td>125.00</td>\n",
       "      <td>1102.0</td>\n",
       "      <td>0.1531</td>\n",
       "      <td>0.35830</td>\n",
       "      <td>0.58300</td>\n",
       "      <td>NaN</td>\n",
       "      <td>0.3216</td>\n",
       "      <td>0.10100</td>\n",
       "      <td>1</td>\n",
       "    </tr>\n",
       "    <tr>\n",
       "      <th>553</th>\n",
       "      <td>9.333</td>\n",
       "      <td>21.94</td>\n",
       "      <td>59.01</td>\n",
       "      <td>264.0</td>\n",
       "      <td>0.09240</td>\n",
       "      <td>0.05605</td>\n",
       "      <td>0.039960</td>\n",
       "      <td>0.01282</td>\n",
       "      <td>0.1692</td>\n",
       "      <td>0.06576</td>\n",
       "      <td>...</td>\n",
       "      <td>25.05</td>\n",
       "      <td>62.86</td>\n",
       "      <td>295.8</td>\n",
       "      <td>0.1103</td>\n",
       "      <td>0.08298</td>\n",
       "      <td>0.07993</td>\n",
       "      <td>0.02564</td>\n",
       "      <td>NaN</td>\n",
       "      <td>0.07393</td>\n",
       "      <td>0</td>\n",
       "    </tr>\n",
       "    <tr>\n",
       "      <th>374</th>\n",
       "      <td>13.690</td>\n",
       "      <td>16.07</td>\n",
       "      <td>87.84</td>\n",
       "      <td>579.1</td>\n",
       "      <td>0.08302</td>\n",
       "      <td>0.06374</td>\n",
       "      <td>0.025560</td>\n",
       "      <td>0.02031</td>\n",
       "      <td>0.1872</td>\n",
       "      <td>0.05669</td>\n",
       "      <td>...</td>\n",
       "      <td>20.21</td>\n",
       "      <td>99.16</td>\n",
       "      <td>670.6</td>\n",
       "      <td>0.1105</td>\n",
       "      <td>0.20960</td>\n",
       "      <td>0.13460</td>\n",
       "      <td>0.06987</td>\n",
       "      <td>0.3323</td>\n",
       "      <td>0.07701</td>\n",
       "      <td>0</td>\n",
       "    </tr>\n",
       "    <tr>\n",
       "      <th>370</th>\n",
       "      <td>16.350</td>\n",
       "      <td>23.29</td>\n",
       "      <td>109.00</td>\n",
       "      <td>840.4</td>\n",
       "      <td>0.09742</td>\n",
       "      <td>0.14970</td>\n",
       "      <td>0.181100</td>\n",
       "      <td>0.08773</td>\n",
       "      <td>0.2175</td>\n",
       "      <td>0.06218</td>\n",
       "      <td>...</td>\n",
       "      <td>NaN</td>\n",
       "      <td>129.30</td>\n",
       "      <td>1165.0</td>\n",
       "      <td>0.1415</td>\n",
       "      <td>0.46650</td>\n",
       "      <td>0.70870</td>\n",
       "      <td>0.22480</td>\n",
       "      <td>0.4824</td>\n",
       "      <td>0.09614</td>\n",
       "      <td>1</td>\n",
       "    </tr>\n",
       "    <tr>\n",
       "      <th>419</th>\n",
       "      <td>11.160</td>\n",
       "      <td>21.41</td>\n",
       "      <td>70.95</td>\n",
       "      <td>380.3</td>\n",
       "      <td>0.10180</td>\n",
       "      <td>0.05978</td>\n",
       "      <td>0.008955</td>\n",
       "      <td>0.01076</td>\n",
       "      <td>0.1615</td>\n",
       "      <td>0.06144</td>\n",
       "      <td>...</td>\n",
       "      <td>28.92</td>\n",
       "      <td>79.26</td>\n",
       "      <td>NaN</td>\n",
       "      <td>0.1282</td>\n",
       "      <td>0.11080</td>\n",
       "      <td>0.03582</td>\n",
       "      <td>0.04306</td>\n",
       "      <td>0.2976</td>\n",
       "      <td>0.07123</td>\n",
       "      <td>0</td>\n",
       "    </tr>\n",
       "    <tr>\n",
       "      <th>152</th>\n",
       "      <td>9.731</td>\n",
       "      <td>15.34</td>\n",
       "      <td>63.78</td>\n",
       "      <td>300.2</td>\n",
       "      <td>0.10720</td>\n",
       "      <td>0.15990</td>\n",
       "      <td>0.410800</td>\n",
       "      <td>0.07857</td>\n",
       "      <td>0.2548</td>\n",
       "      <td>0.09296</td>\n",
       "      <td>...</td>\n",
       "      <td>NaN</td>\n",
       "      <td>71.04</td>\n",
       "      <td>380.5</td>\n",
       "      <td>0.1292</td>\n",
       "      <td>0.27720</td>\n",
       "      <td>0.82160</td>\n",
       "      <td>0.15710</td>\n",
       "      <td>0.3108</td>\n",
       "      <td>0.12590</td>\n",
       "      <td>0</td>\n",
       "    </tr>\n",
       "    <tr>\n",
       "      <th>550</th>\n",
       "      <td>10.860</td>\n",
       "      <td>21.48</td>\n",
       "      <td>68.51</td>\n",
       "      <td>360.5</td>\n",
       "      <td>0.07431</td>\n",
       "      <td>0.04227</td>\n",
       "      <td>0.000000</td>\n",
       "      <td>0.00000</td>\n",
       "      <td>0.1661</td>\n",
       "      <td>0.05948</td>\n",
       "      <td>...</td>\n",
       "      <td>24.77</td>\n",
       "      <td>74.08</td>\n",
       "      <td>NaN</td>\n",
       "      <td>0.1001</td>\n",
       "      <td>0.07348</td>\n",
       "      <td>0.00000</td>\n",
       "      <td>0.00000</td>\n",
       "      <td>0.2458</td>\n",
       "      <td>0.06592</td>\n",
       "      <td>0</td>\n",
       "    </tr>\n",
       "    <tr>\n",
       "      <th>92</th>\n",
       "      <td>13.270</td>\n",
       "      <td>14.76</td>\n",
       "      <td>84.74</td>\n",
       "      <td>551.7</td>\n",
       "      <td>0.07355</td>\n",
       "      <td>0.05055</td>\n",
       "      <td>0.032610</td>\n",
       "      <td>0.02648</td>\n",
       "      <td>0.1386</td>\n",
       "      <td>0.05318</td>\n",
       "      <td>...</td>\n",
       "      <td>22.35</td>\n",
       "      <td>104.50</td>\n",
       "      <td>830.6</td>\n",
       "      <td>0.1006</td>\n",
       "      <td>0.12380</td>\n",
       "      <td>0.13500</td>\n",
       "      <td>0.10010</td>\n",
       "      <td>NaN</td>\n",
       "      <td>0.06206</td>\n",
       "      <td>0</td>\n",
       "    </tr>\n",
       "    <tr>\n",
       "      <th>264</th>\n",
       "      <td>NaN</td>\n",
       "      <td>22.07</td>\n",
       "      <td>111.60</td>\n",
       "      <td>928.3</td>\n",
       "      <td>0.09726</td>\n",
       "      <td>0.08995</td>\n",
       "      <td>0.090610</td>\n",
       "      <td>0.06527</td>\n",
       "      <td>0.1867</td>\n",
       "      <td>0.05580</td>\n",
       "      <td>...</td>\n",
       "      <td>29.33</td>\n",
       "      <td>140.50</td>\n",
       "      <td>1436.0</td>\n",
       "      <td>0.1558</td>\n",
       "      <td>0.25670</td>\n",
       "      <td>0.38890</td>\n",
       "      <td>0.19840</td>\n",
       "      <td>0.3216</td>\n",
       "      <td>0.07570</td>\n",
       "      <td>1</td>\n",
       "    </tr>\n",
       "    <tr>\n",
       "      <th>214</th>\n",
       "      <td>14.190</td>\n",
       "      <td>23.81</td>\n",
       "      <td>92.87</td>\n",
       "      <td>610.7</td>\n",
       "      <td>0.09463</td>\n",
       "      <td>0.13060</td>\n",
       "      <td>0.111500</td>\n",
       "      <td>0.06462</td>\n",
       "      <td>0.2235</td>\n",
       "      <td>0.06433</td>\n",
       "      <td>...</td>\n",
       "      <td>34.85</td>\n",
       "      <td>115.00</td>\n",
       "      <td>811.3</td>\n",
       "      <td>0.1559</td>\n",
       "      <td>0.40590</td>\n",
       "      <td>0.37440</td>\n",
       "      <td>0.17720</td>\n",
       "      <td>0.4724</td>\n",
       "      <td>0.10260</td>\n",
       "      <td>1</td>\n",
       "    </tr>\n",
       "  </tbody>\n",
       "</table>\n",
       "<p>10 rows × 31 columns</p>\n",
       "</div>"
      ],
      "text/plain": [
       "     mean radius  mean texture  mean perimeter  mean area  mean smoothness  \\\n",
       "172       15.460         11.89          102.50      736.9          0.12570   \n",
       "553        9.333         21.94           59.01      264.0          0.09240   \n",
       "374       13.690         16.07           87.84      579.1          0.08302   \n",
       "370       16.350         23.29          109.00      840.4          0.09742   \n",
       "419       11.160         21.41           70.95      380.3          0.10180   \n",
       "152        9.731         15.34           63.78      300.2          0.10720   \n",
       "550       10.860         21.48           68.51      360.5          0.07431   \n",
       "92        13.270         14.76           84.74      551.7          0.07355   \n",
       "264          NaN         22.07          111.60      928.3          0.09726   \n",
       "214       14.190         23.81           92.87      610.7          0.09463   \n",
       "\n",
       "     mean compactness  mean concavity  mean concave points  mean symmetry  \\\n",
       "172           0.15550        0.203200              0.10970         0.1966   \n",
       "553           0.05605        0.039960              0.01282         0.1692   \n",
       "374           0.06374        0.025560              0.02031         0.1872   \n",
       "370           0.14970        0.181100              0.08773         0.2175   \n",
       "419           0.05978        0.008955              0.01076         0.1615   \n",
       "152           0.15990        0.410800              0.07857         0.2548   \n",
       "550           0.04227        0.000000              0.00000         0.1661   \n",
       "92            0.05055        0.032610              0.02648         0.1386   \n",
       "264           0.08995        0.090610              0.06527         0.1867   \n",
       "214           0.13060        0.111500              0.06462         0.2235   \n",
       "\n",
       "     mean fractal dimension  ...  worst texture  worst perimeter  worst area  \\\n",
       "172                 0.07069  ...          17.04           125.00      1102.0   \n",
       "553                 0.06576  ...          25.05            62.86       295.8   \n",
       "374                 0.05669  ...          20.21            99.16       670.6   \n",
       "370                 0.06218  ...            NaN           129.30      1165.0   \n",
       "419                 0.06144  ...          28.92            79.26         NaN   \n",
       "152                 0.09296  ...            NaN            71.04       380.5   \n",
       "550                 0.05948  ...          24.77            74.08         NaN   \n",
       "92                  0.05318  ...          22.35           104.50       830.6   \n",
       "264                 0.05580  ...          29.33           140.50      1436.0   \n",
       "214                 0.06433  ...          34.85           115.00       811.3   \n",
       "\n",
       "     worst smoothness  worst compactness  worst concavity  \\\n",
       "172            0.1531            0.35830          0.58300   \n",
       "553            0.1103            0.08298          0.07993   \n",
       "374            0.1105            0.20960          0.13460   \n",
       "370            0.1415            0.46650          0.70870   \n",
       "419            0.1282            0.11080          0.03582   \n",
       "152            0.1292            0.27720          0.82160   \n",
       "550            0.1001            0.07348          0.00000   \n",
       "92             0.1006            0.12380          0.13500   \n",
       "264            0.1558            0.25670          0.38890   \n",
       "214            0.1559            0.40590          0.37440   \n",
       "\n",
       "     worst concave points  worst symmetry  worst fractal dimension  \\\n",
       "172                   NaN          0.3216                  0.10100   \n",
       "553               0.02564             NaN                  0.07393   \n",
       "374               0.06987          0.3323                  0.07701   \n",
       "370               0.22480          0.4824                  0.09614   \n",
       "419               0.04306          0.2976                  0.07123   \n",
       "152               0.15710          0.3108                  0.12590   \n",
       "550               0.00000          0.2458                  0.06592   \n",
       "92                0.10010             NaN                  0.06206   \n",
       "264               0.19840          0.3216                  0.07570   \n",
       "214               0.17720          0.4724                  0.10260   \n",
       "\n",
       "     is_malignant  \n",
       "172             1  \n",
       "553             0  \n",
       "374             0  \n",
       "370             1  \n",
       "419             0  \n",
       "152             0  \n",
       "550             0  \n",
       "92              0  \n",
       "264             1  \n",
       "214             1  \n",
       "\n",
       "[10 rows x 31 columns]"
      ]
     },
     "execution_count": 66,
     "metadata": {},
     "output_type": "execute_result"
    }
   ],
   "source": [
    "bcw_data.sample(10, random_state=my_random_state)"
   ]
  },
  {
   "cell_type": "code",
   "execution_count": 67,
   "id": "adapted-bikini",
   "metadata": {},
   "outputs": [
    {
     "name": "stdout",
     "output_type": "stream",
     "text": [
      "<class 'pandas.core.frame.DataFrame'>\n",
      "RangeIndex: 569 entries, 0 to 568\n",
      "Data columns (total 31 columns):\n",
      " #   Column                   Non-Null Count  Dtype  \n",
      "---  ------                   --------------  -----  \n",
      " 0   mean radius              567 non-null    float64\n",
      " 1   mean texture             564 non-null    float64\n",
      " 2   mean perimeter           566 non-null    float64\n",
      " 3   mean area                569 non-null    float64\n",
      " 4   mean smoothness          569 non-null    float64\n",
      " 5   mean compactness         560 non-null    float64\n",
      " 6   mean concavity           569 non-null    float64\n",
      " 7   mean concave points      558 non-null    float64\n",
      " 8   mean symmetry            560 non-null    float64\n",
      " 9   mean fractal dimension   562 non-null    float64\n",
      " 10  radius error             569 non-null    float64\n",
      " 11  texture error            569 non-null    float64\n",
      " 12  perimeter error          569 non-null    float64\n",
      " 13  area error               544 non-null    float64\n",
      " 14  smoothness error         569 non-null    float64\n",
      " 15  compactness error        547 non-null    float64\n",
      " 16  concavity error          569 non-null    float64\n",
      " 17  concave points error     569 non-null    float64\n",
      " 18  symmetry error           564 non-null    float64\n",
      " 19  fractal dimension error  525 non-null    float64\n",
      " 20  worst radius             516 non-null    float64\n",
      " 21  worst texture            480 non-null    float64\n",
      " 22  worst perimeter          569 non-null    float64\n",
      " 23  worst area               462 non-null    float64\n",
      " 24  worst smoothness         569 non-null    float64\n",
      " 25  worst compactness        569 non-null    float64\n",
      " 26  worst concavity          569 non-null    float64\n",
      " 27  worst concave points     502 non-null    float64\n",
      " 28  worst symmetry           467 non-null    float64\n",
      " 29  worst fractal dimension  569 non-null    float64\n",
      " 30  is_malignant             569 non-null    int64  \n",
      "dtypes: float64(30), int64(1)\n",
      "memory usage: 137.9 KB\n"
     ]
    }
   ],
   "source": [
    "bcw_data.info()"
   ]
  },
  {
   "cell_type": "code",
   "execution_count": 68,
   "id": "apart-activity",
   "metadata": {
    "scrolled": true
   },
   "outputs": [
    {
     "data": {
      "text/html": [
       "<div>\n",
       "<style scoped>\n",
       "    .dataframe tbody tr th:only-of-type {\n",
       "        vertical-align: middle;\n",
       "    }\n",
       "\n",
       "    .dataframe tbody tr th {\n",
       "        vertical-align: top;\n",
       "    }\n",
       "\n",
       "    .dataframe thead th {\n",
       "        text-align: right;\n",
       "    }\n",
       "</style>\n",
       "<table border=\"1\" class=\"dataframe\">\n",
       "  <thead>\n",
       "    <tr style=\"text-align: right;\">\n",
       "      <th></th>\n",
       "      <th>mean radius</th>\n",
       "      <th>mean texture</th>\n",
       "      <th>mean perimeter</th>\n",
       "      <th>mean area</th>\n",
       "      <th>mean smoothness</th>\n",
       "      <th>mean compactness</th>\n",
       "      <th>mean concavity</th>\n",
       "      <th>mean concave points</th>\n",
       "      <th>mean symmetry</th>\n",
       "      <th>mean fractal dimension</th>\n",
       "      <th>...</th>\n",
       "      <th>worst texture</th>\n",
       "      <th>worst perimeter</th>\n",
       "      <th>worst area</th>\n",
       "      <th>worst smoothness</th>\n",
       "      <th>worst compactness</th>\n",
       "      <th>worst concavity</th>\n",
       "      <th>worst concave points</th>\n",
       "      <th>worst symmetry</th>\n",
       "      <th>worst fractal dimension</th>\n",
       "      <th>is_malignant</th>\n",
       "    </tr>\n",
       "  </thead>\n",
       "  <tbody>\n",
       "    <tr>\n",
       "      <th>count</th>\n",
       "      <td>567.000000</td>\n",
       "      <td>564.000000</td>\n",
       "      <td>566.000000</td>\n",
       "      <td>569.000000</td>\n",
       "      <td>569.000000</td>\n",
       "      <td>560.000000</td>\n",
       "      <td>569.000000</td>\n",
       "      <td>558.000000</td>\n",
       "      <td>560.000000</td>\n",
       "      <td>562.000000</td>\n",
       "      <td>...</td>\n",
       "      <td>480.000000</td>\n",
       "      <td>569.000000</td>\n",
       "      <td>462.000000</td>\n",
       "      <td>569.000000</td>\n",
       "      <td>569.000000</td>\n",
       "      <td>569.000000</td>\n",
       "      <td>502.000000</td>\n",
       "      <td>467.000000</td>\n",
       "      <td>569.000000</td>\n",
       "      <td>569.000000</td>\n",
       "    </tr>\n",
       "    <tr>\n",
       "      <th>mean</th>\n",
       "      <td>14.122344</td>\n",
       "      <td>19.250656</td>\n",
       "      <td>91.905936</td>\n",
       "      <td>654.889104</td>\n",
       "      <td>0.096360</td>\n",
       "      <td>0.104689</td>\n",
       "      <td>0.088799</td>\n",
       "      <td>0.048947</td>\n",
       "      <td>0.181260</td>\n",
       "      <td>0.062770</td>\n",
       "      <td>...</td>\n",
       "      <td>25.538187</td>\n",
       "      <td>107.261213</td>\n",
       "      <td>878.514935</td>\n",
       "      <td>0.132369</td>\n",
       "      <td>0.254265</td>\n",
       "      <td>0.272188</td>\n",
       "      <td>0.113485</td>\n",
       "      <td>0.289594</td>\n",
       "      <td>0.083946</td>\n",
       "      <td>0.372583</td>\n",
       "    </tr>\n",
       "    <tr>\n",
       "      <th>std</th>\n",
       "      <td>3.527902</td>\n",
       "      <td>4.259503</td>\n",
       "      <td>24.345462</td>\n",
       "      <td>351.914129</td>\n",
       "      <td>0.014064</td>\n",
       "      <td>0.053012</td>\n",
       "      <td>0.079720</td>\n",
       "      <td>0.038802</td>\n",
       "      <td>0.027522</td>\n",
       "      <td>0.007040</td>\n",
       "      <td>...</td>\n",
       "      <td>6.029237</td>\n",
       "      <td>33.602542</td>\n",
       "      <td>553.542968</td>\n",
       "      <td>0.022832</td>\n",
       "      <td>0.157336</td>\n",
       "      <td>0.208624</td>\n",
       "      <td>0.066139</td>\n",
       "      <td>0.060857</td>\n",
       "      <td>0.018061</td>\n",
       "      <td>0.483918</td>\n",
       "    </tr>\n",
       "    <tr>\n",
       "      <th>min</th>\n",
       "      <td>6.981000</td>\n",
       "      <td>9.710000</td>\n",
       "      <td>43.790000</td>\n",
       "      <td>143.500000</td>\n",
       "      <td>0.052630</td>\n",
       "      <td>0.019380</td>\n",
       "      <td>0.000000</td>\n",
       "      <td>0.000000</td>\n",
       "      <td>0.106000</td>\n",
       "      <td>0.049960</td>\n",
       "      <td>...</td>\n",
       "      <td>12.020000</td>\n",
       "      <td>50.410000</td>\n",
       "      <td>185.200000</td>\n",
       "      <td>0.071170</td>\n",
       "      <td>0.027290</td>\n",
       "      <td>0.000000</td>\n",
       "      <td>0.000000</td>\n",
       "      <td>0.156500</td>\n",
       "      <td>0.055040</td>\n",
       "      <td>0.000000</td>\n",
       "    </tr>\n",
       "    <tr>\n",
       "      <th>25%</th>\n",
       "      <td>11.695000</td>\n",
       "      <td>16.170000</td>\n",
       "      <td>75.065000</td>\n",
       "      <td>420.300000</td>\n",
       "      <td>0.086370</td>\n",
       "      <td>0.065403</td>\n",
       "      <td>0.029560</td>\n",
       "      <td>0.020413</td>\n",
       "      <td>0.162000</td>\n",
       "      <td>0.057693</td>\n",
       "      <td>...</td>\n",
       "      <td>21.160000</td>\n",
       "      <td>84.110000</td>\n",
       "      <td>516.825000</td>\n",
       "      <td>0.116600</td>\n",
       "      <td>0.147200</td>\n",
       "      <td>0.114500</td>\n",
       "      <td>0.062960</td>\n",
       "      <td>0.251150</td>\n",
       "      <td>0.071460</td>\n",
       "      <td>0.000000</td>\n",
       "    </tr>\n",
       "    <tr>\n",
       "      <th>50%</th>\n",
       "      <td>13.340000</td>\n",
       "      <td>18.835000</td>\n",
       "      <td>86.140000</td>\n",
       "      <td>551.100000</td>\n",
       "      <td>0.095870</td>\n",
       "      <td>0.094035</td>\n",
       "      <td>0.061540</td>\n",
       "      <td>0.033600</td>\n",
       "      <td>0.179200</td>\n",
       "      <td>0.061515</td>\n",
       "      <td>...</td>\n",
       "      <td>25.245000</td>\n",
       "      <td>97.660000</td>\n",
       "      <td>696.050000</td>\n",
       "      <td>0.131300</td>\n",
       "      <td>0.211900</td>\n",
       "      <td>0.226700</td>\n",
       "      <td>0.097660</td>\n",
       "      <td>0.282300</td>\n",
       "      <td>0.080040</td>\n",
       "      <td>0.000000</td>\n",
       "    </tr>\n",
       "    <tr>\n",
       "      <th>75%</th>\n",
       "      <td>15.780000</td>\n",
       "      <td>21.735000</td>\n",
       "      <td>104.025000</td>\n",
       "      <td>782.700000</td>\n",
       "      <td>0.105300</td>\n",
       "      <td>0.130500</td>\n",
       "      <td>0.130700</td>\n",
       "      <td>0.073910</td>\n",
       "      <td>0.195750</td>\n",
       "      <td>0.066120</td>\n",
       "      <td>...</td>\n",
       "      <td>29.170000</td>\n",
       "      <td>125.400000</td>\n",
       "      <td>1041.750000</td>\n",
       "      <td>0.146000</td>\n",
       "      <td>0.339100</td>\n",
       "      <td>0.382900</td>\n",
       "      <td>0.162225</td>\n",
       "      <td>0.318150</td>\n",
       "      <td>0.092080</td>\n",
       "      <td>1.000000</td>\n",
       "    </tr>\n",
       "    <tr>\n",
       "      <th>max</th>\n",
       "      <td>28.110000</td>\n",
       "      <td>39.280000</td>\n",
       "      <td>188.500000</td>\n",
       "      <td>2501.000000</td>\n",
       "      <td>0.163400</td>\n",
       "      <td>0.345400</td>\n",
       "      <td>0.426800</td>\n",
       "      <td>0.201200</td>\n",
       "      <td>0.304000</td>\n",
       "      <td>0.097440</td>\n",
       "      <td>...</td>\n",
       "      <td>49.540000</td>\n",
       "      <td>251.200000</td>\n",
       "      <td>3432.000000</td>\n",
       "      <td>0.222600</td>\n",
       "      <td>1.058000</td>\n",
       "      <td>1.252000</td>\n",
       "      <td>0.290300</td>\n",
       "      <td>0.663800</td>\n",
       "      <td>0.207500</td>\n",
       "      <td>1.000000</td>\n",
       "    </tr>\n",
       "  </tbody>\n",
       "</table>\n",
       "<p>8 rows × 31 columns</p>\n",
       "</div>"
      ],
      "text/plain": [
       "       mean radius  mean texture  mean perimeter    mean area  \\\n",
       "count   567.000000    564.000000      566.000000   569.000000   \n",
       "mean     14.122344     19.250656       91.905936   654.889104   \n",
       "std       3.527902      4.259503       24.345462   351.914129   \n",
       "min       6.981000      9.710000       43.790000   143.500000   \n",
       "25%      11.695000     16.170000       75.065000   420.300000   \n",
       "50%      13.340000     18.835000       86.140000   551.100000   \n",
       "75%      15.780000     21.735000      104.025000   782.700000   \n",
       "max      28.110000     39.280000      188.500000  2501.000000   \n",
       "\n",
       "       mean smoothness  mean compactness  mean concavity  mean concave points  \\\n",
       "count       569.000000        560.000000      569.000000           558.000000   \n",
       "mean          0.096360          0.104689        0.088799             0.048947   \n",
       "std           0.014064          0.053012        0.079720             0.038802   \n",
       "min           0.052630          0.019380        0.000000             0.000000   \n",
       "25%           0.086370          0.065403        0.029560             0.020413   \n",
       "50%           0.095870          0.094035        0.061540             0.033600   \n",
       "75%           0.105300          0.130500        0.130700             0.073910   \n",
       "max           0.163400          0.345400        0.426800             0.201200   \n",
       "\n",
       "       mean symmetry  mean fractal dimension  ...  worst texture  \\\n",
       "count     560.000000              562.000000  ...     480.000000   \n",
       "mean        0.181260                0.062770  ...      25.538187   \n",
       "std         0.027522                0.007040  ...       6.029237   \n",
       "min         0.106000                0.049960  ...      12.020000   \n",
       "25%         0.162000                0.057693  ...      21.160000   \n",
       "50%         0.179200                0.061515  ...      25.245000   \n",
       "75%         0.195750                0.066120  ...      29.170000   \n",
       "max         0.304000                0.097440  ...      49.540000   \n",
       "\n",
       "       worst perimeter   worst area  worst smoothness  worst compactness  \\\n",
       "count       569.000000   462.000000        569.000000         569.000000   \n",
       "mean        107.261213   878.514935          0.132369           0.254265   \n",
       "std          33.602542   553.542968          0.022832           0.157336   \n",
       "min          50.410000   185.200000          0.071170           0.027290   \n",
       "25%          84.110000   516.825000          0.116600           0.147200   \n",
       "50%          97.660000   696.050000          0.131300           0.211900   \n",
       "75%         125.400000  1041.750000          0.146000           0.339100   \n",
       "max         251.200000  3432.000000          0.222600           1.058000   \n",
       "\n",
       "       worst concavity  worst concave points  worst symmetry  \\\n",
       "count       569.000000            502.000000      467.000000   \n",
       "mean          0.272188              0.113485        0.289594   \n",
       "std           0.208624              0.066139        0.060857   \n",
       "min           0.000000              0.000000        0.156500   \n",
       "25%           0.114500              0.062960        0.251150   \n",
       "50%           0.226700              0.097660        0.282300   \n",
       "75%           0.382900              0.162225        0.318150   \n",
       "max           1.252000              0.290300        0.663800   \n",
       "\n",
       "       worst fractal dimension  is_malignant  \n",
       "count               569.000000    569.000000  \n",
       "mean                  0.083946      0.372583  \n",
       "std                   0.018061      0.483918  \n",
       "min                   0.055040      0.000000  \n",
       "25%                   0.071460      0.000000  \n",
       "50%                   0.080040      0.000000  \n",
       "75%                   0.092080      1.000000  \n",
       "max                   0.207500      1.000000  \n",
       "\n",
       "[8 rows x 31 columns]"
      ]
     },
     "execution_count": 68,
     "metadata": {},
     "output_type": "execute_result"
    }
   ],
   "source": [
    "bcw_data.describe()"
   ]
  },
  {
   "cell_type": "markdown",
   "id": "improving-routine",
   "metadata": {},
   "source": [
    "## Splitting And _Stratification_"
   ]
  },
  {
   "cell_type": "markdown",
   "id": "blessed-spirit",
   "metadata": {},
   "source": [
    "As you've already learned, we can adjust _hyperparameters_ to tune our model's performance. But how can we both tune and find out, which combination of hyperparameters (and preprocessing methods) performs best on unseen data?\n",
    "\n",
    "* If we tweak and evaluate using the _training_ data we risk _overfitting_ - after all, we have no idea, if our model simply _memorizes the right answers_.\n",
    "* If we tweak and evaluate using the _test_ data we risk adapting to data, that should have remained unseen - preventing an unbiased evaluation of how well our model performs on unseen data.\n",
    "\n",
    "This is where the additional _validation_ set comes into play:\n",
    "\n",
    "* We use the _training_ data to train our model.\n",
    "* We play around with various hyperparameters (and preprocessing methods) and evaluate the performance using the _validation_ set.\n",
    "* As soon as we have found the model that performs best on the validation set, we can use the unseen data in the _test_ set for the final evaluation.\n",
    "\n",
    "The following image (from _V7 Labs_) illustrates the general process:\n",
    "\n",
    "![](images/train_val_test_process.png)\n",
    "\n",
    "As always, there is no _one size fits all_ split percentage we can use, since it's hugely depending on the data (and amount of it). The following typical split percentages are suggested by _V7 Labs_:\n",
    "\n",
    "![](images/train_val_test_percentages.png)"
   ]
  },
  {
   "cell_type": "markdown",
   "id": "recreational-conditions",
   "metadata": {},
   "source": [
    "We'll be using the 70%-15%-15%-split for this demo. For this we can reuse the `train_test_split` method by simply calling it two times:"
   ]
  },
  {
   "cell_type": "code",
   "execution_count": 69,
   "id": "turned-burner",
   "metadata": {},
   "outputs": [],
   "source": [
    "my_test_and_val_ratio = 0.3"
   ]
  },
  {
   "cell_type": "code",
   "execution_count": 70,
   "id": "suspected-affiliate",
   "metadata": {},
   "outputs": [],
   "source": [
    "X = bcw_data[bcw_data.columns[:-1]]\n",
    "y = bcw_data['is_malignant']\n",
    "#0.3 => 70% training and 30% testing\n",
    "X_train, X_test_full, y_train, y_test_full = train_test_split(X, y, random_state=my_random_state, test_size=my_test_and_val_ratio)\n",
    "#0.5 on the testing => 15% testing and 15% validation\n",
    "X_val, X_test, y_val, y_test = train_test_split(X_test_full, y_test_full, random_state=my_random_state, test_size=0.5)"
   ]
  },
  {
   "cell_type": "code",
   "execution_count": 71,
   "id": "established-dispatch",
   "metadata": {},
   "outputs": [
    {
     "data": {
      "text/plain": [
       "array([<Axes: ylabel='0'>], dtype=object)"
      ]
     },
     "execution_count": 71,
     "metadata": {},
     "output_type": "execute_result"
    },
    {
     "data": {
      "image/png": "[encoded data removed]",
      "text/plain": [
       "<Figure size 640x480 with 1 Axes>"
      ]
     },
     "metadata": {},
     "output_type": "display_data"
    }
   ],
   "source": [
    "#just to be sure :) - let us check via the lenght of the datasets\n",
    "pd.DataFrame([len(y_train), len(y_val), len(y_test)], index=['train', 'validation', 'test']).plot(kind='pie', subplots=True)"
   ]
  },
  {
   "cell_type": "markdown",
   "id": "colonial-prevention",
   "metadata": {},
   "source": [
    "The above pie chart shows that we correctly split the data. Or did we? Is there anything else we need to look out for?\n",
    "\n",
    "Let's take a look at the _class distributions_ across the three sets - i.e. how many of the recorded tissue samples are malignant per set:"
   ]
  },
  {
   "cell_type": "code",
   "execution_count": 72,
   "id": "entire-virginia",
   "metadata": {
    "scrolled": true
   },
   "outputs": [
    {
     "data": {
      "text/plain": [
       "<Axes: title={'center': 'test'}, ylabel='count'>"
      ]
     },
     "execution_count": 72,
     "metadata": {},
     "output_type": "execute_result"
    },
    {
     "data": {
      "image/png": "[encoded data removed]",
      "text/plain": [
       "<Figure size 1200x600 with 3 Axes>"
      ]
     },
     "metadata": {},
     "output_type": "display_data"
    }
   ],
   "source": [
    "fig, (ax1, ax2, ax3) = plt.subplots(1, 3, figsize=(12,6))\n",
    "y_train.value_counts().plot(kind='pie', ax=ax1, title='train')\n",
    "y_val.value_counts().plot(kind='pie', ax=ax2, title='val')\n",
    "y_test.value_counts().plot(kind='pie', ax=ax3, title='test')"
   ]
  },
  {
   "cell_type": "markdown",
   "id": "functional-truck",
   "metadata": {},
   "source": [
    "As we can see, the classes are not distributed equally - in our case the validation set contains less malignant samples than the others. Depending on the random seed we use, this can drastically change - and drastically influence our machine learning model and its evaluation. E.g. imagine an extreme case, where the malignant samples are severly underrepresented in the training set: How should our model learn, how to detect cancerous cells?\n",
    "\n",
    "Let's take a look at the overall class distribution across all data:"
   ]
  },
  {
   "cell_type": "code",
   "execution_count": 73,
   "id": "accompanied-pickup",
   "metadata": {
    "scrolled": true
   },
   "outputs": [
    {
     "data": {
      "text/plain": [
       "is_malignant\n",
       "0    357\n",
       "1    212\n",
       "Name: count, dtype: int64"
      ]
     },
     "execution_count": 73,
     "metadata": {},
     "output_type": "execute_result"
    }
   ],
   "source": [
    "bcw_data['is_malignant'].value_counts()"
   ]
  },
  {
   "cell_type": "code",
   "execution_count": 74,
   "id": "accessory-project",
   "metadata": {},
   "outputs": [
    {
     "data": {
      "text/plain": [
       "<Axes: ylabel='count'>"
      ]
     },
     "execution_count": 74,
     "metadata": {},
     "output_type": "execute_result"
    },
    {
     "data": {
      "image/png": "[encoded data removed]",
      "text/plain": [
       "<Figure size 640x480 with 1 Axes>"
      ]
     },
     "metadata": {},
     "output_type": "display_data"
    }
   ],
   "source": [
    "bcw_data['is_malignant'].value_counts().plot(kind='pie')"
   ]
  },
  {
   "cell_type": "markdown",
   "id": "figured-death",
   "metadata": {},
   "source": [
    "As you see we're dealing with a slightly _imbalanced_ distribution of target classes. It makes sense to ensure the same proportions when splitting into _training_ and _testing_ data. This is called **_stratification_** (or _stratified sampling_) and can be easily achieved using the `stratify` parameter:"
   ]
  },
  {
   "cell_type": "code",
   "execution_count": 75,
   "id": "conservative-hurricane",
   "metadata": {
    "scrolled": true
   },
   "outputs": [],
   "source": [
    "X = bcw_data[bcw_data.columns[:-1]]\n",
    "y = bcw_data['is_malignant']\n",
    "\n",
    "#same as before - this time with stratify!\n",
    "X_train, X_test_full, y_train, y_test_full = train_test_split(X, y, random_state=my_random_state, test_size=my_test_and_val_ratio, stratify=y)\n",
    "X_val, X_test, y_val, y_test = train_test_split(X_test_full, y_test_full, random_state=my_random_state, test_size=0.5, stratify=y_test_full)"
   ]
  },
  {
   "cell_type": "code",
   "execution_count": 76,
   "id": "leading-relations",
   "metadata": {},
   "outputs": [
    {
     "data": {
      "text/plain": [
       "<Axes: title={'center': 'test'}, ylabel='count'>"
      ]
     },
     "execution_count": 76,
     "metadata": {},
     "output_type": "execute_result"
    },
    {
     "data": {
      "image/png": "[encoded data removed]",
      "text/plain": [
       "<Figure size 1200x600 with 3 Axes>"
      ]
     },
     "metadata": {},
     "output_type": "display_data"
    }
   ],
   "source": [
    "fig, (ax1, ax2, ax3) = plt.subplots(1, 3, figsize=(12,6))\n",
    "y_train.value_counts().plot(kind='pie', ax=ax1, title='train')\n",
    "y_val.value_counts().plot(kind='pie', ax=ax2, title='val')\n",
    "y_test.value_counts().plot(kind='pie', ax=ax3, title='test')"
   ]
  },
  {
   "cell_type": "markdown",
   "id": "under-dressing",
   "metadata": {},
   "source": [
    "Et voilà - the proportion of malignant samples is now the same across all sets. We can continue with the training."
   ]
  },
  {
   "cell_type": "markdown",
   "id": "liberal-county",
   "metadata": {},
   "source": [
    "## Baseline\n",
    "\n",
    "When starting a machine learning project, it's a good idea to define a _baseline_ to compare against. We can easily achieve this using a `DummyClassifier`: In combination with the `most_frequent` parameter, it ignores all the features and simply returns the most often observed label. Since approximately two out of three tissue samples are benign, this is analogous to saying _every sample is benign_ - resulting in an accuracy slightly above 60%:"
   ]
  },
  {
   "cell_type": "code",
   "execution_count": 77,
   "id": "built-lafayette",
   "metadata": {},
   "outputs": [],
   "source": [
    "from sklearn.dummy import DummyClassifier"
   ]
  },
  {
   "cell_type": "code",
   "execution_count": 78,
   "id": "transparent-coach",
   "metadata": {},
   "outputs": [
    {
     "name": "stdout",
     "output_type": "stream",
     "text": [
      "Accuracy: 62.79%\n"
     ]
    }
   ],
   "source": [
    "dummy_model = DummyClassifier(strategy='most_frequent')\n",
    "dummy_model.fit(X_train, y_train)\n",
    "\n",
    "y_pred = dummy_model.predict(X_test)\n",
    "\n",
    "accuracy_score = metrics.accuracy_score(y_test, y_pred)\n",
    "print('Accuracy: {:.2%}'.format(accuracy_score))"
   ]
  },
  {
   "cell_type": "markdown",
   "id": "roman-fighter",
   "metadata": {},
   "source": [
    "## First Try With A Decision Tree\n",
    "\n",
    "Let's see if we can beat the baseline using a decision tree and all columns (but the label obviously) as features:"
   ]
  },
  {
   "cell_type": "code",
   "execution_count": 79,
   "id": "exempt-scale",
   "metadata": {},
   "outputs": [
    {
     "name": "stdout",
     "output_type": "stream",
     "text": [
      "Accuracy: 88.24%\n"
     ]
    }
   ],
   "source": [
    "try:\n",
    "    dt_model = DecisionTreeClassifier(random_state=my_random_state)\n",
    "    dt_model.fit(X_train, y_train)\n",
    "    \n",
    "    y_pred = dt_model.predict(X_val)\n",
    "    \n",
    "    accuracy_score = metrics.accuracy_score(y_val, y_pred)\n",
    "    print('Accuracy: {:.2%}'.format(accuracy_score))\n",
    "except Exception as e:\n",
    "    print(e)"
   ]
  },
  {
   "cell_type": "markdown",
   "id": "complex-madonna",
   "metadata": {},
   "source": [
    "Apparently the decision tree can't work with _null_ values... let's see if and how we can fix that."
   ]
  },
  {
   "cell_type": "markdown",
   "id": "painted-savage",
   "metadata": {},
   "source": [
    "# Dealing With Missing Values\n",
    "\n",
    "In real-world data you'll often encounter missing values - be it due to problems when recording observations or data corruption. You need to learn how to handle these cases, since many machine learning algorithms can't work with missing data."
   ]
  },
  {
   "cell_type": "markdown",
   "id": "consecutive-acting",
   "metadata": {},
   "source": [
    "## Dropping\n",
    "\n",
    "An obvious possible solution is simply removing missing values. Depending on the amount, you can either drop the erroneous rows or even the whole columns. There's no exact ratio of missing values, when you should start considering dropping a whole column - literature suggests about 50%, but it highly depends on the dataset.\n",
    "\n",
    "Let's take another look at the missing value count:"
   ]
  },
  {
   "cell_type": "code",
   "execution_count": 80,
   "id": "modular-frederick",
   "metadata": {},
   "outputs": [
    {
     "data": {
      "text/plain": [
       "mean radius                  2\n",
       "mean texture                 5\n",
       "mean perimeter               3\n",
       "mean area                    0\n",
       "mean smoothness              0\n",
       "mean compactness             9\n",
       "mean concavity               0\n",
       "mean concave points         11\n",
       "mean symmetry                9\n",
       "mean fractal dimension       7\n",
       "radius error                 0\n",
       "texture error                0\n",
       "perimeter error              0\n",
       "area error                  25\n",
       "smoothness error             0\n",
       "compactness error           22\n",
       "concavity error              0\n",
       "concave points error         0\n",
       "symmetry error               5\n",
       "fractal dimension error     44\n",
       "worst radius                53\n",
       "worst texture               89\n",
       "worst perimeter              0\n",
       "worst area                 107\n",
       "worst smoothness             0\n",
       "worst compactness            0\n",
       "worst concavity              0\n",
       "worst concave points        67\n",
       "worst symmetry             102\n",
       "worst fractal dimension      0\n",
       "is_malignant                 0\n",
       "dtype: int64"
      ]
     },
     "execution_count": 80,
     "metadata": {},
     "output_type": "execute_result"
    }
   ],
   "source": [
    "bcw_data.isnull().sum()"
   ]
  },
  {
   "cell_type": "markdown",
   "id": "maritime-mercury",
   "metadata": {},
   "source": [
    "Let's see how many rows are affected, when we simply drop them using the built-in `dropna`-method:"
   ]
  },
  {
   "cell_type": "code",
   "execution_count": 81,
   "id": "configured-graphic",
   "metadata": {},
   "outputs": [
    {
     "name": "stdout",
     "output_type": "stream",
     "text": [
      "<class 'pandas.core.frame.DataFrame'>\n",
      "Index: 9 entries, 27 to 545\n",
      "Data columns (total 31 columns):\n",
      " #   Column                   Non-Null Count  Dtype  \n",
      "---  ------                   --------------  -----  \n",
      " 0   mean radius              9 non-null      float64\n",
      " 1   mean texture             9 non-null      float64\n",
      " 2   mean perimeter           9 non-null      float64\n",
      " 3   mean area                9 non-null      float64\n",
      " 4   mean smoothness          9 non-null      float64\n",
      " 5   mean compactness         9 non-null      float64\n",
      " 6   mean concavity           9 non-null      float64\n",
      " 7   mean concave points      9 non-null      float64\n",
      " 8   mean symmetry            9 non-null      float64\n",
      " 9   mean fractal dimension   9 non-null      float64\n",
      " 10  radius error             9 non-null      float64\n",
      " 11  texture error            9 non-null      float64\n",
      " 12  perimeter error          9 non-null      float64\n",
      " 13  area error               9 non-null      float64\n",
      " 14  smoothness error         9 non-null      float64\n",
      " 15  compactness error        9 non-null      float64\n",
      " 16  concavity error          9 non-null      float64\n",
      " 17  concave points error     9 non-null      float64\n",
      " 18  symmetry error           9 non-null      float64\n",
      " 19  fractal dimension error  9 non-null      float64\n",
      " 20  worst radius             9 non-null      float64\n",
      " 21  worst texture            9 non-null      float64\n",
      " 22  worst perimeter          9 non-null      float64\n",
      " 23  worst area               9 non-null      float64\n",
      " 24  worst smoothness         9 non-null      float64\n",
      " 25  worst compactness        9 non-null      float64\n",
      " 26  worst concavity          9 non-null      float64\n",
      " 27  worst concave points     9 non-null      float64\n",
      " 28  worst symmetry           9 non-null      float64\n",
      " 29  worst fractal dimension  9 non-null      float64\n",
      " 30  is_malignant             9 non-null      int64  \n",
      "dtypes: float64(30), int64(1)\n",
      "memory usage: 2.2 KB\n"
     ]
    }
   ],
   "source": [
    "bcw_data_dropped_rows = bcw_data.dropna()\n",
    "bcw_data_dropped_rows.info()"
   ]
  },
  {
   "cell_type": "markdown",
   "id": "logical-geneva",
   "metadata": {},
   "source": [
    "Unfortunately this removed everything but 9 rows, rendering the dataset useless.\n",
    "\n",
    "To recap: In a situation like the following example..."
   ]
  },
  {
   "cell_type": "code",
   "execution_count": 82,
   "id": "willing-coverage",
   "metadata": {
    "scrolled": true
   },
   "outputs": [
    {
     "data": {
      "text/html": [
       "<div>\n",
       "<style scoped>\n",
       "    .dataframe tbody tr th:only-of-type {\n",
       "        vertical-align: middle;\n",
       "    }\n",
       "\n",
       "    .dataframe tbody tr th {\n",
       "        vertical-align: top;\n",
       "    }\n",
       "\n",
       "    .dataframe thead th {\n",
       "        text-align: right;\n",
       "    }\n",
       "</style>\n",
       "<table border=\"1\" class=\"dataframe\">\n",
       "  <thead>\n",
       "    <tr style=\"text-align: right;\">\n",
       "      <th></th>\n",
       "      <th>my_value</th>\n",
       "      <th>my_other_value</th>\n",
       "      <th>yet_another_value</th>\n",
       "    </tr>\n",
       "  </thead>\n",
       "  <tbody>\n",
       "    <tr>\n",
       "      <th>0</th>\n",
       "      <td>1.0</td>\n",
       "      <td>5</td>\n",
       "      <td>9.0</td>\n",
       "    </tr>\n",
       "    <tr>\n",
       "      <th>1</th>\n",
       "      <td>2.0</td>\n",
       "      <td>6</td>\n",
       "      <td>10.0</td>\n",
       "    </tr>\n",
       "    <tr>\n",
       "      <th>2</th>\n",
       "      <td>NaN</td>\n",
       "      <td>13</td>\n",
       "      <td>NaN</td>\n",
       "    </tr>\n",
       "    <tr>\n",
       "      <th>3</th>\n",
       "      <td>4.0</td>\n",
       "      <td>8</td>\n",
       "      <td>12.0</td>\n",
       "    </tr>\n",
       "  </tbody>\n",
       "</table>\n",
       "</div>"
      ],
      "text/plain": [
       "   my_value  my_other_value  yet_another_value\n",
       "0       1.0               5                9.0\n",
       "1       2.0               6               10.0\n",
       "2       NaN              13                NaN\n",
       "3       4.0               8               12.0"
      ]
     },
     "execution_count": 82,
     "metadata": {},
     "output_type": "execute_result"
    }
   ],
   "source": [
    "example_data = pd.DataFrame({'my_value': [1, 2, np.nan, 4], 'my_other_value': [5, 6, 13, 8], 'yet_another_value': [9, 10, np.nan, 12]})\n",
    "example_data"
   ]
  },
  {
   "cell_type": "markdown",
   "id": "golden-bangkok",
   "metadata": {},
   "source": [
    "...deleting the row(s) containing missing values would definitely make sense.\n",
    "\n",
    "Our situation is closer to the next example..."
   ]
  },
  {
   "cell_type": "code",
   "execution_count": 83,
   "id": "entertaining-asthma",
   "metadata": {},
   "outputs": [
    {
     "data": {
      "text/html": [
       "<div>\n",
       "<style scoped>\n",
       "    .dataframe tbody tr th:only-of-type {\n",
       "        vertical-align: middle;\n",
       "    }\n",
       "\n",
       "    .dataframe tbody tr th {\n",
       "        vertical-align: top;\n",
       "    }\n",
       "\n",
       "    .dataframe thead th {\n",
       "        text-align: right;\n",
       "    }\n",
       "</style>\n",
       "<table border=\"1\" class=\"dataframe\">\n",
       "  <thead>\n",
       "    <tr style=\"text-align: right;\">\n",
       "      <th></th>\n",
       "      <th>my_value</th>\n",
       "      <th>my_other_value</th>\n",
       "      <th>yet_another_value</th>\n",
       "    </tr>\n",
       "  </thead>\n",
       "  <tbody>\n",
       "    <tr>\n",
       "      <th>0</th>\n",
       "      <td>1</td>\n",
       "      <td>5.0</td>\n",
       "      <td>9.0</td>\n",
       "    </tr>\n",
       "    <tr>\n",
       "      <th>1</th>\n",
       "      <td>2</td>\n",
       "      <td>6.0</td>\n",
       "      <td>NaN</td>\n",
       "    </tr>\n",
       "    <tr>\n",
       "      <th>2</th>\n",
       "      <td>3</td>\n",
       "      <td>NaN</td>\n",
       "      <td>11.0</td>\n",
       "    </tr>\n",
       "    <tr>\n",
       "      <th>3</th>\n",
       "      <td>4</td>\n",
       "      <td>8.0</td>\n",
       "      <td>NaN</td>\n",
       "    </tr>\n",
       "  </tbody>\n",
       "</table>\n",
       "</div>"
      ],
      "text/plain": [
       "   my_value  my_other_value  yet_another_value\n",
       "0         1             5.0                9.0\n",
       "1         2             6.0                NaN\n",
       "2         3             NaN               11.0\n",
       "3         4             8.0                NaN"
      ]
     },
     "execution_count": 83,
     "metadata": {},
     "output_type": "execute_result"
    }
   ],
   "source": [
    "example_data = pd.DataFrame({'my_value': [1, 2, 3, 4], 'my_other_value': [5, 6, np.nan, 8], 'yet_another_value': [9, np.nan, 11, np.nan]})\n",
    "example_data"
   ]
  },
  {
   "cell_type": "markdown",
   "id": "whole-receiver",
   "metadata": {},
   "source": [
    "...where we would lose almost all rows.\n",
    "\n",
    "Let's try dropping the columns instead. We start by gathering the problematic columns:"
   ]
  },
  {
   "cell_type": "code",
   "execution_count": 84,
   "id": "welcome-hardwood",
   "metadata": {},
   "outputs": [
    {
     "data": {
      "text/plain": [
       "['mean radius',\n",
       " 'mean texture',\n",
       " 'mean perimeter',\n",
       " 'mean compactness',\n",
       " 'mean concave points',\n",
       " 'mean symmetry',\n",
       " 'mean fractal dimension',\n",
       " 'area error',\n",
       " 'compactness error',\n",
       " 'symmetry error',\n",
       " 'fractal dimension error',\n",
       " 'worst radius',\n",
       " 'worst texture',\n",
       " 'worst area',\n",
       " 'worst concave points',\n",
       " 'worst symmetry']"
      ]
     },
     "execution_count": 84,
     "metadata": {},
     "output_type": "execute_result"
    }
   ],
   "source": [
    "cols_with_missing_vals = [c for c in X.columns if X[c].isnull().any()]\n",
    "cols_with_missing_vals"
   ]
  },
  {
   "cell_type": "markdown",
   "id": "champion-costa",
   "metadata": {},
   "source": [
    "We can now use the `drop`-method in combination with the `axis` parameter set to $1$ (since we want to delete _columns_). We obviously need to do this on training, validation and testing data:"
   ]
  },
  {
   "cell_type": "code",
   "execution_count": 85,
   "id": "arctic-salad",
   "metadata": {},
   "outputs": [],
   "source": [
    "X_train_dropped_cols = X_train.drop(cols_with_missing_vals, axis=1)\n",
    "X_val_dropped_cols = X_val.drop(cols_with_missing_vals, axis=1)\n",
    "X_test_dropped_cols = X_test.drop(cols_with_missing_vals, axis=1)"
   ]
  },
  {
   "cell_type": "markdown",
   "id": "adjacent-quilt",
   "metadata": {},
   "source": [
    "We can finally train our tree:"
   ]
  },
  {
   "cell_type": "code",
   "execution_count": 86,
   "id": "whole-notebook",
   "metadata": {
    "scrolled": true
   },
   "outputs": [
    {
     "name": "stdout",
     "output_type": "stream",
     "text": [
      "Accuracy: 83.53%\n"
     ]
    }
   ],
   "source": [
    "dt_model = DecisionTreeClassifier(random_state=my_random_state)\n",
    "dt_model.fit(X_train_dropped_cols, y_train)\n",
    "\n",
    "y_pred = dt_model.predict(X_val_dropped_cols)\n",
    "\n",
    "accuracy_score = metrics.accuracy_score(y_val, y_pred)\n",
    "print('Accuracy: {:.2%}'.format(accuracy_score))"
   ]
  },
  {
   "cell_type": "markdown",
   "id": "unusual-vacation",
   "metadata": {},
   "source": [
    "### _Hyperparameter Optimization_\n",
    "\n",
    "Not bad, we're far above the baseline! Let's see if we can tune the _hyperparameters_ to achieve an even better result. We're gonna focus on the _tree depth_ in the following _helper method_:"
   ]
  },
  {
   "cell_type": "code",
   "execution_count": 87,
   "id": "acoustic-windsor",
   "metadata": {},
   "outputs": [],
   "source": [
    "def train_and_find_best_depth(X_train, X_val, y_train, y_val, do_print):\n",
    "    result = None\n",
    "    accuracy_max = -1\n",
    "    \n",
    "    for curr_max_depth in range(1, 20):\n",
    "        dt_model = DecisionTreeClassifier(max_depth=curr_max_depth, random_state=my_random_state)\n",
    "        dt_model.fit(X_train, y_train)\n",
    "    \n",
    "        y_pred = dt_model.predict(X_val)\n",
    "    \n",
    "        accuracy_score = metrics.accuracy_score(y_val, y_pred)\n",
    "        \n",
    "        if accuracy_score >= accuracy_max:\n",
    "            accuracy_max = accuracy_score\n",
    "            result = curr_max_depth\n",
    "        \n",
    "        if do_print:\n",
    "            print('max depth {}: {:.2%} accuracy on validation set.'.format(curr_max_depth, accuracy_score))\n",
    "    \n",
    "    if do_print:\n",
    "        print('-' * 20)\n",
    "        print('best max depth {} has {:.2%} accuracy.'.format(result, accuracy_max))\n",
    "    \n",
    "    return result"
   ]
  },
  {
   "cell_type": "markdown",
   "id": "computational-eight",
   "metadata": {},
   "source": [
    "And this is the moment, where the _validation_ set comes into play. We can now use it to find the best tree depth:"
   ]
  },
  {
   "cell_type": "code",
   "execution_count": 88,
   "id": "angry-reservation",
   "metadata": {},
   "outputs": [
    {
     "name": "stdout",
     "output_type": "stream",
     "text": [
      "max depth 1: 89.41% accuracy on validation set.\n",
      "max depth 2: 92.94% accuracy on validation set.\n",
      "max depth 3: 88.24% accuracy on validation set.\n",
      "max depth 4: 89.41% accuracy on validation set.\n",
      "max depth 5: 89.41% accuracy on validation set.\n",
      "max depth 6: 89.41% accuracy on validation set.\n",
      "max depth 7: 85.88% accuracy on validation set.\n",
      "max depth 8: 88.24% accuracy on validation set.\n",
      "max depth 9: 83.53% accuracy on validation set.\n",
      "max depth 10: 83.53% accuracy on validation set.\n",
      "max depth 11: 83.53% accuracy on validation set.\n",
      "max depth 12: 83.53% accuracy on validation set.\n",
      "max depth 13: 83.53% accuracy on validation set.\n",
      "max depth 14: 83.53% accuracy on validation set.\n",
      "max depth 15: 83.53% accuracy on validation set.\n",
      "max depth 16: 83.53% accuracy on validation set.\n",
      "max depth 17: 83.53% accuracy on validation set.\n",
      "max depth 18: 83.53% accuracy on validation set.\n",
      "max depth 19: 83.53% accuracy on validation set.\n",
      "--------------------\n",
      "best max depth 2 has 92.94% accuracy.\n"
     ]
    }
   ],
   "source": [
    "best_max_depth = train_and_find_best_depth(X_train_dropped_cols, X_val_dropped_cols, y_train, y_val, True)"
   ]
  },
  {
   "cell_type": "markdown",
   "id": "expensive-stability",
   "metadata": {},
   "source": [
    "Apparently the _max depth_ of $2$ performs best on the validation set. Let's see, how well it performs on the unseen data in the _test_ set:"
   ]
  },
  {
   "cell_type": "code",
   "execution_count": 89,
   "id": "corporate-comfort",
   "metadata": {},
   "outputs": [
    {
     "name": "stdout",
     "output_type": "stream",
     "text": [
      "Accuracy: 89.53%\n"
     ]
    }
   ],
   "source": [
    "dt_model = DecisionTreeClassifier(max_depth=best_max_depth, random_state=my_random_state)\n",
    "dt_model.fit(X_train_dropped_cols, y_train)\n",
    "\n",
    "y_pred = dt_model.predict(X_test_dropped_cols)\n",
    "\n",
    "accuracy_score_dropped_cols = metrics.accuracy_score(y_test, y_pred)\n",
    "print('Accuracy: {:.2%}'.format(accuracy_score_dropped_cols))"
   ]
  },
  {
   "cell_type": "markdown",
   "id": "organizational-savage",
   "metadata": {},
   "source": [
    "## Imputing Numerical Data"
   ]
  },
  {
   "cell_type": "markdown",
   "id": "regular-tennessee",
   "metadata": {},
   "source": [
    "A downside of above approach is the loss of potentially important data, especially in columns where only few values were missing. A simple and popular alternative is **_imputation_** - the process of replacing missing data with substituted values.\n",
    "\n",
    "Using statistical methods - e.g. the _mean_, _median_, _minimum_, _maximum_ or _most frequent_ value of a column - for estimating a suitable replacement and replacing all missing values with it is fast to calculate and often proves (very) effective.\n",
    "\n",
    "Let's take a look at an example using a small dataframe with some missing values:"
   ]
  },
  {
   "cell_type": "code",
   "execution_count": 90,
   "id": "delayed-wrist",
   "metadata": {},
   "outputs": [
    {
     "data": {
      "text/html": [
       "<div>\n",
       "<style scoped>\n",
       "    .dataframe tbody tr th:only-of-type {\n",
       "        vertical-align: middle;\n",
       "    }\n",
       "\n",
       "    .dataframe tbody tr th {\n",
       "        vertical-align: top;\n",
       "    }\n",
       "\n",
       "    .dataframe thead th {\n",
       "        text-align: right;\n",
       "    }\n",
       "</style>\n",
       "<table border=\"1\" class=\"dataframe\">\n",
       "  <thead>\n",
       "    <tr style=\"text-align: right;\">\n",
       "      <th></th>\n",
       "      <th>my_value</th>\n",
       "      <th>my_other_value</th>\n",
       "    </tr>\n",
       "  </thead>\n",
       "  <tbody>\n",
       "    <tr>\n",
       "      <th>0</th>\n",
       "      <td>1.0</td>\n",
       "      <td>NaN</td>\n",
       "    </tr>\n",
       "    <tr>\n",
       "      <th>1</th>\n",
       "      <td>2.0</td>\n",
       "      <td>4.0</td>\n",
       "    </tr>\n",
       "    <tr>\n",
       "      <th>2</th>\n",
       "      <td>NaN</td>\n",
       "      <td>NaN</td>\n",
       "    </tr>\n",
       "    <tr>\n",
       "      <th>3</th>\n",
       "      <td>6.0</td>\n",
       "      <td>10.0</td>\n",
       "    </tr>\n",
       "  </tbody>\n",
       "</table>\n",
       "</div>"
      ],
      "text/plain": [
       "   my_value  my_other_value\n",
       "0       1.0             NaN\n",
       "1       2.0             4.0\n",
       "2       NaN             NaN\n",
       "3       6.0            10.0"
      ]
     },
     "execution_count": 90,
     "metadata": {},
     "output_type": "execute_result"
    }
   ],
   "source": [
    "example_data = pd.DataFrame({'my_value': [1, 2, np.nan, 6], 'my_other_value': [np.nan, 4, np.nan, 10]})\n",
    "example_data"
   ]
  },
  {
   "cell_type": "markdown",
   "id": "sized-emergency",
   "metadata": {},
   "source": [
    "We now use _scikit-learn_'s `SimpleImputer` for imputing the missing values: After importing the class and setting the _strategy_ (i.e. the (statistical) method), we **_fit_** the _imputer_ to our data so it can find suitable replacement values for each column. Afterwards we use it to **_transform_** the columns, i.e. replace all missing values."
   ]
  },
  {
   "cell_type": "code",
   "execution_count": 91,
   "id": "sporting-hardware",
   "metadata": {},
   "outputs": [],
   "source": [
    "from sklearn.impute import SimpleImputer"
   ]
  },
  {
   "cell_type": "code",
   "execution_count": 92,
   "id": "blind-balance",
   "metadata": {
    "scrolled": true
   },
   "outputs": [
    {
     "data": {
      "text/html": [
       "<div>\n",
       "<style scoped>\n",
       "    .dataframe tbody tr th:only-of-type {\n",
       "        vertical-align: middle;\n",
       "    }\n",
       "\n",
       "    .dataframe tbody tr th {\n",
       "        vertical-align: top;\n",
       "    }\n",
       "\n",
       "    .dataframe thead th {\n",
       "        text-align: right;\n",
       "    }\n",
       "</style>\n",
       "<table border=\"1\" class=\"dataframe\">\n",
       "  <thead>\n",
       "    <tr style=\"text-align: right;\">\n",
       "      <th></th>\n",
       "      <th>my_value</th>\n",
       "      <th>my_other_value</th>\n",
       "    </tr>\n",
       "  </thead>\n",
       "  <tbody>\n",
       "    <tr>\n",
       "      <th>0</th>\n",
       "      <td>1.0</td>\n",
       "      <td>7.0</td>\n",
       "    </tr>\n",
       "    <tr>\n",
       "      <th>1</th>\n",
       "      <td>2.0</td>\n",
       "      <td>4.0</td>\n",
       "    </tr>\n",
       "    <tr>\n",
       "      <th>2</th>\n",
       "      <td>3.0</td>\n",
       "      <td>7.0</td>\n",
       "    </tr>\n",
       "    <tr>\n",
       "      <th>3</th>\n",
       "      <td>6.0</td>\n",
       "      <td>10.0</td>\n",
       "    </tr>\n",
       "  </tbody>\n",
       "</table>\n",
       "</div>"
      ],
      "text/plain": [
       "   my_value  my_other_value\n",
       "0       1.0             7.0\n",
       "1       2.0             4.0\n",
       "2       3.0             7.0\n",
       "3       6.0            10.0"
      ]
     },
     "execution_count": 92,
     "metadata": {},
     "output_type": "execute_result"
    }
   ],
   "source": [
    "simple_imputer = SimpleImputer(strategy='mean')\n",
    "\n",
    "simple_imputer.fit(example_data[['my_value', 'my_other_value']])\n",
    "example_data[['my_value', 'my_other_value']] = simple_imputer.transform(example_data[['my_value', 'my_other_value']])\n",
    "\n",
    "example_data"
   ]
  },
  {
   "cell_type": "markdown",
   "id": "collected-silence",
   "metadata": {},
   "source": [
    "Let's try it out on our dataset. We already identified problematic columns above:"
   ]
  },
  {
   "cell_type": "code",
   "execution_count": 93,
   "id": "breathing-object",
   "metadata": {
    "scrolled": true
   },
   "outputs": [
    {
     "data": {
      "text/plain": [
       "['mean radius',\n",
       " 'mean texture',\n",
       " 'mean perimeter',\n",
       " 'mean compactness',\n",
       " 'mean concave points',\n",
       " 'mean symmetry',\n",
       " 'mean fractal dimension',\n",
       " 'area error',\n",
       " 'compactness error',\n",
       " 'symmetry error',\n",
       " 'fractal dimension error',\n",
       " 'worst radius',\n",
       " 'worst texture',\n",
       " 'worst area',\n",
       " 'worst concave points',\n",
       " 'worst symmetry']"
      ]
     },
     "execution_count": 93,
     "metadata": {},
     "output_type": "execute_result"
    }
   ],
   "source": [
    "cols_with_missing_vals"
   ]
  },
  {
   "cell_type": "markdown",
   "id": "continent-advocacy",
   "metadata": {},
   "source": [
    "We now use the `SimpleImputer` for dealing with all those columns:"
   ]
  },
  {
   "cell_type": "code",
   "execution_count": 94,
   "id": "underlying-mainstream",
   "metadata": {
    "scrolled": true
   },
   "outputs": [],
   "source": [
    "simple_imputer = SimpleImputer(strategy='mean')\n",
    "\n",
    "#deep copy - remember why?\n",
    "X_train_imputed = X_train.copy()\n",
    "X_val_imputed = X_val.copy()\n",
    "X_test_imputed = X_test.copy()\n",
    "\n",
    "X_train_imputed[cols_with_missing_vals] = simple_imputer.fit_transform(X_train[cols_with_missing_vals])\n",
    "X_val_imputed[cols_with_missing_vals] = simple_imputer.transform(X_val[cols_with_missing_vals])\n",
    "X_test_imputed[cols_with_missing_vals] = simple_imputer.transform(X_test[cols_with_missing_vals])"
   ]
  },
  {
   "cell_type": "markdown",
   "id": "twenty-venture",
   "metadata": {},
   "source": [
    "As you saw, we combined the _two-step-approach_ from above to perform both _fitting_ and _transforming_ on the training data using `fit_transform`. Why don't we use the same method on the test data? In order to simulate real world scenarios, we want the test data to be a completely new surprise set for our model! This is why we only use the imputation parameters learned from (or _fitted to_) the training data.\n",
    "\n",
    "For this reason the standard approach is:\n",
    "\n",
    "1. `fit_transform` on **training** data.\n",
    "1. `transform` on **test/validation** data."
   ]
  },
  {
   "cell_type": "markdown",
   "id": "smooth-administration",
   "metadata": {},
   "source": [
    "Let's see if the imputation improved our accuracy:"
   ]
  },
  {
   "cell_type": "code",
   "execution_count": 95,
   "id": "determined-citizen",
   "metadata": {},
   "outputs": [
    {
     "name": "stdout",
     "output_type": "stream",
     "text": [
      "max depth 1: 89.41% accuracy on validation set.\n",
      "max depth 2: 91.76% accuracy on validation set.\n",
      "max depth 3: 89.41% accuracy on validation set.\n",
      "max depth 4: 89.41% accuracy on validation set.\n",
      "max depth 5: 91.76% accuracy on validation set.\n",
      "max depth 6: 90.59% accuracy on validation set.\n",
      "max depth 7: 83.53% accuracy on validation set.\n",
      "max depth 8: 84.71% accuracy on validation set.\n",
      "max depth 9: 84.71% accuracy on validation set.\n",
      "max depth 10: 84.71% accuracy on validation set.\n",
      "max depth 11: 84.71% accuracy on validation set.\n",
      "max depth 12: 84.71% accuracy on validation set.\n",
      "max depth 13: 84.71% accuracy on validation set.\n",
      "max depth 14: 84.71% accuracy on validation set.\n",
      "max depth 15: 84.71% accuracy on validation set.\n",
      "max depth 16: 84.71% accuracy on validation set.\n",
      "max depth 17: 84.71% accuracy on validation set.\n",
      "max depth 18: 84.71% accuracy on validation set.\n",
      "max depth 19: 84.71% accuracy on validation set.\n",
      "--------------------\n",
      "best max depth 5 has 91.76% accuracy.\n"
     ]
    }
   ],
   "source": [
    "best_max_depth = train_and_find_best_depth(X_train_imputed, X_val_imputed, y_train, y_val, True)"
   ]
  },
  {
   "cell_type": "code",
   "execution_count": 96,
   "id": "daily-feelings",
   "metadata": {},
   "outputs": [
    {
     "name": "stdout",
     "output_type": "stream",
     "text": [
      "Accuracy: 91.86%\n"
     ]
    }
   ],
   "source": [
    "dt_model = DecisionTreeClassifier(max_depth=best_max_depth, random_state=my_random_state)\n",
    "dt_model.fit(X_train_imputed, y_train)\n",
    "\n",
    "y_pred = dt_model.predict(X_test_imputed)\n",
    "\n",
    "accuracy_score_imputed = metrics.accuracy_score(y_test, y_pred)\n",
    "print('Accuracy: {:.2%}'.format(accuracy_score_imputed))"
   ]
  },
  {
   "cell_type": "markdown",
   "id": "acoustic-rehabilitation",
   "metadata": {},
   "source": [
    "Albeit small, we still see a slight improvement. Depending on the dataset, _imputation_ will drastically boost the results in some cases, while in others it doesn't help that much."
   ]
  },
  {
   "cell_type": "markdown",
   "id": "attractive-reviewer",
   "metadata": {},
   "source": [
    "## Imputing With A Flag\n",
    "\n",
    "Imputed values may be systematically above or below their actual values (which weren't collected in the dataset). Or rows with missing values may be unique in some other way. In that case, your model would make better predictions by considering which values were originally missing.\n",
    "\n",
    "An _extension_ to simple imputation would be adding a _flag_ column, indicating where values were missing.\n",
    "\n",
    "Let's try this approach:"
   ]
  },
  {
   "cell_type": "code",
   "execution_count": 97,
   "id": "unauthorized-expert",
   "metadata": {},
   "outputs": [],
   "source": [
    "simple_imputer = SimpleImputer(strategy='mean')\n",
    "\n",
    "X_train_imputed_plus = X_train.copy()\n",
    "X_val_imputed_plus = X_val.copy()\n",
    "X_test_imputed_plus = X_test.copy()\n",
    "\n",
    "for curr_col in cols_with_missing_vals:\n",
    "    X_train_imputed_plus[curr_col + '_was_missing'] = X_train_imputed_plus[curr_col].isnull()\n",
    "    X_val_imputed_plus[curr_col + '_was_missing'] = X_val_imputed_plus[curr_col].isnull()\n",
    "    X_test_imputed_plus[curr_col + '_was_missing'] = X_test_imputed_plus[curr_col].isnull()\n",
    "\n",
    "X_train_imputed_plus[cols_with_missing_vals] = simple_imputer.fit_transform(X_train_imputed_plus[cols_with_missing_vals])\n",
    "X_val_imputed_plus[cols_with_missing_vals] = simple_imputer.transform(X_val_imputed_plus[cols_with_missing_vals])\n",
    "X_test_imputed_plus[cols_with_missing_vals] = simple_imputer.transform(X_test_imputed_plus[cols_with_missing_vals])"
   ]
  },
  {
   "cell_type": "code",
   "execution_count": 98,
   "id": "impaired-arctic",
   "metadata": {},
   "outputs": [
    {
     "data": {
      "text/html": [
       "<div>\n",
       "<style scoped>\n",
       "    .dataframe tbody tr th:only-of-type {\n",
       "        vertical-align: middle;\n",
       "    }\n",
       "\n",
       "    .dataframe tbody tr th {\n",
       "        vertical-align: top;\n",
       "    }\n",
       "\n",
       "    .dataframe thead th {\n",
       "        text-align: right;\n",
       "    }\n",
       "</style>\n",
       "<table border=\"1\" class=\"dataframe\">\n",
       "  <thead>\n",
       "    <tr style=\"text-align: right;\">\n",
       "      <th></th>\n",
       "      <th>mean radius</th>\n",
       "      <th>mean texture</th>\n",
       "      <th>mean perimeter</th>\n",
       "      <th>mean area</th>\n",
       "      <th>mean smoothness</th>\n",
       "      <th>mean compactness</th>\n",
       "      <th>mean concavity</th>\n",
       "      <th>mean concave points</th>\n",
       "      <th>mean symmetry</th>\n",
       "      <th>mean fractal dimension</th>\n",
       "      <th>...</th>\n",
       "      <th>mean fractal dimension_was_missing</th>\n",
       "      <th>area error_was_missing</th>\n",
       "      <th>compactness error_was_missing</th>\n",
       "      <th>symmetry error_was_missing</th>\n",
       "      <th>fractal dimension error_was_missing</th>\n",
       "      <th>worst radius_was_missing</th>\n",
       "      <th>worst texture_was_missing</th>\n",
       "      <th>worst area_was_missing</th>\n",
       "      <th>worst concave points_was_missing</th>\n",
       "      <th>worst symmetry_was_missing</th>\n",
       "    </tr>\n",
       "  </thead>\n",
       "  <tbody>\n",
       "    <tr>\n",
       "      <th>515</th>\n",
       "      <td>11.34</td>\n",
       "      <td>18.61</td>\n",
       "      <td>72.76</td>\n",
       "      <td>391.2</td>\n",
       "      <td>0.10490</td>\n",
       "      <td>0.08499</td>\n",
       "      <td>0.04302</td>\n",
       "      <td>0.02594</td>\n",
       "      <td>0.1927</td>\n",
       "      <td>0.06211</td>\n",
       "      <td>...</td>\n",
       "      <td>False</td>\n",
       "      <td>True</td>\n",
       "      <td>False</td>\n",
       "      <td>False</td>\n",
       "      <td>False</td>\n",
       "      <td>False</td>\n",
       "      <td>False</td>\n",
       "      <td>False</td>\n",
       "      <td>False</td>\n",
       "      <td>False</td>\n",
       "    </tr>\n",
       "    <tr>\n",
       "      <th>568</th>\n",
       "      <td>7.76</td>\n",
       "      <td>24.54</td>\n",
       "      <td>47.92</td>\n",
       "      <td>181.0</td>\n",
       "      <td>0.05263</td>\n",
       "      <td>0.04362</td>\n",
       "      <td>0.00000</td>\n",
       "      <td>0.00000</td>\n",
       "      <td>0.1587</td>\n",
       "      <td>0.05884</td>\n",
       "      <td>...</td>\n",
       "      <td>False</td>\n",
       "      <td>False</td>\n",
       "      <td>False</td>\n",
       "      <td>False</td>\n",
       "      <td>False</td>\n",
       "      <td>True</td>\n",
       "      <td>False</td>\n",
       "      <td>False</td>\n",
       "      <td>False</td>\n",
       "      <td>False</td>\n",
       "    </tr>\n",
       "    <tr>\n",
       "      <th>47</th>\n",
       "      <td>13.17</td>\n",
       "      <td>18.66</td>\n",
       "      <td>85.98</td>\n",
       "      <td>534.6</td>\n",
       "      <td>0.11580</td>\n",
       "      <td>0.12310</td>\n",
       "      <td>0.12260</td>\n",
       "      <td>0.07340</td>\n",
       "      <td>0.2128</td>\n",
       "      <td>0.06777</td>\n",
       "      <td>...</td>\n",
       "      <td>False</td>\n",
       "      <td>False</td>\n",
       "      <td>False</td>\n",
       "      <td>False</td>\n",
       "      <td>False</td>\n",
       "      <td>False</td>\n",
       "      <td>False</td>\n",
       "      <td>False</td>\n",
       "      <td>False</td>\n",
       "      <td>True</td>\n",
       "    </tr>\n",
       "    <tr>\n",
       "      <th>485</th>\n",
       "      <td>12.45</td>\n",
       "      <td>16.41</td>\n",
       "      <td>82.85</td>\n",
       "      <td>476.7</td>\n",
       "      <td>0.09514</td>\n",
       "      <td>0.15110</td>\n",
       "      <td>0.15440</td>\n",
       "      <td>0.04846</td>\n",
       "      <td>0.2082</td>\n",
       "      <td>0.07325</td>\n",
       "      <td>...</td>\n",
       "      <td>False</td>\n",
       "      <td>False</td>\n",
       "      <td>False</td>\n",
       "      <td>False</td>\n",
       "      <td>False</td>\n",
       "      <td>False</td>\n",
       "      <td>False</td>\n",
       "      <td>True</td>\n",
       "      <td>False</td>\n",
       "      <td>False</td>\n",
       "    </tr>\n",
       "    <tr>\n",
       "      <th>211</th>\n",
       "      <td>11.84</td>\n",
       "      <td>18.94</td>\n",
       "      <td>75.51</td>\n",
       "      <td>428.0</td>\n",
       "      <td>0.08871</td>\n",
       "      <td>0.06900</td>\n",
       "      <td>0.02669</td>\n",
       "      <td>0.01393</td>\n",
       "      <td>0.1533</td>\n",
       "      <td>0.06057</td>\n",
       "      <td>...</td>\n",
       "      <td>False</td>\n",
       "      <td>False</td>\n",
       "      <td>False</td>\n",
       "      <td>False</td>\n",
       "      <td>True</td>\n",
       "      <td>False</td>\n",
       "      <td>False</td>\n",
       "      <td>False</td>\n",
       "      <td>False</td>\n",
       "      <td>False</td>\n",
       "    </tr>\n",
       "    <tr>\n",
       "      <th>...</th>\n",
       "      <td>...</td>\n",
       "      <td>...</td>\n",
       "      <td>...</td>\n",
       "      <td>...</td>\n",
       "      <td>...</td>\n",
       "      <td>...</td>\n",
       "      <td>...</td>\n",
       "      <td>...</td>\n",
       "      <td>...</td>\n",
       "      <td>...</td>\n",
       "      <td>...</td>\n",
       "      <td>...</td>\n",
       "      <td>...</td>\n",
       "      <td>...</td>\n",
       "      <td>...</td>\n",
       "      <td>...</td>\n",
       "      <td>...</td>\n",
       "      <td>...</td>\n",
       "      <td>...</td>\n",
       "      <td>...</td>\n",
       "      <td>...</td>\n",
       "    </tr>\n",
       "    <tr>\n",
       "      <th>27</th>\n",
       "      <td>18.61</td>\n",
       "      <td>20.25</td>\n",
       "      <td>122.10</td>\n",
       "      <td>1094.0</td>\n",
       "      <td>0.09440</td>\n",
       "      <td>0.10660</td>\n",
       "      <td>0.14900</td>\n",
       "      <td>0.07731</td>\n",
       "      <td>0.1697</td>\n",
       "      <td>0.05699</td>\n",
       "      <td>...</td>\n",
       "      <td>False</td>\n",
       "      <td>False</td>\n",
       "      <td>False</td>\n",
       "      <td>False</td>\n",
       "      <td>False</td>\n",
       "      <td>False</td>\n",
       "      <td>False</td>\n",
       "      <td>False</td>\n",
       "      <td>False</td>\n",
       "      <td>False</td>\n",
       "    </tr>\n",
       "    <tr>\n",
       "      <th>214</th>\n",
       "      <td>14.19</td>\n",
       "      <td>23.81</td>\n",
       "      <td>92.87</td>\n",
       "      <td>610.7</td>\n",
       "      <td>0.09463</td>\n",
       "      <td>0.13060</td>\n",
       "      <td>0.11150</td>\n",
       "      <td>0.06462</td>\n",
       "      <td>0.2235</td>\n",
       "      <td>0.06433</td>\n",
       "      <td>...</td>\n",
       "      <td>False</td>\n",
       "      <td>False</td>\n",
       "      <td>False</td>\n",
       "      <td>False</td>\n",
       "      <td>False</td>\n",
       "      <td>True</td>\n",
       "      <td>False</td>\n",
       "      <td>False</td>\n",
       "      <td>False</td>\n",
       "      <td>False</td>\n",
       "    </tr>\n",
       "    <tr>\n",
       "      <th>506</th>\n",
       "      <td>12.22</td>\n",
       "      <td>20.04</td>\n",
       "      <td>79.47</td>\n",
       "      <td>453.1</td>\n",
       "      <td>0.10960</td>\n",
       "      <td>0.11520</td>\n",
       "      <td>0.08175</td>\n",
       "      <td>0.02166</td>\n",
       "      <td>0.2124</td>\n",
       "      <td>0.06894</td>\n",
       "      <td>...</td>\n",
       "      <td>False</td>\n",
       "      <td>False</td>\n",
       "      <td>False</td>\n",
       "      <td>False</td>\n",
       "      <td>False</td>\n",
       "      <td>False</td>\n",
       "      <td>False</td>\n",
       "      <td>False</td>\n",
       "      <td>False</td>\n",
       "      <td>True</td>\n",
       "    </tr>\n",
       "    <tr>\n",
       "      <th>155</th>\n",
       "      <td>12.25</td>\n",
       "      <td>17.94</td>\n",
       "      <td>78.27</td>\n",
       "      <td>460.3</td>\n",
       "      <td>0.08654</td>\n",
       "      <td>0.06679</td>\n",
       "      <td>0.03885</td>\n",
       "      <td>0.02331</td>\n",
       "      <td>0.1970</td>\n",
       "      <td>0.06228</td>\n",
       "      <td>...</td>\n",
       "      <td>False</td>\n",
       "      <td>False</td>\n",
       "      <td>False</td>\n",
       "      <td>False</td>\n",
       "      <td>False</td>\n",
       "      <td>False</td>\n",
       "      <td>False</td>\n",
       "      <td>False</td>\n",
       "      <td>False</td>\n",
       "      <td>True</td>\n",
       "    </tr>\n",
       "    <tr>\n",
       "      <th>262</th>\n",
       "      <td>17.29</td>\n",
       "      <td>22.13</td>\n",
       "      <td>114.40</td>\n",
       "      <td>947.8</td>\n",
       "      <td>0.08999</td>\n",
       "      <td>0.12730</td>\n",
       "      <td>0.09697</td>\n",
       "      <td>0.07507</td>\n",
       "      <td>0.2108</td>\n",
       "      <td>0.05464</td>\n",
       "      <td>...</td>\n",
       "      <td>False</td>\n",
       "      <td>False</td>\n",
       "      <td>True</td>\n",
       "      <td>False</td>\n",
       "      <td>False</td>\n",
       "      <td>False</td>\n",
       "      <td>False</td>\n",
       "      <td>False</td>\n",
       "      <td>False</td>\n",
       "      <td>False</td>\n",
       "    </tr>\n",
       "  </tbody>\n",
       "</table>\n",
       "<p>398 rows × 46 columns</p>\n",
       "</div>"
      ],
      "text/plain": [
       "     mean radius  mean texture  mean perimeter  mean area  mean smoothness  \\\n",
       "515        11.34         18.61           72.76      391.2          0.10490   \n",
       "568         7.76         24.54           47.92      181.0          0.05263   \n",
       "47         13.17         18.66           85.98      534.6          0.11580   \n",
       "485        12.45         16.41           82.85      476.7          0.09514   \n",
       "211        11.84         18.94           75.51      428.0          0.08871   \n",
       "..           ...           ...             ...        ...              ...   \n",
       "27         18.61         20.25          122.10     1094.0          0.09440   \n",
       "214        14.19         23.81           92.87      610.7          0.09463   \n",
       "506        12.22         20.04           79.47      453.1          0.10960   \n",
       "155        12.25         17.94           78.27      460.3          0.08654   \n",
       "262        17.29         22.13          114.40      947.8          0.08999   \n",
       "\n",
       "     mean compactness  mean concavity  mean concave points  mean symmetry  \\\n",
       "515           0.08499         0.04302              0.02594         0.1927   \n",
       "568           0.04362         0.00000              0.00000         0.1587   \n",
       "47            0.12310         0.12260              0.07340         0.2128   \n",
       "485           0.15110         0.15440              0.04846         0.2082   \n",
       "211           0.06900         0.02669              0.01393         0.1533   \n",
       "..                ...             ...                  ...            ...   \n",
       "27            0.10660         0.14900              0.07731         0.1697   \n",
       "214           0.13060         0.11150              0.06462         0.2235   \n",
       "506           0.11520         0.08175              0.02166         0.2124   \n",
       "155           0.06679         0.03885              0.02331         0.1970   \n",
       "262           0.12730         0.09697              0.07507         0.2108   \n",
       "\n",
       "     mean fractal dimension  ...  mean fractal dimension_was_missing  \\\n",
       "515                 0.06211  ...                               False   \n",
       "568                 0.05884  ...                               False   \n",
       "47                  0.06777  ...                               False   \n",
       "485                 0.07325  ...                               False   \n",
       "211                 0.06057  ...                               False   \n",
       "..                      ...  ...                                 ...   \n",
       "27                  0.05699  ...                               False   \n",
       "214                 0.06433  ...                               False   \n",
       "506                 0.06894  ...                               False   \n",
       "155                 0.06228  ...                               False   \n",
       "262                 0.05464  ...                               False   \n",
       "\n",
       "     area error_was_missing  compactness error_was_missing  \\\n",
       "515                    True                          False   \n",
       "568                   False                          False   \n",
       "47                    False                          False   \n",
       "485                   False                          False   \n",
       "211                   False                          False   \n",
       "..                      ...                            ...   \n",
       "27                    False                          False   \n",
       "214                   False                          False   \n",
       "506                   False                          False   \n",
       "155                   False                          False   \n",
       "262                   False                           True   \n",
       "\n",
       "     symmetry error_was_missing  fractal dimension error_was_missing  \\\n",
       "515                       False                                False   \n",
       "568                       False                                False   \n",
       "47                        False                                False   \n",
       "485                       False                                False   \n",
       "211                       False                                 True   \n",
       "..                          ...                                  ...   \n",
       "27                        False                                False   \n",
       "214                       False                                False   \n",
       "506                       False                                False   \n",
       "155                       False                                False   \n",
       "262                       False                                False   \n",
       "\n",
       "     worst radius_was_missing  worst texture_was_missing  \\\n",
       "515                     False                      False   \n",
       "568                      True                      False   \n",
       "47                      False                      False   \n",
       "485                     False                      False   \n",
       "211                     False                      False   \n",
       "..                        ...                        ...   \n",
       "27                      False                      False   \n",
       "214                      True                      False   \n",
       "506                     False                      False   \n",
       "155                     False                      False   \n",
       "262                     False                      False   \n",
       "\n",
       "     worst area_was_missing  worst concave points_was_missing  \\\n",
       "515                   False                             False   \n",
       "568                   False                             False   \n",
       "47                    False                             False   \n",
       "485                    True                             False   \n",
       "211                   False                             False   \n",
       "..                      ...                               ...   \n",
       "27                    False                             False   \n",
       "214                   False                             False   \n",
       "506                   False                             False   \n",
       "155                   False                             False   \n",
       "262                   False                             False   \n",
       "\n",
       "     worst symmetry_was_missing  \n",
       "515                       False  \n",
       "568                       False  \n",
       "47                         True  \n",
       "485                       False  \n",
       "211                       False  \n",
       "..                          ...  \n",
       "27                        False  \n",
       "214                       False  \n",
       "506                        True  \n",
       "155                        True  \n",
       "262                       False  \n",
       "\n",
       "[398 rows x 46 columns]"
      ]
     },
     "execution_count": 98,
     "metadata": {},
     "output_type": "execute_result"
    }
   ],
   "source": [
    "X_train_imputed_plus"
   ]
  },
  {
   "cell_type": "code",
   "execution_count": 99,
   "id": "restricted-chassis",
   "metadata": {},
   "outputs": [
    {
     "name": "stdout",
     "output_type": "stream",
     "text": [
      "max depth 1: 89.41% accuracy on validation set.\n",
      "max depth 2: 91.76% accuracy on validation set.\n",
      "max depth 3: 88.24% accuracy on validation set.\n",
      "max depth 4: 90.59% accuracy on validation set.\n",
      "max depth 5: 91.76% accuracy on validation set.\n",
      "max depth 6: 89.41% accuracy on validation set.\n",
      "max depth 7: 89.41% accuracy on validation set.\n",
      "max depth 8: 89.41% accuracy on validation set.\n",
      "max depth 9: 89.41% accuracy on validation set.\n",
      "max depth 10: 89.41% accuracy on validation set.\n",
      "max depth 11: 89.41% accuracy on validation set.\n",
      "max depth 12: 89.41% accuracy on validation set.\n",
      "max depth 13: 89.41% accuracy on validation set.\n",
      "max depth 14: 89.41% accuracy on validation set.\n",
      "max depth 15: 89.41% accuracy on validation set.\n",
      "max depth 16: 89.41% accuracy on validation set.\n",
      "max depth 17: 89.41% accuracy on validation set.\n",
      "max depth 18: 89.41% accuracy on validation set.\n",
      "max depth 19: 89.41% accuracy on validation set.\n",
      "--------------------\n",
      "best max depth 5 has 91.76% accuracy.\n"
     ]
    }
   ],
   "source": [
    "best_max_depth = train_and_find_best_depth(X_train_imputed_plus, X_val_imputed_plus, y_train, y_val, True)"
   ]
  },
  {
   "cell_type": "code",
   "execution_count": 100,
   "id": "congressional-advocacy",
   "metadata": {},
   "outputs": [
    {
     "name": "stdout",
     "output_type": "stream",
     "text": [
      "Accuracy: 94.19%\n"
     ]
    }
   ],
   "source": [
    "dt_model = DecisionTreeClassifier(max_depth=best_max_depth, random_state=my_random_state)\n",
    "dt_model.fit(X_train_imputed_plus, y_train)\n",
    "\n",
    "y_pred = dt_model.predict(X_test_imputed_plus)\n",
    "\n",
    "accuracy_score_imputed_plus = metrics.accuracy_score(y_test, y_pred)\n",
    "print('Accuracy: {:.2%}'.format(accuracy_score_imputed_plus))"
   ]
  },
  {
   "cell_type": "markdown",
   "id": "technical-debut",
   "metadata": {},
   "source": [
    "That boosted the accuracy on our data even further!"
   ]
  },
  {
   "cell_type": "markdown",
   "id": "floating-orchestra",
   "metadata": {},
   "source": [
    "# Conclusion\n",
    "\n",
    "In this demonstration you not only got to know the decision tree algorithm, you should be also starting to recognize the importance of data cleaning and preprocessing - which can take up to 80% of the overall effort of a data science project.\n",
    "\n",
    "||Accuracy with best _max depth_|\n",
    "|-|-|\n",
    "|Baseline.|62.79%|\n",
    "|Columns with missing values dropped.|89.53%|\n",
    "|Imputation of missing values.|91.86%|\n",
    "|Imputation of missing values with a flag.|94.19%|\n",
    "\n",
    "In our example we were able to increase the models performance with imputation, as you can see in the table above. Note that the methods you need to use and the results will greatly vary depending on your data!\n",
    "\n",
    "Obviously, the `random_state` also plays a major role (try it out!). We'll see how to tackle this problem in one of the next lessons."
   ]
  },
  {
   "cell_type": "code",
   "execution_count": null,
   "id": "b8a36931-7bd0-43ab-8875-82f78d2899d0",
   "metadata": {},
   "outputs": [],
   "source": []
  }
 ],
 "metadata": {
  "kernelspec": {
   "display_name": "base",
   "language": "python",
   "name": "python3"
  },
  "language_info": {
   "codemirror_mode": {
    "name": "ipython",
    "version": 3
   },
   "file_extension": ".py",
   "mimetype": "text/x-python",
   "name": "python",
   "nbconvert_exporter": "python",
   "pygments_lexer": "ipython3",
   "version": "3.12.7"
  }
 },
 "nbformat": 4,
 "nbformat_minor": 5
}
