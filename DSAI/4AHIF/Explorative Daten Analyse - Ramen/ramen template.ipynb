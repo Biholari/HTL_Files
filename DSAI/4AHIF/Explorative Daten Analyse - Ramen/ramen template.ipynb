{
 "cells": [
  {
   "cell_type": "markdown",
   "id": "cubic-binding",
   "metadata": {},
   "source": [
    "# Objective\n",
    "Dive deep into working with datasets using _pandas_.\n",
    "\n",
    "# Things To Learn\n",
    "* Creating and working with _pandas dataframes_ and _series_.\n",
    "* Loading and getting an overview of data.\n",
    "* Manipulating datasets.\n",
    "* Selecting, grouping and sorting data.\n",
    "\n",
    "# Submission Guidelines\n",
    "* Your finished _Jupyter Notebook_ - both as `.ipynb` and exported `.pdf`."
   ]
  },
  {
   "cell_type": "markdown",
   "id": "eleven-chess",
   "metadata": {},
   "source": [
    "# Task: Manually Creating A _Dataframe_ (Fabian Oppermann)\n",
    "\n",
    "**Task:**\n",
    "Import _pandas_ and manually create a _dataframe_ containing data about a domain **you're passionate about**. Your dataframe should...\n",
    "\n",
    "* ...contain at least 4 rows.\n",
    "* ...contain at least 3 column, of which at least one should be numeric and one should be suitable as a _key_ (i.e. _index_).\n",
    "\n",
    "Next, manually create a _series_ and add it as additional column to your dataset.\n",
    "\n",
    "Finally, set the index of your dataframe to a suitable column."
   ]
  },
  {
   "cell_type": "code",
   "execution_count": 3,
   "id": "sought-cholesterol",
   "metadata": {},
   "outputs": [],
   "source": [
    "import pandas as pd\n",
    "\n",
    "# df = pd.read_csv('')\n",
    "\n",
    "# TODO"
   ]
  },
  {
   "cell_type": "markdown",
   "id": "unsigned-hungary",
   "metadata": {},
   "source": [
    "# Task: Importing And Getting An Overview (Fabian Oppermann)"
   ]
  },
  {
   "cell_type": "markdown",
   "id": "joined-trace",
   "metadata": {},
   "source": [
    "Read the _ramen_ ratings from the provided file and get an overview of the data:\n",
    "\n",
    "* Take a look at some rows from the top, bottom or random positions...\n",
    "* Use summary functions to get a statistical overview of the data.\n",
    "* Find out what data types we're dealing with.\n",
    "* Identify what column would be suitable as index and set it!"
   ]
  },
  {
   "cell_type": "code",
   "execution_count": null,
   "id": "neural-google",
   "metadata": {},
   "outputs": [
    {
     "name": "stdout",
     "output_type": "stream",
     "text": [
      "   Review #           Brand  \\\n",
      "0      2580       New Touch   \n",
      "1      2579        Just Way   \n",
      "2      2578          Nissin   \n",
      "3      2577         Wei Lih   \n",
      "4      2576  Ching's Secret   \n",
      "\n",
      "                                             Variety Style Country Stars  \\\n",
      "0                          T's Restaurant Tantanmen    Cup   Japan  3.75   \n",
      "1  Noodles Spicy Hot Sesame Spicy Hot Sesame Guan...  Pack  Taiwan     1   \n",
      "2                      Cup Noodles Chicken Vegetable   Cup     USA  2.25   \n",
      "3                      GGE Ramen Snack Tomato Flavor  Pack  Taiwan  2.75   \n",
      "4                                    Singapore Curry  Pack   India  3.75   \n",
      "\n",
      "  Top Ten  \n",
      "0     NaN  \n",
      "1     NaN  \n",
      "2     NaN  \n",
      "3     NaN  \n",
      "4     NaN  \n",
      "--------------------------------------------------\n",
      "      Review #     Brand                                            Variety  \\\n",
      "2575         5     Vifon  Hu Tiu Nam Vang [\"Phnom Penh\" style] Asian Sty...   \n",
      "2576         4   Wai Wai                     Oriental Style Instant Noodles   \n",
      "2577         3   Wai Wai                                     Tom Yum Shrimp   \n",
      "2578         2   Wai Wai                               Tom Yum Chili Flavor   \n",
      "2579         1  Westbrae                                         Miso Ramen   \n",
      "\n",
      "     Style   Country Stars Top Ten  \n",
      "2575  Bowl   Vietnam   3.5     NaN  \n",
      "2576  Pack  Thailand     1     NaN  \n",
      "2577  Pack  Thailand     2     NaN  \n",
      "2578  Pack  Thailand     2     NaN  \n",
      "2579  Pack       USA   0.5     NaN  \n",
      "--------------------------------------------------\n",
      "      Review #            Brand                                  Variety  \\\n",
      "2014       566          Foodmon                         DJ DOC Jjolmyeon   \n",
      "469       2111           Nissin          Cup Noodles Chilli Crab Flavour   \n",
      "1814       766    Fashion Foods                                 Beef Pho   \n",
      "973       1607            Myojo                       Nyumen Desse Shoyu   \n",
      "286       2294  Sapporo Ichiban  Tabimen AizuKitakata Gyokai Shoyu Ramen   \n",
      "\n",
      "     Style      Country Stars Top Ten  \n",
      "2014  Bowl  South Korea     5     NaN  \n",
      "469    Cup    Hong Kong  3.75     NaN  \n",
      "1814  Bowl     Thailand  3.75     NaN  \n",
      "973   Bowl        Japan  2.75     NaN  \n",
      "286   Bowl        Japan     4     NaN  \n",
      "--------------------------------------------------\n",
      "          Review #\n",
      "count  2580.000000\n",
      "mean   1290.500000\n",
      "std     744.926171\n",
      "min       1.000000\n",
      "25%     645.750000\n",
      "50%    1290.500000\n",
      "75%    1935.250000\n",
      "max    2580.000000\n",
      "--------------------------------------------------\n",
      "<class 'pandas.core.frame.DataFrame'>\n",
      "RangeIndex: 2580 entries, 0 to 2579\n",
      "Data columns (total 7 columns):\n",
      " #   Column    Non-Null Count  Dtype \n",
      "---  ------    --------------  ----- \n",
      " 0   Review #  2580 non-null   int64 \n",
      " 1   Brand     2580 non-null   object\n",
      " 2   Variety   2580 non-null   object\n",
      " 3   Style     2578 non-null   object\n",
      " 4   Country   2580 non-null   object\n",
      " 5   Stars     2580 non-null   object\n",
      " 6   Top Ten   41 non-null     object\n",
      "dtypes: int64(1), object(6)\n",
      "memory usage: 141.2+ KB\n",
      "None\n"
     ]
    }
   ],
   "source": [
    "ramen_df = pd.read_csv('./ramen-ratings.csv')\n",
    "\n",
    "print(ramen_df.head()) # Top\n",
    "print('-' * 50)\n",
    "print(ramen_df.tail()) # Bottom\n",
    "print('-' * 50)\n",
    "print(ramen_df.sample(5)) # Random\n",
    "print('-' * 50)\n",
    "print(ramen_df.describe()) # Summary\n",
    "print('-' * 50)\n",
    "print(ramen_df.info()) # Info"
   ]
  },
  {
   "cell_type": "markdown",
   "id": "progressive-register",
   "metadata": {},
   "source": [
    "# Task: Dealing With Erroneous Rows\n",
    "\n",
    "As you surely noticed, the star ratings are not included in the numerical statistics. Find out why and fix this, so we can work with the column:\n",
    "\n",
    "* Take a look at the column's data type (should have been determined in the last task). Try casting it to `float`!\n",
    "* Find out all the unique values in the column.\n",
    "* Now that you know the faulty values, identify their rows and drop them. This should affect 3 rows.\n",
    "* Try casting the the column again and make sure we can now calculate statistics on it by printing the mean of it."
   ]
  },
  {
   "cell_type": "code",
   "execution_count": null,
   "id": "major-migration",
   "metadata": {},
   "outputs": [],
   "source": [
    "# Converting 'Stars' into int\n",
    "ramen_df = ramen_df.astype({'Stars': float})\n",
    "\n",
    "# Unique values\n",
    "print(ramen_df['Stars'].unique())"
   ]
  },
  {
   "cell_type": "markdown",
   "id": "severe-treasurer",
   "metadata": {},
   "source": [
    "# Task: Missing Values (Fabian Oppermann)\n",
    "\n",
    "We don't want to deal with missing values in this example. Do the following:\n",
    "\n",
    "* Find out how many values are missing in each column.\n",
    "* One column should be missing 2 values. Identify the relevant rows and delete them.\n",
    "* One column should be missing a lot of values. Delete the whole column."
   ]
  },
  {
   "cell_type": "code",
   "execution_count": null,
   "id": "ef613a19",
   "metadata": {},
   "outputs": [
    {
     "name": "stdout",
     "output_type": "stream",
     "text": [
      "Review #       0\n",
      "Brand          0\n",
      "Variety        0\n",
      "Style          2\n",
      "Country        0\n",
      "Stars          0\n",
      "Top Ten     2539\n",
      "dtype: int64\n"
     ]
    }
   ],
   "source": [
    "# Missing values\n",
    "print(ramen_df.isnull().sum())\n",
    "\n",
    "ramen_df.isnull().sum(axis=0) > 2"
   ]
  },
  {
   "cell_type": "markdown",
   "id": "federal-season",
   "metadata": {},
   "source": [
    "# Task: Create A Price-Column (Fabian Oppermann)\n",
    "\n",
    "Unfortunately the ramen reviews don't contain a price column. Let's _fake_ one with rough estimates:\n",
    "\n",
    "* A _pack_ of ramen should cost 0.79.\n",
    "* A _bowl_ of ramen should cost 1.79.\n",
    "* A _cup_ of ramen should cost 1.29.\n",
    "* A _tray_ of ramen should cost 2.19.\n",
    "* All other types should cost 1.09.\n",
    "\n",
    "Create a function calculating the price based on the style. Use `map` to create a series and add it as a new column to your dataframe."
   ]
  },
  {
   "cell_type": "code",
   "execution_count": 11,
   "id": "f3d40e6d",
   "metadata": {},
   "outputs": [
    {
     "name": "stdout",
     "output_type": "stream",
     "text": [
      "   Review #           Brand  \\\n",
      "0      2580       New Touch   \n",
      "1      2579        Just Way   \n",
      "2      2578          Nissin   \n",
      "3      2577         Wei Lih   \n",
      "4      2576  Ching's Secret   \n",
      "\n",
      "                                             Variety Style Country Stars  \\\n",
      "0                          T's Restaurant Tantanmen    Cup   Japan  3.75   \n",
      "1  Noodles Spicy Hot Sesame Spicy Hot Sesame Guan...  Pack  Taiwan     1   \n",
      "2                      Cup Noodles Chicken Vegetable   Cup     USA  2.25   \n",
      "3                      GGE Ramen Snack Tomato Flavor  Pack  Taiwan  2.75   \n",
      "4                                    Singapore Curry  Pack   India  3.75   \n",
      "\n",
      "  Top Ten  Price  \n",
      "0     NaN   1.29  \n",
      "1     NaN   0.79  \n",
      "2     NaN   1.29  \n",
      "3     NaN   0.79  \n",
      "4     NaN   0.79  \n"
     ]
    }
   ],
   "source": [
    "COST_PACK = 0.79\n",
    "COST_BOWL = 1.79\n",
    "COST_CUP = 0.99\n",
    "COST_TRAY = 2.19\n",
    "COST_OTHER = 1.09\n",
    "\n",
    "\n",
    "def calculate_price(style):\n",
    "    if style == 'Pack':\n",
    "        return 0.79\n",
    "    elif style == 'Bowl':\n",
    "        return 1.79\n",
    "    elif style == 'Cup':\n",
    "        return 1.29\n",
    "    elif style == 'Tray':\n",
    "        return 2.19\n",
    "    else:\n",
    "        return 1.09\n",
    "\n",
    "\n",
    "ramen_df['Price'] = ramen_df['Style'].map(calculate_price)\n",
    "\n",
    "print(ramen_df.head())"
   ]
  },
  {
   "cell_type": "markdown",
   "id": "unauthorized-litigation",
   "metadata": {},
   "source": [
    "# Task: From Stars To Points (Fabian Oppermann)\n",
    "\n",
    "Let's switch from a _star rating_ to a _point rating_ between 1 and 100.\n",
    "\n",
    "* Calculate the points based on the stars, where 5 stars equal 100 points.\n",
    "* Change the column name from _Stars_ to _Points_."
   ]
  },
  {
   "cell_type": "code",
   "execution_count": null,
   "id": "630c0b81",
   "metadata": {},
   "outputs": [],
   "source": []
  },
  {
   "cell_type": "markdown",
   "id": "junior-butler",
   "metadata": {},
   "source": [
    "# Task: Create A Recommendation-Column\n",
    "\n",
    "Let's create a new column containing a textual recommendation:\n",
    "\n",
    "* Ramen with points higher or equal than 90 points get either _Amazing value!_ (for prices benath 1.3) or _Expensive but delicious!_.\n",
    "* Other ramen with ratings above 80 should read _Must-Try!_.\n",
    "* Other cheap ramen with a price below 1 should read _Budget choice!_.\n",
    "* All other ramen should read _Why not?_.\n",
    "\n",
    "Since you need multiple columns to calculate the recommendation, you need to use `apply`. Check how often each recommendation text appears afterwards!"
   ]
  },
  {
   "cell_type": "markdown",
   "id": "respiratory-cotton",
   "metadata": {},
   "source": [
    "# Task: Export Data\n",
    "\n",
    "At this point it makes sense to backup our processed dataframe. Export the data into a file `ramen_processed.csv` into a subfolder `output` and compare your results to the provided solution."
   ]
  },
  {
   "cell_type": "markdown",
   "id": "increasing-hawaii",
   "metadata": {},
   "source": [
    "# Task: Selecting Data (_Integer-Based_)\n",
    "\n",
    "You can now either use the dataset you've worked on so far or - if in doubt - load our `ramen_processed_solution.csv` for the next tasks.\n",
    "\n",
    "Solve the following tasks to sharpen your selecting skills:\n",
    "\n",
    "* Get the first two columns of the last ten rows.\n",
    "* Get the 4<sup>th</sup> column of the 15<sup>th</sup> row.\n",
    "* Get the second and the last column of the second last ten rows.\n",
    "* Get everything but the first column of the 20<sup>th</sup>, 30<sup>th</sup>, 40<sup>th</sup> and 50</sup>th</sup> row.\n",
    "* Get every column of the 100<sup>th</sup> up to (and including) the 200<sup>th</sup> row.\n",
    "* Get the third column of every row."
   ]
  },
  {
   "cell_type": "markdown",
   "id": "characteristic-order",
   "metadata": {},
   "source": [
    "# Task: Selecting Data (_Label-Based_)\n",
    "\n",
    "Solve the following tasks to sharpen your selecting skills:\n",
    "\n",
    "* Get the variety and textual recommendation for the review _#1235_.\n",
    "* Get all columns but the textual recommendation for the reviews from (and including) _#5_ to (and including) _#10_.\n",
    "* Get the style and points for the reviews _#123_, _#234_ and _#345_.\n",
    "* Get the variety, style and country for all reviews."
   ]
  },
  {
   "cell_type": "markdown",
   "id": "loving-senior",
   "metadata": {},
   "source": [
    "# Task: Conditional Selection\n",
    "\n",
    "Solve the following tasks to sharpen your selection skills:\n",
    "\n",
    "* Get everything about ramen that comes in a bowl.\n",
    "* Get variety, style and points of all ramen that comes from Germany.\n",
    "* Get the columns from brand up to country of all ramen that comes in a cup and has a rating lower than 10 points.\n",
    "* Get brand, variety and points of all ramen either produced by _Samyang_ or having a rating over 95 points.\n",
    "* Get everything but price and recommendation for all ramen containing _Hello Kitty_ in their variety field.\n",
    "* Get everything up to country for all ramen from the brands _Knorr_, _Vifon_ and _Yum Yum_."
   ]
  },
  {
   "cell_type": "markdown",
   "id": "mature-livestock",
   "metadata": {},
   "source": [
    "# Task: Grouping And Sorting\n",
    "\n",
    "Use grouping to solve the following tasks:\n",
    "\n",
    "* Print out the number of reviews per brand in ascending order.\n",
    "* Print out all the styles and their mean rating points - in descending order.\n",
    "* Print out the minimum, maximum and mean price per brand, sorted by the maximum values.\n",
    "* Print out all the values of the highest rated ramen per style!\n",
    "* Print out the count and mean of ratings per style per brand, sorted by the count."
   ]
  },
  {
   "cell_type": "markdown",
   "id": "whole-baking",
   "metadata": {},
   "source": [
    "# Good Job!"
   ]
  }
 ],
 "metadata": {
  "kernelspec": {
   "display_name": "Python 3",
   "language": "python",
   "name": "python3"
  },
  "language_info": {
   "codemirror_mode": {
    "name": "ipython",
    "version": 3
   },
   "file_extension": ".py",
   "mimetype": "text/x-python",
   "name": "python",
   "nbconvert_exporter": "python",
   "pygments_lexer": "ipython3",
   "version": "3.10.11"
  }
 },
 "nbformat": 4,
 "nbformat_minor": 5
}
