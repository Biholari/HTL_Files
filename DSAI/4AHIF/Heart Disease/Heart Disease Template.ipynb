{
 "cells": [
  {
   "attachments": {},
   "cell_type": "markdown",
   "id": "specialized-difficulty",
   "metadata": {},
   "source": [
    "## Objective\n",
    "Train a _Random Forest_ on a _real-world_-dataset on _heart failure prediction_.\n",
    "\n",
    "*# Submission Guidelines\n",
    "Your finished _Jupyter Notebook_ - both as `.ipynb` and exported `.pdf`."
   ]
  },
  {
   "attachments": {},
   "cell_type": "markdown",
   "id": "smooth-recorder",
   "metadata": {},
   "source": [
    "# Background\n",
    "\n",
    "![](images/heart-failure.jpg)\n",
    "\n",
    "From the _World Health Organization_:\n",
    "\n",
    "* Cardiovascular diseases (CVDs) are the leading cause of death globally.\n",
    "* An estimated 17.9 million people died from CVDs in 2019, representing 32% of all global deaths. Of these deaths, 85% were due to heart attack and stroke.\n",
    "* Over three quarters of CVD deaths take place in low- and middle-income countries.\n",
    "* Out of the 17 million premature deaths (under the age of 70) due to noncommunicable diseases in 2019, 38% were caused by CVDs.\n",
    "* Most cardiovascular diseases can be prevented by addressing behavioural risk factors such as tobacco use, unhealthy diet and obesity, physical inactivity and harmful use of alcohol.\n",
    "* It is important to detect cardiovascular disease as early as possible so that management with counselling and medicines can begin.\n",
    "\n",
    "Apart from `Age` and `Sex`, you are given the following attributes to predict whether a person has suffered (or is likely to suffer) from a `HeartDisease` ($1$) or not ($0$):\n",
    "\n",
    "* `ChestPainType`: type of chest pain.\n",
    "    * _TA_: Typical Angina\n",
    "    * _ATA_: Atypical Angina\n",
    "    * _NAP_: Non-Anginal Pain\n",
    "    * _ASY_: Asymptomatic\n",
    "* `RestingBP`: resting blood pressure in _mmHg_.\n",
    "* `Cholesterol`: serum cholesterol  in _mm/dl_.\n",
    "* `FastingBS`: $1$ if the the fasting blood sugar is above 120 _mg/dl_.\n",
    "* `RestingECG`: resting electrocardiogram results.\n",
    "    * _Normal_: Normal\n",
    "    * _ST_: having _ST-T_ wave abnormality (_T wave inversions_ and/or _ST elevation_ or depression higher than 0.05 _mV_)\n",
    "    * _LVH_: showing probable or definite _left ventricular hypertrophy_ by _Estes' criteria_\n",
    "* `MaxHR`: maximum heart rate achieved.\n",
    "* `ExerciseAngina`: _Yes_, if the person suffers from exercise-induced angina.\n",
    "* `Oldpeak`: measure of the depression occurring in the _ST_ segment (_mm_).\n",
    "* `ST_Slope`: the slope of the peak exercise _ST_ segment.\n",
    "    * _Up_: upsloping\n",
    "    * _Flat_: flat\n",
    "    * _Down_: downsloping"
   ]
  },
  {
   "attachments": {},
   "cell_type": "markdown",
   "id": "given-flight",
   "metadata": {},
   "source": [
    "# Task\n",
    "\n",
    "1. Load the data from the provided `.csv`-**files** into `X_train`, `y_train` and `X_test`.\n",
    "    * This time you don't have access to the _test labels_! \n",
    "1. Perform a quick _EDA_ (_Exploratory Data Analysis_).\n",
    "1. Create 2-3 visualizations to illustrate aspects of the data you think are interesting!\n",
    "1. Encode the _categorical variables_ as you deem suitable.\n",
    "    * As always, only `fit` the _encoder_ on the training data, not the test data!\n",
    "    * Hint: You'll need both _ordinal_ and _one-hot_ encoding!\n",
    "1. Feel free to apply any further preprocessing steps.\n",
    "1. Train and evaluate a _random forest_ using _cross validation_ on `X_train`.\n",
    "1. Train a model using the best combination of hyperparameters and preprocessing steps on all of `X_train` and make predictions on `X_test`.\n",
    "1. You'll get `y_test` in the next lesson, to see how well your model performs on unseen data!\n",
    "\n",
    "**Use the _random state_ $12$ whereever possible so we can compare our results across the class!**"
   ]
  },
  {
   "cell_type": "code",
   "execution_count": 1,
   "id": "painful-playing",
   "metadata": {},
   "outputs": [],
   "source": [
    "my_random_state = 12"
   ]
  },
  {
   "attachments": {},
   "cell_type": "markdown",
   "id": "handled-scottish",
   "metadata": {},
   "source": [
    "# 1. Loading The Data"
   ]
  },
  {
   "cell_type": "code",
   "execution_count": 3,
   "id": "normal-guarantee",
   "metadata": {},
   "outputs": [],
   "source": [
    "import pandas as pd\n",
    "X_train = pd.read_csv('input/X_train.csv', index_col=0)\n",
    "y_train = pd.read_csv('input/y_train.csv', index_col=0)['HeartDisease']\n",
    "X_test = pd.read_csv('input/X_test.csv', index_col=0)"
   ]
  },
  {
   "attachments": {},
   "cell_type": "markdown",
   "id": "6eca5cd7",
   "metadata": {},
   "source": [
    "# 2. EDA"
   ]
  },
  {
   "attachments": {},
   "cell_type": "markdown",
   "id": "217b4e13",
   "metadata": {},
   "source": [
    "# 3. Vizualization"
   ]
  },
  {
   "attachments": {},
   "cell_type": "markdown",
   "id": "3146e66d",
   "metadata": {},
   "source": [
    "# 4. Encoding"
   ]
  },
  {
   "attachments": {},
   "cell_type": "markdown",
   "id": "4523e9f0",
   "metadata": {},
   "source": [
    "# 5. Furhter data preprocessing"
   ]
  },
  {
   "attachments": {},
   "cell_type": "markdown",
   "id": "9bf7dd35",
   "metadata": {},
   "source": [
    "# 6. Train and evaluate RF using CV on X_train  "
   ]
  },
  {
   "attachments": {},
   "cell_type": "markdown",
   "id": "85ab11a1",
   "metadata": {},
   "source": [
    "# 7. Train a model using the best combination of hyperparameters and preprocessing "
   ]
  },
  {
   "attachments": {},
   "cell_type": "markdown",
   "id": "124e8e9e",
   "metadata": {},
   "source": [
    "# 8. Check how well your model performs on unseen data finally using y_test"
   ]
  }
 ],
 "metadata": {
  "kernelspec": {
   "display_name": "Python 3",
   "language": "python",
   "name": "python3"
  },
  "language_info": {
   "codemirror_mode": {
    "name": "ipython",
    "version": 3
   },
   "file_extension": ".py",
   "mimetype": "text/x-python",
   "name": "python",
   "nbconvert_exporter": "python",
   "pygments_lexer": "ipython3",
   "version": "3.9.2"
  }
 },
 "nbformat": 4,
 "nbformat_minor": 5
}
