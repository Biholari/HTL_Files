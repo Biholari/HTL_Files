{
 "cells": [
  {
   "cell_type": "markdown",
   "id": "6613078e",
   "metadata": {},
   "source": [
    "# Mini Projekt 2\n",
    "\n",
    "- Fabian Oppermann\n",
    "- Petruta-Denisa Biholari\n",
    "- Philipp Hasel\n",
    "\n",
    "https://www.kaggle.com/datasets/nelgiriyewithana/most-streamed-spotify-songs-2024"
   ]
  },
  {
   "cell_type": "markdown",
   "id": "9a76228a",
   "metadata": {},
   "source": [
    "## 1. Datenbeschreibung\n",
    "\n",
    "Die Daten stammen von Kaggle und beinhalten die meistgestreamten Songs auf Spotify im Jahr 2024. Die Daten sind in einer CSV-Datei gespeichert und enthalten folgende Spalten:\n",
    "\n",
    "| Feld | Datentyp | Beschreibung |\n",
    "|------|----------|-------------|\n",
    "| Track | String | Name des Musikstücks |\n",
    "| Album Name | String | Name des Albums, zu dem der Track gehört |\n",
    "| Artist | String | Name des Künstlers oder der Band |\n",
    "| Release Date | Date | Veröffentlichungsdatum des Tracks |\n",
    "| ISRC | String | International Standard Recording Code (eindeutige Kennzeichnung) |\n",
    "| All Time Rank | Integer | Gesamtranking des Songs auf allen Plattformen |\n",
    "| Track Score | Float | Berechneter Popularitätswert des Tracks |\n",
    "| Spotify Streams | Numeric | Anzahl der Streams auf Spotify |\n",
    "| Spotify Playlist Count | Integer | Anzahl der Spotify-Playlists, die den Track enthalten |\n",
    "| Spotify Playlist Reach | Numeric | Potenzielle Reichweite durch Spotify-Playlists |\n",
    "| Spotify Popularity | Integer | Popularitätswert auf Spotify (0-100) |\n",
    "| YouTube Views | Numeric | Anzahl der Aufrufe auf YouTube |\n",
    "| YouTube Likes | Numeric | Anzahl der Likes auf YouTube |\n",
    "| TikTok Posts | Numeric | Anzahl der TikTok-Beiträge mit dem Track |\n",
    "| TikTok Likes | Numeric | Anzahl der Likes auf TikTok-Beiträgen mit dem Track |\n",
    "| TikTok Views | Numeric | Anzahl der Aufrufe auf TikTok-Beiträgen mit dem Track |\n",
    "| YouTube Playlist Reach | Numeric | Potenzielle Reichweite durch YouTube-Playlists |\n",
    "| Apple Music Playlist Count | Integer | Anzahl der Apple Music-Playlists mit dem Track |\n",
    "| AirPlay Spins | Numeric | Anzahl der Radiowiedergaben über AirPlay |\n",
    "| SiriusXM Spins | Integer | Anzahl der Wiedergaben auf SiriusXM |\n",
    "| Deezer Playlist Count | Integer | Anzahl der Deezer-Playlists mit dem Track |\n",
    "| Deezer Playlist Reach | Numeric | Potenzielle Reichweite durch Deezer-Playlists |\n",
    "| Amazon Playlist Count | Integer | Anzahl der Amazon Music-Playlists mit dem Track |\n",
    "| Pandora Streams | Numeric | Anzahl der Streams auf Pandora |\n",
    "| Pandora Track Stations | Numeric | Anzahl der Pandora-Stationen, die den Track spielen |\n",
    "| Soundcloud Streams | Numeric | Anzahl der Streams auf Soundcloud |\n",
    "| Shazam Counts | Numeric | Anzahl der Shazam-Erkennungen |\n",
    "| TIDAL Popularity | Integer | Popularitätswert auf TIDAL |\n",
    "| Explicit Track | Boolean | Kennzeichnung für explizite Inhalte (0=nein, 1=ja) |\n",
    "\n"
   ]
  }
 ],
 "metadata": {
  "language_info": {
   "name": "python"
  }
 },
 "nbformat": 4,
 "nbformat_minor": 5
}
