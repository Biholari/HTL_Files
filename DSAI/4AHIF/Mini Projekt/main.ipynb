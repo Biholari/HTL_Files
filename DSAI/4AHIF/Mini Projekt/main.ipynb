{
 "cells": [
  {
   "cell_type": "code",
   "execution_count": 1,
   "metadata": {},
   "outputs": [],
   "source": [
    "%pip install seaborn\n",
    "%pip install matplotlib\n",
    "%pip install pandas\n",
    "%pip install numpy\n",
    "%pip install scikit-learn"
   ]
  },
  {
   "cell_type": "markdown",
   "metadata": {},
   "source": [
    "# Datenbereinigung "
   ]
  },
  {
   "cell_type": "markdown",
   "metadata": {},
   "source": [
    "Die benutzten Daten zeigen eine Statistik der Krebsdaten. <br/>\n",
    "**URL**:https://data.statistik.gv.at/web/meta.jsp?dataset=OGD_krebs_ext_KREBS_1\n",
    "\n",
    "***\n",
    "\n",
    "* C-TUM_ICD10_3ST-0: Name des Krebses\n",
    "* F-KRE: Anzahl der Datensätze F-KRE\n",
    "* C-BERJ-0: Berichtsjahr\n",
    "* C-BUNDESLAND-0: Bundesland\n",
    "* C-KRE_GESCHLECHT-0: Geschlecht"
   ]
  },
  {
   "cell_type": "markdown",
   "metadata": {},
   "source": [
    "Eine kurze Sticprobe der Daten liefert uns einen gewissen Überlick der in der Studie gesammelten Daten:"
   ]
  },
  {
   "cell_type": "code",
   "execution_count": 2,
   "metadata": {},
   "outputs": [],
   "source": [
    "import pandas as pd\n",
    "import numpy as np\n",
    "import matplotlib.pyplot as plt\n",
    "import seaborn as sns"
   ]
  },
  {
   "cell_type": "code",
   "execution_count": 20,
   "metadata": {},
   "outputs": [],
   "source": [
    "# Load the data from the csv file\n",
    "cancer_data = pd.read_csv('./OGD_krebs_ext_KREBS_1.csv', delimiter=';')"
   ]
  },
  {
   "cell_type": "code",
   "execution_count": 21,
   "metadata": {},
   "outputs": [],
   "source": [
    "# Display some sample data\n",
    "cancer_data.sample(5)"
   ]
  },
  {
   "cell_type": "code",
   "execution_count": 22,
   "metadata": {},
   "outputs": [],
   "source": [
    "# Display the head of the data\n",
    "cancer_data.head()"
   ]
  },
  {
   "cell_type": "code",
   "execution_count": 23,
   "metadata": {},
   "outputs": [],
   "source": [
    "# Display the tail of the data\n",
    "cancer_data.tail()"
   ]
  },
  {
   "cell_type": "code",
   "execution_count": 24,
   "metadata": {},
   "outputs": [],
   "source": [
    "# Display the description of the data\n",
    "cancer_data.describe()"
   ]
  },
  {
   "cell_type": "markdown",
   "metadata": {},
   "source": [
    "Um einen kurzen Überlick zu bekommen mit welche Krebsarten wir es zu tun haben, schauen wir uns die einzigartigen Werte der Spalte C-TUM_ICD10_3ST-0 an."
   ]
  },
  {
   "cell_type": "code",
   "execution_count": 28,
   "metadata": {},
   "outputs": [
    {
     "data": {
      "text/plain": [
       "array(['TUM_ICD10_3ST-C00', 'TUM_ICD10_3ST-C01', 'TUM_ICD10_3ST-C02',\n",
       "       'TUM_ICD10_3ST-C03', 'TUM_ICD10_3ST-C04', 'TUM_ICD10_3ST-C05',\n",
       "       'TUM_ICD10_3ST-C06', 'TUM_ICD10_3ST-C07', 'TUM_ICD10_3ST-C08',\n",
       "       'TUM_ICD10_3ST-C09', 'TUM_ICD10_3ST-C10', 'TUM_ICD10_3ST-C11',\n",
       "       'TUM_ICD10_3ST-C12', 'TUM_ICD10_3ST-C13', 'TUM_ICD10_3ST-C14',\n",
       "       'TUM_ICD10_3ST-C15', 'TUM_ICD10_3ST-C16', 'TUM_ICD10_3ST-C17',\n",
       "       'TUM_ICD10_3ST-C18', 'TUM_ICD10_3ST-C19', 'TUM_ICD10_3ST-C20',\n",
       "       'TUM_ICD10_3ST-C21', 'TUM_ICD10_3ST-C22', 'TUM_ICD10_3ST-C23',\n",
       "       'TUM_ICD10_3ST-C24', 'TUM_ICD10_3ST-C25', 'TUM_ICD10_3ST-C26',\n",
       "       'TUM_ICD10_3ST-C30', 'TUM_ICD10_3ST-C31', 'TUM_ICD10_3ST-C32',\n",
       "       'TUM_ICD10_3ST-C33', 'TUM_ICD10_3ST-C34', 'TUM_ICD10_3ST-C37',\n",
       "       'TUM_ICD10_3ST-C38', 'TUM_ICD10_3ST-C39', 'TUM_ICD10_3ST-C40',\n",
       "       'TUM_ICD10_3ST-C41', 'TUM_ICD10_3ST-C43', 'TUM_ICD10_3ST-C45',\n",
       "       'TUM_ICD10_3ST-C46', 'TUM_ICD10_3ST-C47', 'TUM_ICD10_3ST-C48',\n",
       "       'TUM_ICD10_3ST-C49', 'TUM_ICD10_3ST-C50', 'TUM_ICD10_3ST-C51',\n",
       "       'TUM_ICD10_3ST-C52', 'TUM_ICD10_3ST-C53', 'TUM_ICD10_3ST-C54',\n",
       "       'TUM_ICD10_3ST-C55', 'TUM_ICD10_3ST-C56', 'TUM_ICD10_3ST-C57',\n",
       "       'TUM_ICD10_3ST-C58', 'TUM_ICD10_3ST-C60', 'TUM_ICD10_3ST-C61',\n",
       "       'TUM_ICD10_3ST-C62', 'TUM_ICD10_3ST-C63', 'TUM_ICD10_3ST-C64',\n",
       "       'TUM_ICD10_3ST-C65', 'TUM_ICD10_3ST-C66', 'TUM_ICD10_3ST-C67',\n",
       "       'TUM_ICD10_3ST-C68', 'TUM_ICD10_3ST-C69', 'TUM_ICD10_3ST-C70',\n",
       "       'TUM_ICD10_3ST-C71', 'TUM_ICD10_3ST-C72', 'TUM_ICD10_3ST-C73',\n",
       "       'TUM_ICD10_3ST-C74', 'TUM_ICD10_3ST-C75', 'TUM_ICD10_3ST-C76',\n",
       "       'TUM_ICD10_3ST-C77', 'TUM_ICD10_3ST-C80', 'TUM_ICD10_3ST-C81',\n",
       "       'TUM_ICD10_3ST-C82', 'TUM_ICD10_3ST-C83', 'TUM_ICD10_3ST-C84',\n",
       "       'TUM_ICD10_3ST-C85', 'TUM_ICD10_3ST-C86', 'TUM_ICD10_3ST-C88',\n",
       "       'TUM_ICD10_3ST-C90', 'TUM_ICD10_3ST-C91', 'TUM_ICD10_3ST-C92',\n",
       "       'TUM_ICD10_3ST-C93', 'TUM_ICD10_3ST-C94', 'TUM_ICD10_3ST-C95',\n",
       "       'TUM_ICD10_3ST-C96', 'TUM_ICD10_3ST-D00', 'TUM_ICD10_3ST-D01',\n",
       "       'TUM_ICD10_3ST-D02', 'TUM_ICD10_3ST-D03', 'TUM_ICD10_3ST-D05',\n",
       "       'TUM_ICD10_3ST-D06', 'TUM_ICD10_3ST-D07', 'TUM_ICD10_3ST-D09'],\n",
       "      dtype=object)"
      ]
     },
     "execution_count": 28,
     "metadata": {},
     "output_type": "execute_result"
    }
   ],
   "source": [
    "# Select the unique entries of the C-TUM_ICD10_3ST-0 column\n",
    "cancer_data['C-TUM_ICD10_3ST-0'].unique() \n"
   ]
  },
  {
   "cell_type": "markdown",
   "metadata": {},
   "source": [
    "Um die Zeitspanne der Studie zu ermitteln, schauen wir uns den kleinsten und den größten Wert der Spalte C-BERJ-0 an."
   ]
  },
  {
   "cell_type": "code",
   "execution_count": null,
   "metadata": {},
   "outputs": [],
   "source": [
    "# Select biggest entry of the C-BERJ-0 column\n",
    "cancer_data['C-BERJ-0'].max()\n",
    "\n",
    "# Select the smallest entry of the C-BERJ-0 column\n",
    "cancer_data['C-BERJ-0'].min()"
   ]
  },
  {
   "cell_type": "markdown",
   "metadata": {},
   "source": [
    "# Datenvorbereitung "
   ]
  },
  {
   "cell_type": "markdown",
   "metadata": {},
   "source": [
    "Da die originalen Daten kryptisch sind, werden wir die Daten in eine lesbare Form bringen. <br/>\n",
    "\n",
    "Kryptische Namen wie `TUM_ICD10_3ST-C00` werden zu `<C00> Bösartige Neubildung der Lippe` umgewandelt. <br/>"
   ]
  },
  {
   "cell_type": "code",
   "execution_count": 27,
   "metadata": {},
   "outputs": [
    {
     "name": "stdout",
     "output_type": "stream",
     "text": [
      "C-TUM_ICD10_3ST-0\n"
     ]
    }
   ],
   "source": [
    "cancer_tum = pd.read_csv('./OGD_krebs_ext_KREBS_1_C-TUM_ICD10_3ST-0.csv', delimiter=';')\n",
    "cancer_name = cancer_data[\"C-TUM_ICD10_3ST-0\"].name\n",
    "print(cancer_name)\n",
    "cancer_name = cancer_data[\"C-TUM_ICD10_3ST-0\"].name"
   ]
  },
  {
   "cell_type": "markdown",
   "metadata": {},
   "source": [
    "# numerische Werte"
   ]
  },
  {
   "cell_type": "code",
   "execution_count": null,
   "metadata": {},
   "outputs": [],
   "source": []
  },
  {
   "cell_type": "markdown",
   "metadata": {},
   "source": [
    "# num.csv"
   ]
  },
  {
   "cell_type": "code",
   "execution_count": null,
   "metadata": {},
   "outputs": [],
   "source": []
  },
  {
   "cell_type": "markdown",
   "metadata": {},
   "source": [
    "# Normalisieren"
   ]
  },
  {
   "cell_type": "code",
   "execution_count": null,
   "metadata": {},
   "outputs": [],
   "source": []
  },
  {
   "cell_type": "markdown",
   "metadata": {},
   "source": [
    "# norm.csv"
   ]
  },
  {
   "cell_type": "code",
   "execution_count": null,
   "metadata": {},
   "outputs": [],
   "source": []
  },
  {
   "cell_type": "markdown",
   "metadata": {},
   "source": [
    "# Nominalisieren"
   ]
  },
  {
   "cell_type": "code",
   "execution_count": null,
   "metadata": {},
   "outputs": [],
   "source": []
  },
  {
   "cell_type": "markdown",
   "metadata": {},
   "source": [
    "# nom.csv"
   ]
  },
  {
   "cell_type": "code",
   "execution_count": null,
   "metadata": {},
   "outputs": [],
   "source": []
  },
  {
   "cell_type": "markdown",
   "metadata": {},
   "source": [
    "# Visualisierung mit Seaborn"
   ]
  },
  {
   "cell_type": "code",
   "execution_count": null,
   "metadata": {},
   "outputs": [],
   "source": []
  }
 ],
 "metadata": {
  "kernelspec": {
   "display_name": "Python 3",
   "language": "python",
   "name": "python3"
  },
  "language_info": {
   "codemirror_mode": {
    "name": "ipython",
    "version": 3
   },
   "file_extension": ".py",
   "mimetype": "text/x-python",
   "name": "python",
   "nbconvert_exporter": "python",
   "pygments_lexer": "ipython3",
   "version": "3.10.11"
  }
 },
 "nbformat": 4,
 "nbformat_minor": 2
}
