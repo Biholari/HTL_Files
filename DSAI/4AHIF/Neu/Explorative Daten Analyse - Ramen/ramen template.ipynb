{
 "cells": [
  {
   "cell_type": "markdown",
   "id": "cubic-binding",
   "metadata": {},
   "source": [
    "# Objective\n",
    "Dive deep into working with datasets using _pandas_.\n",
    "\n",
    "# Things To Learn\n",
    "* Creating and working with _pandas dataframes_ and _series_.\n",
    "* Loading and getting an overview of data.\n",
    "* Manipulating datasets.\n",
    "* Selecting, grouping and sorting data.\n",
    "\n",
    "# Submission Guidelines\n",
    "* Your finished _Jupyter Notebook_ - both as `.ipynb` and exported `.pdf`."
   ]
  },
  {
   "cell_type": "markdown",
   "id": "eleven-chess",
   "metadata": {},
   "source": [
    "# Task: Manually Creating A _Dataframe_\n",
    "\n",
    "**Task:**\n",
    "Import _pandas_ and manually create a _dataframe_ containing data about a domain **you're passionate about**. Your dataframe should...\n",
    "\n",
    "* ...contain at least 4 rows.\n",
    "* ...contain at least 3 column, of which at least one should be numeric and one should be suitable as a _key_ (i.e. _index_).\n",
    "\n",
    "Next, manually create a _series_ and add it as additional column to your dataset.\n",
    "\n",
    "Finally, set the index of your dataframe to a suitable column."
   ]
  },
  {
   "cell_type": "code",
   "execution_count": null,
   "id": "sought-cholesterol",
   "metadata": {},
   "outputs": [],
   "source": []
  },
  {
   "cell_type": "markdown",
   "id": "unsigned-hungary",
   "metadata": {},
   "source": [
    "# Task: Importing And Getting An Overview"
   ]
  },
  {
   "cell_type": "markdown",
   "id": "joined-trace",
   "metadata": {},
   "source": [
    "Read the _ramen_ ratings from the provided file and get an overview of the data:\n",
    "\n",
    "* Take a look at some rows from the top, bottom or random positions...\n",
    "* Use summary functions to get a statistical overview of the data.\n",
    "* Find out what data types we're dealing with.\n",
    "* Identify what column would be suitable as index and set it!"
   ]
  },
  {
   "cell_type": "code",
   "execution_count": null,
   "id": "neural-google",
   "metadata": {},
   "outputs": [],
   "source": [
    "import pandas as pd\n",
    "\n",
    "ramen = pd.read_csv('ramen-ratings.csv')"
   ]
  },
  {
   "cell_type": "code",
   "execution_count": 2,
   "id": "e9e6c47b",
   "metadata": {},
   "outputs": [
    {
     "data": {
      "text/html": [
       "<div>\n",
       "<style scoped>\n",
       "    .dataframe tbody tr th:only-of-type {\n",
       "        vertical-align: middle;\n",
       "    }\n",
       "\n",
       "    .dataframe tbody tr th {\n",
       "        vertical-align: top;\n",
       "    }\n",
       "\n",
       "    .dataframe thead th {\n",
       "        text-align: right;\n",
       "    }\n",
       "</style>\n",
       "<table border=\"1\" class=\"dataframe\">\n",
       "  <thead>\n",
       "    <tr style=\"text-align: right;\">\n",
       "      <th></th>\n",
       "      <th>Review #</th>\n",
       "      <th>Brand</th>\n",
       "      <th>Variety</th>\n",
       "      <th>Style</th>\n",
       "      <th>Country</th>\n",
       "      <th>Stars</th>\n",
       "      <th>Top Ten</th>\n",
       "    </tr>\n",
       "  </thead>\n",
       "  <tbody>\n",
       "    <tr>\n",
       "      <th>0</th>\n",
       "      <td>2580</td>\n",
       "      <td>New Touch</td>\n",
       "      <td>T's Restaurant Tantanmen</td>\n",
       "      <td>Cup</td>\n",
       "      <td>Japan</td>\n",
       "      <td>3.75</td>\n",
       "      <td>NaN</td>\n",
       "    </tr>\n",
       "    <tr>\n",
       "      <th>1</th>\n",
       "      <td>2579</td>\n",
       "      <td>Just Way</td>\n",
       "      <td>Noodles Spicy Hot Sesame Spicy Hot Sesame Guan...</td>\n",
       "      <td>Pack</td>\n",
       "      <td>Taiwan</td>\n",
       "      <td>1</td>\n",
       "      <td>NaN</td>\n",
       "    </tr>\n",
       "    <tr>\n",
       "      <th>2</th>\n",
       "      <td>2578</td>\n",
       "      <td>Nissin</td>\n",
       "      <td>Cup Noodles Chicken Vegetable</td>\n",
       "      <td>Cup</td>\n",
       "      <td>USA</td>\n",
       "      <td>2.25</td>\n",
       "      <td>NaN</td>\n",
       "    </tr>\n",
       "    <tr>\n",
       "      <th>3</th>\n",
       "      <td>2577</td>\n",
       "      <td>Wei Lih</td>\n",
       "      <td>GGE Ramen Snack Tomato Flavor</td>\n",
       "      <td>Pack</td>\n",
       "      <td>Taiwan</td>\n",
       "      <td>2.75</td>\n",
       "      <td>NaN</td>\n",
       "    </tr>\n",
       "    <tr>\n",
       "      <th>4</th>\n",
       "      <td>2576</td>\n",
       "      <td>Ching's Secret</td>\n",
       "      <td>Singapore Curry</td>\n",
       "      <td>Pack</td>\n",
       "      <td>India</td>\n",
       "      <td>3.75</td>\n",
       "      <td>NaN</td>\n",
       "    </tr>\n",
       "  </tbody>\n",
       "</table>\n",
       "</div>"
      ],
      "text/plain": [
       "   Review #           Brand  \\\n",
       "0      2580       New Touch   \n",
       "1      2579        Just Way   \n",
       "2      2578          Nissin   \n",
       "3      2577         Wei Lih   \n",
       "4      2576  Ching's Secret   \n",
       "\n",
       "                                             Variety Style Country Stars  \\\n",
       "0                          T's Restaurant Tantanmen    Cup   Japan  3.75   \n",
       "1  Noodles Spicy Hot Sesame Spicy Hot Sesame Guan...  Pack  Taiwan     1   \n",
       "2                      Cup Noodles Chicken Vegetable   Cup     USA  2.25   \n",
       "3                      GGE Ramen Snack Tomato Flavor  Pack  Taiwan  2.75   \n",
       "4                                    Singapore Curry  Pack   India  3.75   \n",
       "\n",
       "  Top Ten  \n",
       "0     NaN  \n",
       "1     NaN  \n",
       "2     NaN  \n",
       "3     NaN  \n",
       "4     NaN  "
      ]
     },
     "execution_count": 2,
     "metadata": {},
     "output_type": "execute_result"
    }
   ],
   "source": [
    "ramen.head()"
   ]
  },
  {
   "cell_type": "code",
   "execution_count": 3,
   "id": "07b8362e",
   "metadata": {},
   "outputs": [
    {
     "data": {
      "text/html": [
       "<div>\n",
       "<style scoped>\n",
       "    .dataframe tbody tr th:only-of-type {\n",
       "        vertical-align: middle;\n",
       "    }\n",
       "\n",
       "    .dataframe tbody tr th {\n",
       "        vertical-align: top;\n",
       "    }\n",
       "\n",
       "    .dataframe thead th {\n",
       "        text-align: right;\n",
       "    }\n",
       "</style>\n",
       "<table border=\"1\" class=\"dataframe\">\n",
       "  <thead>\n",
       "    <tr style=\"text-align: right;\">\n",
       "      <th></th>\n",
       "      <th>Review #</th>\n",
       "      <th>Brand</th>\n",
       "      <th>Variety</th>\n",
       "      <th>Style</th>\n",
       "      <th>Country</th>\n",
       "      <th>Stars</th>\n",
       "      <th>Top Ten</th>\n",
       "    </tr>\n",
       "  </thead>\n",
       "  <tbody>\n",
       "    <tr>\n",
       "      <th>2575</th>\n",
       "      <td>5</td>\n",
       "      <td>Vifon</td>\n",
       "      <td>Hu Tiu Nam Vang [\"Phnom Penh\" style] Asian Sty...</td>\n",
       "      <td>Bowl</td>\n",
       "      <td>Vietnam</td>\n",
       "      <td>3.5</td>\n",
       "      <td>NaN</td>\n",
       "    </tr>\n",
       "    <tr>\n",
       "      <th>2576</th>\n",
       "      <td>4</td>\n",
       "      <td>Wai Wai</td>\n",
       "      <td>Oriental Style Instant Noodles</td>\n",
       "      <td>Pack</td>\n",
       "      <td>Thailand</td>\n",
       "      <td>1</td>\n",
       "      <td>NaN</td>\n",
       "    </tr>\n",
       "    <tr>\n",
       "      <th>2577</th>\n",
       "      <td>3</td>\n",
       "      <td>Wai Wai</td>\n",
       "      <td>Tom Yum Shrimp</td>\n",
       "      <td>Pack</td>\n",
       "      <td>Thailand</td>\n",
       "      <td>2</td>\n",
       "      <td>NaN</td>\n",
       "    </tr>\n",
       "    <tr>\n",
       "      <th>2578</th>\n",
       "      <td>2</td>\n",
       "      <td>Wai Wai</td>\n",
       "      <td>Tom Yum Chili Flavor</td>\n",
       "      <td>Pack</td>\n",
       "      <td>Thailand</td>\n",
       "      <td>2</td>\n",
       "      <td>NaN</td>\n",
       "    </tr>\n",
       "    <tr>\n",
       "      <th>2579</th>\n",
       "      <td>1</td>\n",
       "      <td>Westbrae</td>\n",
       "      <td>Miso Ramen</td>\n",
       "      <td>Pack</td>\n",
       "      <td>USA</td>\n",
       "      <td>0.5</td>\n",
       "      <td>NaN</td>\n",
       "    </tr>\n",
       "  </tbody>\n",
       "</table>\n",
       "</div>"
      ],
      "text/plain": [
       "      Review #     Brand                                            Variety  \\\n",
       "2575         5     Vifon  Hu Tiu Nam Vang [\"Phnom Penh\" style] Asian Sty...   \n",
       "2576         4   Wai Wai                     Oriental Style Instant Noodles   \n",
       "2577         3   Wai Wai                                     Tom Yum Shrimp   \n",
       "2578         2   Wai Wai                               Tom Yum Chili Flavor   \n",
       "2579         1  Westbrae                                         Miso Ramen   \n",
       "\n",
       "     Style   Country Stars Top Ten  \n",
       "2575  Bowl   Vietnam   3.5     NaN  \n",
       "2576  Pack  Thailand     1     NaN  \n",
       "2577  Pack  Thailand     2     NaN  \n",
       "2578  Pack  Thailand     2     NaN  \n",
       "2579  Pack       USA   0.5     NaN  "
      ]
     },
     "execution_count": 3,
     "metadata": {},
     "output_type": "execute_result"
    }
   ],
   "source": [
    "ramen.tail()"
   ]
  },
  {
   "cell_type": "code",
   "execution_count": 4,
   "id": "8d824b8a",
   "metadata": {},
   "outputs": [
    {
     "data": {
      "text/html": [
       "<div>\n",
       "<style scoped>\n",
       "    .dataframe tbody tr th:only-of-type {\n",
       "        vertical-align: middle;\n",
       "    }\n",
       "\n",
       "    .dataframe tbody tr th {\n",
       "        vertical-align: top;\n",
       "    }\n",
       "\n",
       "    .dataframe thead th {\n",
       "        text-align: right;\n",
       "    }\n",
       "</style>\n",
       "<table border=\"1\" class=\"dataframe\">\n",
       "  <thead>\n",
       "    <tr style=\"text-align: right;\">\n",
       "      <th></th>\n",
       "      <th>Review #</th>\n",
       "      <th>Brand</th>\n",
       "      <th>Variety</th>\n",
       "      <th>Style</th>\n",
       "      <th>Country</th>\n",
       "      <th>Stars</th>\n",
       "      <th>Top Ten</th>\n",
       "    </tr>\n",
       "  </thead>\n",
       "  <tbody>\n",
       "    <tr>\n",
       "      <th>1280</th>\n",
       "      <td>1300</td>\n",
       "      <td>Samyang Foods</td>\n",
       "      <td>Red Nagasaki Jjampong</td>\n",
       "      <td>Pack</td>\n",
       "      <td>South Korea</td>\n",
       "      <td>5</td>\n",
       "      <td>NaN</td>\n",
       "    </tr>\n",
       "  </tbody>\n",
       "</table>\n",
       "</div>"
      ],
      "text/plain": [
       "      Review #          Brand                Variety Style      Country Stars  \\\n",
       "1280      1300  Samyang Foods  Red Nagasaki Jjampong  Pack  South Korea     5   \n",
       "\n",
       "     Top Ten  \n",
       "1280     NaN  "
      ]
     },
     "execution_count": 4,
     "metadata": {},
     "output_type": "execute_result"
    }
   ],
   "source": [
    "ramen.sample()"
   ]
  },
  {
   "cell_type": "code",
   "execution_count": 5,
   "id": "271d9117",
   "metadata": {},
   "outputs": [
    {
     "data": {
      "text/html": [
       "<div>\n",
       "<style scoped>\n",
       "    .dataframe tbody tr th:only-of-type {\n",
       "        vertical-align: middle;\n",
       "    }\n",
       "\n",
       "    .dataframe tbody tr th {\n",
       "        vertical-align: top;\n",
       "    }\n",
       "\n",
       "    .dataframe thead th {\n",
       "        text-align: right;\n",
       "    }\n",
       "</style>\n",
       "<table border=\"1\" class=\"dataframe\">\n",
       "  <thead>\n",
       "    <tr style=\"text-align: right;\">\n",
       "      <th></th>\n",
       "      <th>Review #</th>\n",
       "    </tr>\n",
       "  </thead>\n",
       "  <tbody>\n",
       "    <tr>\n",
       "      <th>count</th>\n",
       "      <td>2580.000000</td>\n",
       "    </tr>\n",
       "    <tr>\n",
       "      <th>mean</th>\n",
       "      <td>1290.500000</td>\n",
       "    </tr>\n",
       "    <tr>\n",
       "      <th>std</th>\n",
       "      <td>744.926171</td>\n",
       "    </tr>\n",
       "    <tr>\n",
       "      <th>min</th>\n",
       "      <td>1.000000</td>\n",
       "    </tr>\n",
       "    <tr>\n",
       "      <th>25%</th>\n",
       "      <td>645.750000</td>\n",
       "    </tr>\n",
       "    <tr>\n",
       "      <th>50%</th>\n",
       "      <td>1290.500000</td>\n",
       "    </tr>\n",
       "    <tr>\n",
       "      <th>75%</th>\n",
       "      <td>1935.250000</td>\n",
       "    </tr>\n",
       "    <tr>\n",
       "      <th>max</th>\n",
       "      <td>2580.000000</td>\n",
       "    </tr>\n",
       "  </tbody>\n",
       "</table>\n",
       "</div>"
      ],
      "text/plain": [
       "          Review #\n",
       "count  2580.000000\n",
       "mean   1290.500000\n",
       "std     744.926171\n",
       "min       1.000000\n",
       "25%     645.750000\n",
       "50%    1290.500000\n",
       "75%    1935.250000\n",
       "max    2580.000000"
      ]
     },
     "execution_count": 5,
     "metadata": {},
     "output_type": "execute_result"
    }
   ],
   "source": [
    "ramen.describe()"
   ]
  },
  {
   "cell_type": "code",
   "execution_count": 6,
   "id": "8ce5236d",
   "metadata": {},
   "outputs": [
    {
     "data": {
      "text/plain": [
       "Review #     int64\n",
       "Brand       object\n",
       "Variety     object\n",
       "Style       object\n",
       "Country     object\n",
       "Stars       object\n",
       "Top Ten     object\n",
       "dtype: object"
      ]
     },
     "execution_count": 6,
     "metadata": {},
     "output_type": "execute_result"
    }
   ],
   "source": [
    "ramen.dtypes"
   ]
  },
  {
   "cell_type": "code",
   "execution_count": 7,
   "id": "80a1de03",
   "metadata": {},
   "outputs": [],
   "source": [
    "ramen.set_index('Review #', inplace=True)"
   ]
  },
  {
   "cell_type": "markdown",
   "id": "progressive-register",
   "metadata": {},
   "source": [
    "# Task: Dealing With Erroneous Rows\n",
    "\n",
    "As you surely noticed, the star ratings are not included in the numerical statistics. Find out why and fix this, so we can work with the column:\n",
    "\n",
    "* Take a look at the column's data type (should have been determined in the last task). Try casting it to `float`!\n",
    "* Find out all the unique values in the column.\n",
    "* Now that you know the faulty values, identify their rows and drop them. This should affect 3 rows.\n",
    "* Try casting the the column again and make sure we can now calculate statistics on it by printing the mean of it."
   ]
  },
  {
   "cell_type": "code",
   "execution_count": 8,
   "id": "major-migration",
   "metadata": {},
   "outputs": [],
   "source": [
    "ramen['Stars'] = pd.to_numeric(ramen['Stars'], errors='coerce')"
   ]
  },
  {
   "cell_type": "code",
   "execution_count": 9,
   "id": "f550390b",
   "metadata": {},
   "outputs": [
    {
     "data": {
      "text/plain": [
       "array([3.75 , 1.   , 2.25 , 2.75 , 4.75 , 4.   , 0.25 , 2.5  , 5.   ,\n",
       "       4.25 , 4.5  , 3.5  ,   nan, 1.5  , 3.25 , 2.   , 0.   , 3.   ,\n",
       "       0.5  , 3.8  , 4.3  , 2.3  , 3.3  , 1.75 , 0.75 , 1.25 , 1.1  ,\n",
       "       2.1  , 0.9  , 3.1  , 4.125, 3.125, 2.125, 2.9  , 0.1  , 2.8  ,\n",
       "       3.7  , 3.4  , 3.6  , 2.85 , 3.2  , 3.65 , 1.8  ])"
      ]
     },
     "execution_count": 9,
     "metadata": {},
     "output_type": "execute_result"
    }
   ],
   "source": [
    "ramen['Stars'].unique()"
   ]
  },
  {
   "cell_type": "code",
   "execution_count": null,
   "id": "33842e8b",
   "metadata": {},
   "outputs": [],
   "source": [
    "#?"
   ]
  },
  {
   "cell_type": "code",
   "execution_count": null,
   "id": "b2e6f807",
   "metadata": {},
   "outputs": [],
   "source": [
    "#?"
   ]
  },
  {
   "cell_type": "markdown",
   "id": "severe-treasurer",
   "metadata": {},
   "source": [
    "# Task: Missing Values\n",
    "\n",
    "We don't want to deal with missing values in this example. Do the following:\n",
    "\n",
    "* Find out how many values are missing in each column.\n",
    "* One column should be missing 2 values. Identify the relevant rows and delete them.\n",
    "* One column should be missing a lot of values. Delete the whole column."
   ]
  },
  {
   "cell_type": "code",
   "execution_count": null,
   "id": "ea195001",
   "metadata": {},
   "outputs": [
    {
     "data": {
      "text/plain": [
       "Brand         0\n",
       "Variety       0\n",
       "Style         2\n",
       "Country       0\n",
       "Stars         3\n",
       "Top Ten    2539\n",
       "dtype: int64"
      ]
     },
     "execution_count": 11,
     "metadata": {},
     "output_type": "execute_result"
    }
   ],
   "source": [
    "ramen.isnull().sum()"
   ]
  },
  {
   "cell_type": "code",
   "execution_count": 15,
   "id": "02b347f6",
   "metadata": {},
   "outputs": [],
   "source": [
    "# Drop rows from Style column that are null\n",
    "ramen.dropna(subset=['Style'], inplace=True)"
   ]
  },
  {
   "cell_type": "code",
   "execution_count": 17,
   "id": "23e63473",
   "metadata": {},
   "outputs": [],
   "source": [
    "# Drop column Top Ten\n",
    "ramen.drop(columns=['Top Ten'], inplace=True)"
   ]
  },
  {
   "cell_type": "markdown",
   "id": "federal-season",
   "metadata": {},
   "source": [
    "# Task: Create A Price-Column\n",
    "\n",
    "Unfortunately the ramen reviews don't contain a price column. Let's _fake_ one with rough estimates:\n",
    "\n",
    "* A _pack_ of ramen should cost 0.79.\n",
    "* A _bowl_ of ramen should cost 1.79.\n",
    "* A _cup_ of ramen should cost 1.29.\n",
    "* A _tray_ of ramen should cost 2.19.\n",
    "* All other types should cost 1.09.\n",
    "\n",
    "Create a function calculating the price based on the style. Use `map` to create a series and add it as a new column to your dataframe."
   ]
  },
  {
   "cell_type": "code",
   "execution_count": 19,
   "id": "b0ff1479",
   "metadata": {},
   "outputs": [],
   "source": [
    "PACK = 0.79\n",
    "BOWL = 1.79\n",
    "CUP = 1.29\n",
    "TRAY = 2.19\n",
    "OTHER = 1.09\n",
    "\n",
    "def calc_price(row):\n",
    "    match row['Style']:\n",
    "        case 'Pack':\n",
    "            return PACK\n",
    "        case 'Bowl':\n",
    "            return BOWL\n",
    "        case 'Cup':\n",
    "            return CUP\n",
    "        case 'Tray':\n",
    "            return TRAY\n",
    "        case _:\n",
    "            return OTHER\n",
    "        \n",
    "ramen['Price'] = ramen.apply(calc_price, axis=1)"
   ]
  },
  {
   "cell_type": "markdown",
   "id": "unauthorized-litigation",
   "metadata": {},
   "source": [
    "# Task: From Stars To Points\n",
    "\n",
    "Let's switch from a _star rating_ to a _point rating_ between 1 and 100.\n",
    "\n",
    "* Calculate the points based on the stars, where 5 stars equal 100 points.\n",
    "* Change the column name from _Stars_ to _Points_."
   ]
  },
  {
   "cell_type": "code",
   "execution_count": 30,
   "id": "1bfc69c1",
   "metadata": {},
   "outputs": [],
   "source": [
    "ramen['Points'] = ramen['Points'] * 20"
   ]
  },
  {
   "cell_type": "code",
   "execution_count": 23,
   "id": "ca19773c",
   "metadata": {},
   "outputs": [],
   "source": [
    "# Rename colum Stars to Points\n",
    "ramen.rename(columns={'Stars': 'Points'}, inplace=True)"
   ]
  },
  {
   "cell_type": "markdown",
   "id": "junior-butler",
   "metadata": {},
   "source": [
    "# Task: Create A Recommendation-Column\n",
    "\n",
    "Let's create a new column containing a textual recommendation:\n",
    "\n",
    "* Ramen with points higher or equal than 90 points get either _Amazing value!_ (for prices benath 1.3) or _Expensive but delicious!_.\n",
    "* Other ramen with ratings above 80 should read _Must-Try!_.\n",
    "* Other cheap ramen with a price below 1 should read _Budget choice!_.\n",
    "* All other ramen should read _Why not?_.\n",
    "\n",
    "Since you need multiple columns to calculate the recommendation, you need to use `apply`. Check how often each recommendation text appears afterwards!"
   ]
  },
  {
   "cell_type": "code",
   "execution_count": null,
   "id": "1184483a",
   "metadata": {},
   "outputs": [],
   "source": [
    "ramen['Textual Recommendation'] = ramen.apply(\n",
    "    lambda row: 'Amazing value!' if row['Points'] >= 90 and row['Price'] < 1.3 else\n",
    "                'Expensive but delicious!' if row['Points'] >= 90 else\n",
    "                'Must-Try!' if row['Points'] > 80 else\n",
    "                'Budget choice!' if row['Price'] < 1 else\n",
    "                'Why not?',\n",
    "    axis=1\n",
    ")\n"
   ]
  },
  {
   "cell_type": "code",
   "execution_count": 34,
   "id": "cfde3d04",
   "metadata": {},
   "outputs": [
    {
     "data": {
      "text/plain": [
       "Textual Recommendation\n",
       "Budget choice!              1083\n",
       "Why not?                     761\n",
       "Amazing value!               441\n",
       "Must-Try!                    149\n",
       "Expensive but delicious!     144\n",
       "Name: count, dtype: int64"
      ]
     },
     "execution_count": 34,
     "metadata": {},
     "output_type": "execute_result"
    }
   ],
   "source": [
    "ramen['Textual Recommendation'].value_counts()"
   ]
  },
  {
   "cell_type": "markdown",
   "id": "respiratory-cotton",
   "metadata": {},
   "source": [
    "# Task: Export Data\n",
    "\n",
    "At this point it makes sense to backup our processed dataframe. Export the data into a file `ramen_processed.csv` into a subfolder `output` and compare your results to the provided solution."
   ]
  },
  {
   "cell_type": "code",
   "execution_count": 35,
   "id": "bdf188a6",
   "metadata": {},
   "outputs": [],
   "source": [
    "import os\n",
    "\n",
    "os.mkdir('output')\n",
    "\n",
    "ramen.to_csv('output/ramen_processed.csv')"
   ]
  },
  {
   "cell_type": "markdown",
   "id": "increasing-hawaii",
   "metadata": {},
   "source": [
    "# Task: Selecting Data (_Integer-Based_)\n",
    "\n",
    "You can now either use the dataset you've worked on so far or - if in doubt - load our `ramen_processed_solution.csv` for the next tasks.\n",
    "\n",
    "Solve the following tasks to sharpen your selecting skills:\n",
    "\n",
    "* Get the first two columns of the last ten rows.\n",
    "* Get the 4<sup>th</sup> column of the 15<sup>th</sup> row.\n",
    "* Get the second and the last column of the second last ten rows.\n",
    "* Get everything but the first column of the 20<sup>th</sup>, 30<sup>th</sup>, 40<sup>th</sup> and 50</sup>th</sup> row.\n",
    "* Get every column of the 100<sup>th</sup> up to (and including) the 200<sup>th</sup> row.\n",
    "* Get the third column of every row."
   ]
  },
  {
   "cell_type": "code",
   "execution_count": 36,
   "id": "1e20e87e",
   "metadata": {},
   "outputs": [
    {
     "data": {
      "text/html": [
       "<div>\n",
       "<style scoped>\n",
       "    .dataframe tbody tr th:only-of-type {\n",
       "        vertical-align: middle;\n",
       "    }\n",
       "\n",
       "    .dataframe tbody tr th {\n",
       "        vertical-align: top;\n",
       "    }\n",
       "\n",
       "    .dataframe thead th {\n",
       "        text-align: right;\n",
       "    }\n",
       "</style>\n",
       "<table border=\"1\" class=\"dataframe\">\n",
       "  <thead>\n",
       "    <tr style=\"text-align: right;\">\n",
       "      <th></th>\n",
       "      <th>Brand</th>\n",
       "      <th>Variety</th>\n",
       "    </tr>\n",
       "    <tr>\n",
       "      <th>Review #</th>\n",
       "      <th></th>\n",
       "      <th></th>\n",
       "    </tr>\n",
       "  </thead>\n",
       "  <tbody>\n",
       "    <tr>\n",
       "      <th>10</th>\n",
       "      <td>Smack</td>\n",
       "      <td>Vegetable Beef</td>\n",
       "    </tr>\n",
       "    <tr>\n",
       "      <th>9</th>\n",
       "      <td>Sutah</td>\n",
       "      <td>Cup Noodle</td>\n",
       "    </tr>\n",
       "    <tr>\n",
       "      <th>8</th>\n",
       "      <td>Tung-I</td>\n",
       "      <td>Chinese Beef Instant Rice Noodle</td>\n",
       "    </tr>\n",
       "    <tr>\n",
       "      <th>7</th>\n",
       "      <td>Ve Wong</td>\n",
       "      <td>Mushroom Pork</td>\n",
       "    </tr>\n",
       "    <tr>\n",
       "      <th>6</th>\n",
       "      <td>Vifon</td>\n",
       "      <td>Nam Vang</td>\n",
       "    </tr>\n",
       "    <tr>\n",
       "      <th>5</th>\n",
       "      <td>Vifon</td>\n",
       "      <td>Hu Tiu Nam Vang [\"Phnom Penh\" style] Asian Sty...</td>\n",
       "    </tr>\n",
       "    <tr>\n",
       "      <th>4</th>\n",
       "      <td>Wai Wai</td>\n",
       "      <td>Oriental Style Instant Noodles</td>\n",
       "    </tr>\n",
       "    <tr>\n",
       "      <th>3</th>\n",
       "      <td>Wai Wai</td>\n",
       "      <td>Tom Yum Shrimp</td>\n",
       "    </tr>\n",
       "    <tr>\n",
       "      <th>2</th>\n",
       "      <td>Wai Wai</td>\n",
       "      <td>Tom Yum Chili Flavor</td>\n",
       "    </tr>\n",
       "    <tr>\n",
       "      <th>1</th>\n",
       "      <td>Westbrae</td>\n",
       "      <td>Miso Ramen</td>\n",
       "    </tr>\n",
       "  </tbody>\n",
       "</table>\n",
       "</div>"
      ],
      "text/plain": [
       "             Brand                                            Variety\n",
       "Review #                                                             \n",
       "10           Smack                                     Vegetable Beef\n",
       "9            Sutah                                         Cup Noodle\n",
       "8           Tung-I                   Chinese Beef Instant Rice Noodle\n",
       "7          Ve Wong                                      Mushroom Pork\n",
       "6            Vifon                                           Nam Vang\n",
       "5            Vifon  Hu Tiu Nam Vang [\"Phnom Penh\" style] Asian Sty...\n",
       "4          Wai Wai                     Oriental Style Instant Noodles\n",
       "3          Wai Wai                                     Tom Yum Shrimp\n",
       "2          Wai Wai                               Tom Yum Chili Flavor\n",
       "1         Westbrae                                         Miso Ramen"
      ]
     },
     "execution_count": 36,
     "metadata": {},
     "output_type": "execute_result"
    }
   ],
   "source": [
    "ramen.iloc[-10:, :2]"
   ]
  },
  {
   "cell_type": "code",
   "execution_count": null,
   "id": "f3eda67e",
   "metadata": {},
   "outputs": [
    {
     "data": {
      "text/plain": [
       "'Pack'"
      ]
     },
     "execution_count": 45,
     "metadata": {},
     "output_type": "execute_result"
    }
   ],
   "source": [
    "ramen.iloc[14, 3]"
   ]
  },
  {
   "cell_type": "code",
   "execution_count": 46,
   "id": "55c8397b",
   "metadata": {},
   "outputs": [
    {
     "data": {
      "text/html": [
       "<div>\n",
       "<style scoped>\n",
       "    .dataframe tbody tr th:only-of-type {\n",
       "        vertical-align: middle;\n",
       "    }\n",
       "\n",
       "    .dataframe tbody tr th {\n",
       "        vertical-align: top;\n",
       "    }\n",
       "\n",
       "    .dataframe thead th {\n",
       "        text-align: right;\n",
       "    }\n",
       "</style>\n",
       "<table border=\"1\" class=\"dataframe\">\n",
       "  <thead>\n",
       "    <tr style=\"text-align: right;\">\n",
       "      <th></th>\n",
       "      <th>Variety</th>\n",
       "      <th>Price</th>\n",
       "    </tr>\n",
       "    <tr>\n",
       "      <th>Review #</th>\n",
       "      <th></th>\n",
       "      <th></th>\n",
       "    </tr>\n",
       "  </thead>\n",
       "  <tbody>\n",
       "    <tr>\n",
       "      <th>10</th>\n",
       "      <td>Vegetable Beef</td>\n",
       "      <td>0.79</td>\n",
       "    </tr>\n",
       "    <tr>\n",
       "      <th>9</th>\n",
       "      <td>Cup Noodle</td>\n",
       "      <td>1.29</td>\n",
       "    </tr>\n",
       "    <tr>\n",
       "      <th>8</th>\n",
       "      <td>Chinese Beef Instant Rice Noodle</td>\n",
       "      <td>0.79</td>\n",
       "    </tr>\n",
       "    <tr>\n",
       "      <th>7</th>\n",
       "      <td>Mushroom Pork</td>\n",
       "      <td>0.79</td>\n",
       "    </tr>\n",
       "    <tr>\n",
       "      <th>6</th>\n",
       "      <td>Nam Vang</td>\n",
       "      <td>0.79</td>\n",
       "    </tr>\n",
       "    <tr>\n",
       "      <th>5</th>\n",
       "      <td>Hu Tiu Nam Vang [\"Phnom Penh\" style] Asian Sty...</td>\n",
       "      <td>1.79</td>\n",
       "    </tr>\n",
       "    <tr>\n",
       "      <th>4</th>\n",
       "      <td>Oriental Style Instant Noodles</td>\n",
       "      <td>0.79</td>\n",
       "    </tr>\n",
       "    <tr>\n",
       "      <th>3</th>\n",
       "      <td>Tom Yum Shrimp</td>\n",
       "      <td>0.79</td>\n",
       "    </tr>\n",
       "    <tr>\n",
       "      <th>2</th>\n",
       "      <td>Tom Yum Chili Flavor</td>\n",
       "      <td>0.79</td>\n",
       "    </tr>\n",
       "    <tr>\n",
       "      <th>1</th>\n",
       "      <td>Miso Ramen</td>\n",
       "      <td>0.79</td>\n",
       "    </tr>\n",
       "  </tbody>\n",
       "</table>\n",
       "</div>"
      ],
      "text/plain": [
       "                                                    Variety  Price\n",
       "Review #                                                          \n",
       "10                                           Vegetable Beef   0.79\n",
       "9                                                Cup Noodle   1.29\n",
       "8                          Chinese Beef Instant Rice Noodle   0.79\n",
       "7                                             Mushroom Pork   0.79\n",
       "6                                                  Nam Vang   0.79\n",
       "5         Hu Tiu Nam Vang [\"Phnom Penh\" style] Asian Sty...   1.79\n",
       "4                            Oriental Style Instant Noodles   0.79\n",
       "3                                            Tom Yum Shrimp   0.79\n",
       "2                                      Tom Yum Chili Flavor   0.79\n",
       "1                                                Miso Ramen   0.79"
      ]
     },
     "execution_count": 46,
     "metadata": {},
     "output_type": "execute_result"
    }
   ],
   "source": [
    "ramen.iloc[-10:, [1, -2]]"
   ]
  },
  {
   "cell_type": "code",
   "execution_count": 47,
   "id": "d7cebdc1",
   "metadata": {},
   "outputs": [
    {
     "data": {
      "text/html": [
       "<div>\n",
       "<style scoped>\n",
       "    .dataframe tbody tr th:only-of-type {\n",
       "        vertical-align: middle;\n",
       "    }\n",
       "\n",
       "    .dataframe tbody tr th {\n",
       "        vertical-align: top;\n",
       "    }\n",
       "\n",
       "    .dataframe thead th {\n",
       "        text-align: right;\n",
       "    }\n",
       "</style>\n",
       "<table border=\"1\" class=\"dataframe\">\n",
       "  <thead>\n",
       "    <tr style=\"text-align: right;\">\n",
       "      <th></th>\n",
       "      <th>Variety</th>\n",
       "      <th>Style</th>\n",
       "      <th>Country</th>\n",
       "      <th>Points</th>\n",
       "      <th>Price</th>\n",
       "      <th>Textual Recommendation</th>\n",
       "    </tr>\n",
       "    <tr>\n",
       "      <th>Review #</th>\n",
       "      <th></th>\n",
       "      <th></th>\n",
       "      <th></th>\n",
       "      <th></th>\n",
       "      <th></th>\n",
       "      <th></th>\n",
       "    </tr>\n",
       "  </thead>\n",
       "  <tbody>\n",
       "    <tr>\n",
       "      <th>2560</th>\n",
       "      <td>Cup Noodles Laksa Flavour</td>\n",
       "      <td>Cup</td>\n",
       "      <td>Hong Kong</td>\n",
       "      <td>85.0</td>\n",
       "      <td>1.29</td>\n",
       "      <td>Must-Try!</td>\n",
       "    </tr>\n",
       "    <tr>\n",
       "      <th>2550</th>\n",
       "      <td>Paegaejang Ramen</td>\n",
       "      <td>Pack</td>\n",
       "      <td>South Korea</td>\n",
       "      <td>100.0</td>\n",
       "      <td>0.79</td>\n",
       "      <td>Amazing value!</td>\n",
       "    </tr>\n",
       "    <tr>\n",
       "      <th>2540</th>\n",
       "      <td>GGE Noodle Snack Wheat Crackers Mexican Spicy</td>\n",
       "      <td>Pack</td>\n",
       "      <td>Taiwan</td>\n",
       "      <td>65.0</td>\n",
       "      <td>0.79</td>\n",
       "      <td>Budget choice!</td>\n",
       "    </tr>\n",
       "    <tr>\n",
       "      <th>2530</th>\n",
       "      <td>Ppushu Ppushu Noodle Snack Honey Butter</td>\n",
       "      <td>Pack</td>\n",
       "      <td>South Korea</td>\n",
       "      <td>40.0</td>\n",
       "      <td>0.79</td>\n",
       "      <td>Budget choice!</td>\n",
       "    </tr>\n",
       "  </tbody>\n",
       "</table>\n",
       "</div>"
      ],
      "text/plain": [
       "                                                Variety Style      Country  \\\n",
       "Review #                                                                     \n",
       "2560                          Cup Noodles Laksa Flavour   Cup    Hong Kong   \n",
       "2550                                   Paegaejang Ramen  Pack  South Korea   \n",
       "2540      GGE Noodle Snack Wheat Crackers Mexican Spicy  Pack       Taiwan   \n",
       "2530           Ppushu Ppushu Noodle Snack Honey Butter   Pack  South Korea   \n",
       "\n",
       "          Points  Price Textual Recommendation  \n",
       "Review #                                        \n",
       "2560        85.0   1.29              Must-Try!  \n",
       "2550       100.0   0.79         Amazing value!  \n",
       "2540        65.0   0.79         Budget choice!  \n",
       "2530        40.0   0.79         Budget choice!  "
      ]
     },
     "execution_count": 47,
     "metadata": {},
     "output_type": "execute_result"
    }
   ],
   "source": [
    "ramen.iloc[[20, 30, 40, 50], 1:]"
   ]
  },
  {
   "cell_type": "code",
   "execution_count": null,
   "id": "cacc2dbd",
   "metadata": {},
   "outputs": [],
   "source": [
    "# Get every column of the 100th up to the 200th row.\n",
    "ramen.iloc[100:201, :]"
   ]
  },
  {
   "cell_type": "code",
   "execution_count": 48,
   "id": "ba9fd9e0",
   "metadata": {},
   "outputs": [
    {
     "data": {
      "text/plain": [
       "Review #\n",
       "2580     Cup\n",
       "2579    Pack\n",
       "2578     Cup\n",
       "2577    Pack\n",
       "2576    Pack\n",
       "        ... \n",
       "5       Bowl\n",
       "4       Pack\n",
       "3       Pack\n",
       "2       Pack\n",
       "1       Pack\n",
       "Name: Style, Length: 2578, dtype: object"
      ]
     },
     "execution_count": 48,
     "metadata": {},
     "output_type": "execute_result"
    }
   ],
   "source": [
    "# Get the third column of every row\n",
    "ramen.iloc[:, 2]"
   ]
  },
  {
   "cell_type": "markdown",
   "id": "characteristic-order",
   "metadata": {},
   "source": [
    "# Task: Selecting Data (_Label-Based_)\n",
    "\n",
    "Solve the following tasks to sharpen your selecting skills:\n",
    "\n",
    "* Get the variety and textual recommendation for the review _#1235_.\n",
    "* Get all columns but the textual recommendation for the reviews from (and including) _#5_ to (and including) _#10_.\n",
    "* Get the style and points for the reviews _#123_, _#234_ and _#345_.\n",
    "* Get the variety, style and country for all reviews."
   ]
  },
  {
   "cell_type": "markdown",
   "id": "loving-senior",
   "metadata": {},
   "source": [
    "# Task: Conditional Selection\n",
    "\n",
    "Solve the following tasks to sharpen your selection skills:\n",
    "\n",
    "* Get everything about ramen that comes in a bowl.\n",
    "* Get variety, style and points of all ramen that comes from Germany.\n",
    "* Get the columns from brand up to country of all ramen that comes in a cup and has a rating lower than 10 points.\n",
    "* Get brand, variety and points of all ramen either produced by _Samyang_ or having a rating over 95 points.\n",
    "* Get everything but price and recommendation for all ramen containing _Hello Kitty_ in their variety field.\n",
    "* Get everything up to country for all ramen from the brands _Knorr_, _Vifon_ and _Yum Yum_."
   ]
  },
  {
   "cell_type": "markdown",
   "id": "mature-livestock",
   "metadata": {},
   "source": [
    "# Task: Grouping And Sorting\n",
    "\n",
    "Use grouping to solve the following tasks:\n",
    "\n",
    "* Print out the number of reviews per brand in ascending order.\n",
    "* Print out all the styles and their mean rating points - in descending order.\n",
    "* Print out the minimum, maximum and mean price per brand, sorted by the maximum values.\n",
    "* Print out all the values of the highest rated ramen per style!\n",
    "* Print out the count and mean of ratings per style per brand, sorted by the count."
   ]
  },
  {
   "cell_type": "markdown",
   "id": "whole-baking",
   "metadata": {},
   "source": [
    "# Good Job!"
   ]
  }
 ],
 "metadata": {
  "kernelspec": {
   "display_name": "Python 3",
   "language": "python",
   "name": "python3"
  },
  "language_info": {
   "codemirror_mode": {
    "name": "ipython",
    "version": 3
   },
   "file_extension": ".py",
   "mimetype": "text/x-python",
   "name": "python",
   "nbconvert_exporter": "python",
   "pygments_lexer": "ipython3",
   "version": "3.10.11"
  }
 },
 "nbformat": 4,
 "nbformat_minor": 5
}
