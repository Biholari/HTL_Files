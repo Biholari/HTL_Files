{
 "cells": [
  {
   "cell_type": "markdown",
   "id": "124e6773",
   "metadata": {},
   "source": [
    "* school - student's school (binary: 'GP' - Gabriel Pereira or 'MS' - Mousinho da Silveira)\n",
    "* sex - student's sex (binary: 'F' - female or 'M' - male)\n",
    "* age - student's age (numeric: from 15 to 22)\n",
    "* address - student's home address type (binary: 'U' - urban or 'R' - rural)\n",
    "* famsize - family size (binary: 'LE3' - less or equal to 3 or 'GT3' - greater than 3)\n",
    "* Pstatus - parent's cohabitation status (binary: 'T' - living together or 'A' - apart)\n",
    "* Medu - mother's education (numeric: 0 - none, 1 - primary education (4th grade), 2 – 5th to 9th grade, 3 – secondary education or 4 – higher education)\n",
    "* Fedu - father's education (numeric: 0 - none, 1 - primary education (4th grade), 2 – 5th to 9th grade, 3 – secondary education or 4 – higher education)\n",
    "* Mjob - mother's job (nominal: 'teacher', 'health' care related, civil 'services' (e.g. administrative or police), 'at_home' or 'other')\n",
    "* Fjob - father's job (nominal: 'teacher', 'health' care related, civil 'services' (e.g. administrative or police), 'at_home' or 'other')\n",
    "* reason - reason to choose this school (nominal: close to 'home', school 'reputation', 'course' preference or 'other')\n",
    "* guardian - student's guardian (nominal: 'mother', 'father' or 'other')\n",
    "* traveltime - home to school travel time (numeric: 1 - <15 min., 2 - 15 to 30 min., 3 - 30 min. to 1 hour, or 4 - >1 hour)\n",
    "* studytime - weekly study time (numeric: 1 - <2 hours, 2 - 2 to 5 hours, 3 - 5 to 10 hours, or 4 - >10 hours)\n",
    "* failures - number of past class failures (numeric: n if 1<=n<3, else 4)\n",
    "* schoolsup - extra educational support (binary: yes or no)\n",
    "* famsup - family educational support (binary: yes or no)\n",
    "* paid - extra paid classes within the course subject (Math or Portuguese) (binary: yes or no)\n",
    "* activities - extra-curricular activities (binary: yes or no)\n",
    "* nursery - attended nursery school (binary: yes or no)\n",
    "* higher - wants to take higher education (binary: yes or no)\n",
    "* internet - Internet access at home (binary: yes or no)\n",
    "* romantic - with a romantic relationship (binary: yes or no)\n",
    "* famrel - quality of family relationships (numeric: from 1 - very bad to 5 - excellent)\n",
    "* freetime - free time after school (numeric: from 1 - very low to 5 - very high)\n",
    "* goout - going out with friends (numeric: from 1 - very low to 5 - very high)\n",
    "* Dalc - workday alcohol consumption (numeric: from 1 - very low to 5 - very high)\n",
    "* Walc - weekend alcohol consumption (numeric: from 1 - very low to 5 - very high)\n",
    "* health - current health status (numeric: from 1 - very bad to 5 - very good)\n",
    "* absences - number of school absences (numeric: from 0 to 93)\n",
    "\n",
    "\n",
    "* G1 - first period grade (numeric: from 0 to 20)\n",
    "* G2 - second period grade (numeric: from 0 to 20)\n",
    "* G3 - final grade (numeric: from 0 to 20, output target)"
   ]
  },
  {
   "cell_type": "code",
   "execution_count": 1,
   "id": "359f211f",
   "metadata": {},
   "outputs": [],
   "source": [
    "import pandas as pd"
   ]
  },
  {
   "cell_type": "markdown",
   "id": "d2719c33",
   "metadata": {},
   "source": [
    "## Erzeuge einen DataFrame aus `student-math.csv`"
   ]
  },
  {
   "cell_type": "code",
   "execution_count": 2,
   "id": "380f9f1c",
   "metadata": {
    "scrolled": true
   },
   "outputs": [],
   "source": [
    "# TODO\n",
    "students = pd.read_csv('student-math.csv')"
   ]
  },
  {
   "cell_type": "markdown",
   "id": "c7b1b319",
   "metadata": {},
   "source": [
    "## Ermittle nach Geschlechtern gruppiert den durchschnittlichen Alkoholkonsum"
   ]
  },
  {
   "cell_type": "code",
   "execution_count": 6,
   "id": "e4bf1a21",
   "metadata": {},
   "outputs": [
    {
     "name": "stdout",
     "output_type": "stream",
     "text": [
      "sex\n",
      "F    1.175824\n",
      "M    1.618029\n",
      "dtype: float64\n"
     ]
    },
    {
     "name": "stderr",
     "output_type": "stream",
     "text": [
      "C:\\Users\\fabia\\AppData\\Local\\Temp\\ipykernel_22984\\4024340337.py:2: DeprecationWarning: DataFrameGroupBy.apply operated on the grouping columns. This behavior is deprecated, and in a future version of pandas the grouping columns will be excluded from the operation. Either pass `include_groups=False` to exclude the groupings or explicitly select the grouping columns after groupby to silence this warning.\n",
      "  print(students.groupby('sex').apply(lambda x: ((x['Dalc'] * 5 + x['Walc']) / 7).mean()))\n"
     ]
    }
   ],
   "source": [
    "# TODO\n",
    "print(students.groupby('sex').apply(lambda x: ((x['Dalc'] * 5 + x['Walc']) / 7).mean()))"
   ]
  },
  {
   "cell_type": "markdown",
   "id": "c4731e80",
   "metadata": {},
   "source": [
    "## Ermittle jene 3 Features, welche am meisten mit `G3` korrelieren, abgesehen von `G1` und `G2`\n"
   ]
  },
  {
   "cell_type": "code",
   "execution_count": 11,
   "id": "f7a18575",
   "metadata": {},
   "outputs": [],
   "source": [
    "# TODO"
   ]
  },
  {
   "cell_type": "markdown",
   "id": "acffb1d1",
   "metadata": {},
   "source": [
    "## Ermittle jene 3 Features, welche am meisten mit `Walc` korrelieren"
   ]
  },
  {
   "cell_type": "code",
   "execution_count": 12,
   "id": "b3ac28d7",
   "metadata": {},
   "outputs": [],
   "source": [
    "# TODO"
   ]
  },
  {
   "cell_type": "markdown",
   "id": "1483f9ae",
   "metadata": {},
   "source": [
    "## Ermittle die Absenzzahl jenes Schülers mit den meisten Absenzen, der trotzdem >= 10 G3 hat"
   ]
  },
  {
   "cell_type": "code",
   "execution_count": 16,
   "id": "78ba9bb0",
   "metadata": {
    "scrolled": true
   },
   "outputs": [
    {
     "data": {
      "text/plain": [
       "np.int64(54)"
      ]
     },
     "execution_count": 16,
     "metadata": {},
     "output_type": "execute_result"
    }
   ],
   "source": [
    "# TODO\n",
    "students[students['G3'] >= 10]['absences'].max()"
   ]
  },
  {
   "cell_type": "markdown",
   "id": "fdd63c7f",
   "metadata": {},
   "source": [
    "## Ermittle, ob die Schüler mit mehr als 18 Punkten eher aus dem ruralen oder aus dem urbanen Raum kommen"
   ]
  },
  {
   "cell_type": "code",
   "execution_count": 14,
   "id": "eb3a3a6b",
   "metadata": {},
   "outputs": [
    {
     "data": {
      "text/plain": [
       "address\n",
       "R    1\n",
       "U    5\n",
       "dtype: int64"
      ]
     },
     "execution_count": 14,
     "metadata": {},
     "output_type": "execute_result"
    }
   ],
   "source": [
    "# TODO\n",
    "students['G3'] = pd.to_numeric(students['G3'], errors='coerce')\n",
    "\n",
    "students[students['G3'] > 18].groupby('address').size()"
   ]
  },
  {
   "cell_type": "markdown",
   "id": "682a40af",
   "metadata": {},
   "source": [
    "## Versuche, folgende Behauptung zu widerlegen:\n",
    "\"Dass die Eltern unter einem Dach leben ist sehr wichtig für eine **herausragende** Mathematiknote, immerhin leben doppelt so viele dieser Schüler mit **beiden** Eltern zusammen\""
   ]
  },
  {
   "cell_type": "code",
   "execution_count": 8,
   "id": "d99e821f",
   "metadata": {
    "scrolled": false
   },
   "outputs": [
    {
     "name": "stdout",
     "output_type": "stream",
     "text": [
      "Pstatus\n",
      "T    14\n",
      "A     4\n",
      "Name: count, dtype: int64\n"
     ]
    }
   ],
   "source": [
    "# Define outstanding grade threshold\n",
    "outstanding_threshold = 18\n",
    "\n",
    "# Filter students with outstanding grades\n",
    "outstanding_students = students[students['G3'] >= outstanding_threshold]\n",
    "\n",
    "# Group by Pstatus and count the number of students in each group\n",
    "pstatus_counts = outstanding_students['Pstatus'].value_counts()\n",
    "\n",
    "# Display the counts\n",
    "print(pstatus_counts)"
   ]
  },
  {
   "cell_type": "markdown",
   "id": "1ef0c7ba",
   "metadata": {},
   "source": [
    "## Erzeuge folgende Graphik, welche die Punkte nach Adresse darstellt\n",
    "<img align=\"left\"\n",
    "src=\"https://drive.google.com/uc?export=view&id=10Bciig5JKaGiFHeLtGSXjxJOE88jknDU\">"
   ]
  },
  {
   "cell_type": "code",
   "execution_count": 14,
   "id": "a67dc27d",
   "metadata": {
    "scrolled": true
   },
   "outputs": [],
   "source": [
    "# TODO"
   ]
  },
  {
   "cell_type": "markdown",
   "id": "443aa45d",
   "metadata": {},
   "source": [
    "## Ermittle die durchschnittliche Punktzahl aller Schüler, bei denen Mutter und Vater derselben Berufsgruppe angehören, gruppiert nach Berufsgruppe"
   ]
  },
  {
   "cell_type": "code",
   "execution_count": 19,
   "id": "5a71474d",
   "metadata": {},
   "outputs": [
    {
     "data": {
      "text/plain": [
       "Mjob      Fjob    \n",
       "at_home   at_home     12.285714\n",
       "health    health      13.500000\n",
       "other     other        9.798077\n",
       "services  services    10.767442\n",
       "teacher   teacher     13.083333\n",
       "Name: G3, dtype: float64"
      ]
     },
     "execution_count": 19,
     "metadata": {},
     "output_type": "execute_result"
    }
   ],
   "source": [
    "# TODO\n",
    "students[students['Mjob'] == students['Fjob']].groupby(['Mjob', 'Fjob'])['G3'].mean()"
   ]
  },
  {
   "cell_type": "markdown",
   "id": "4fbcd052",
   "metadata": {},
   "source": [
    "## Ersetze fehlende Werte durch den **Median** der jeweiligen `address`"
   ]
  },
  {
   "cell_type": "code",
   "execution_count": null,
   "id": "7635f8ac",
   "metadata": {},
   "outputs": [],
   "source": [
    "# TODO"
   ]
  }
 ],
 "metadata": {
  "kernelspec": {
   "display_name": "Python 3",
   "language": "python",
   "name": "python3"
  },
  "language_info": {
   "codemirror_mode": {
    "name": "ipython",
    "version": 3
   },
   "file_extension": ".py",
   "mimetype": "text/x-python",
   "name": "python",
   "nbconvert_exporter": "python",
   "pygments_lexer": "ipython3",
   "version": "3.10.11"
  }
 },
 "nbformat": 4,
 "nbformat_minor": 5
}
