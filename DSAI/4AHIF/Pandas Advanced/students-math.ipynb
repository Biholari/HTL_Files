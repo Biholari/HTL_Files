{
 "cells": [
  {
   "cell_type": "markdown",
   "id": "124e6773",
   "metadata": {},
   "source": [
    "* school - student's school (binary: 'GP' - Gabriel Pereira or 'MS' - Mousinho da Silveira)\n",
    "* sex - student's sex (binary: 'F' - female or 'M' - male)\n",
    "* age - student's age (numeric: from 15 to 22)\n",
    "* address - student's home address type (binary: 'U' - urban or 'R' - rural)\n",
    "* famsize - family size (binary: 'LE3' - less or equal to 3 or 'GT3' - greater than 3)\n",
    "* Pstatus - parent's cohabitation status (binary: 'T' - living together or 'A' - apart)\n",
    "* Medu - mother's education (numeric: 0 - none, 1 - primary education (4th grade), 2 – 5th to 9th grade, 3 – secondary education or 4 – higher education)\n",
    "* Fedu - father's education (numeric: 0 - none, 1 - primary education (4th grade), 2 – 5th to 9th grade, 3 – secondary education or 4 – higher education)\n",
    "* Mjob - mother's job (nominal: 'teacher', 'health' care related, civil 'services' (e.g. administrative or police), 'at_home' or 'other')\n",
    "* Fjob - father's job (nominal: 'teacher', 'health' care related, civil 'services' (e.g. administrative or police), 'at_home' or 'other')\n",
    "* reason - reason to choose this school (nominal: close to 'home', school 'reputation', 'course' preference or 'other')\n",
    "* guardian - student's guardian (nominal: 'mother', 'father' or 'other')\n",
    "* traveltime - home to school travel time (numeric: 1 - <15 min., 2 - 15 to 30 min., 3 - 30 min. to 1 hour, or 4 - >1 hour)\n",
    "* studytime - weekly study time (numeric: 1 - <2 hours, 2 - 2 to 5 hours, 3 - 5 to 10 hours, or 4 - >10 hours)\n",
    "* failures - number of past class failures (numeric: n if 1<=n<3, else 4)\n",
    "* schoolsup - extra educational support (binary: yes or no)\n",
    "* famsup - family educational support (binary: yes or no)\n",
    "* paid - extra paid classes within the course subject (Math or Portuguese) (binary: yes or no)\n",
    "* activities - extra-curricular activities (binary: yes or no)\n",
    "* nursery - attended nursery school (binary: yes or no)\n",
    "* higher - wants to take higher education (binary: yes or no)\n",
    "* internet - Internet access at home (binary: yes or no)\n",
    "* romantic - with a romantic relationship (binary: yes or no)\n",
    "* famrel - quality of family relationships (numeric: from 1 - very bad to 5 - excellent)\n",
    "* freetime - free time after school (numeric: from 1 - very low to 5 - very high)\n",
    "* goout - going out with friends (numeric: from 1 - very low to 5 - very high)\n",
    "* Dalc - workday alcohol consumption (numeric: from 1 - very low to 5 - very high)\n",
    "* Walc - weekend alcohol consumption (numeric: from 1 - very low to 5 - very high)\n",
    "* health - current health status (numeric: from 1 - very bad to 5 - very good)\n",
    "* absences - number of school absences (numeric: from 0 to 93)\n",
    "\n",
    "\n",
    "* G1 - first period grade (numeric: from 0 to 20)\n",
    "* G2 - second period grade (numeric: from 0 to 20)\n",
    "* G3 - final grade (numeric: from 0 to 20, output target)"
   ]
  },
  {
   "cell_type": "markdown",
   "id": "d2719c33",
   "metadata": {},
   "source": [
    "## Erzeuge einen DataFrame aus `student-math.csv`"
   ]
  },
  {
   "cell_type": "code",
   "execution_count": 1,
   "id": "cef79993",
   "metadata": {},
   "outputs": [],
   "source": [
    "import pandas as pd"
   ]
  },
  {
   "cell_type": "code",
   "execution_count": 2,
   "id": "380f9f1c",
   "metadata": {
    "scrolled": true
   },
   "outputs": [],
   "source": [
    "# Fabian Oppermann\n",
    "# Doc: https://pandas.pydata.org/docs/user_guide/10min.html#basic-data-structures-in-pandas\n",
    "# Parameter: Path to the csv file\n",
    "df = pd.read_csv('student-math.csv')"
   ]
  },
  {
   "cell_type": "markdown",
   "id": "c7b1b319",
   "metadata": {},
   "source": [
    "## Ermittle nach Geschlechtern gruppiert den durchschnittlichen Alkoholkonsum"
   ]
  },
  {
   "cell_type": "code",
   "execution_count": null,
   "id": "e4bf1a21",
   "metadata": {},
   "outputs": [
    {
     "name": "stdout",
     "output_type": "stream",
     "text": [
      "sex\n",
      "F    1.254808\n",
      "M    1.732620\n",
      "Name: Dalc, dtype: float64\n"
     ]
    }
   ],
   "source": [
    "# Fabian Oppermann\n",
    "# Doc: https://pandas.pydata.org/docs/user_guide/10min.html#grouping\n",
    "# Parameter: ('parameter to group by')['parameter to calculate'].function to call on each group\n",
    "mean_alc = df.groupby('sex')['Dalc'].mean()"
   ]
  },
  {
   "cell_type": "markdown",
   "id": "c4731e80",
   "metadata": {},
   "source": [
    "## Ermittle jene 3 Features, welche am meisten mit `G3` korrelieren, abgesehen von `G1` und `G2`\n"
   ]
  },
  {
   "cell_type": "code",
   "execution_count": 3,
   "id": "f7a18575",
   "metadata": {},
   "outputs": [
    {
     "name": "stdout",
     "output_type": "stream",
     "text": [
      "G3          1.000000\n",
      "failures    0.360415\n",
      "Medu        0.217147\n",
      "Name: G3, dtype: float64\n"
     ]
    }
   ],
   "source": [
    "# Fabian Oppermann\n",
    "# Doc: \n",
    "# Parameter: \n",
    "# Convert categorical data to numeric or drop them\n",
    "df_numeric = df.select_dtypes(include=['number'])\n",
    "\n",
    "correlations_with_G3 = df_numeric.corr()['G3'].drop(['G1', 'G2'])\n",
    "top_3_features = correlations_with_G3.abs().sort_values(ascending=False).head(3)\n",
    "print(top_3_features)"
   ]
  },
  {
   "cell_type": "markdown",
   "id": "acffb1d1",
   "metadata": {},
   "source": [
    "## Ermittle jene 3 Features, welche am meisten mit `Walc` korrelieren"
   ]
  },
  {
   "cell_type": "code",
   "execution_count": 5,
   "id": "b3ac28d7",
   "metadata": {},
   "outputs": [
    {
     "name": "stdout",
     "output_type": "stream",
     "text": [
      "Walc     1.000000\n",
      "Dalc     0.647544\n",
      "goout    0.420386\n",
      "Name: Walc, dtype: float64\n"
     ]
    }
   ],
   "source": [
    "# Fabian Oppermann\n",
    "# Doc:\n",
    "# Parameter:\n",
    "df_numeric = df.select_dtypes(include=['number'])\n",
    "corrolations = df_numeric.corr()\n",
    "\n",
    "walc_corrolations = corrolations['Walc'].abs().sort_values(ascending=False)\n",
    "top_3_walc_corrolations = walc_corrolations.head(3)\n",
    "\n",
    "print(top_3_walc_corrolations)"
   ]
  },
  {
   "cell_type": "markdown",
   "id": "1483f9ae",
   "metadata": {},
   "source": [
    "## Ermittle die Absenzzahl jenes Schülers mit den meisten Absenzen, der trotzdem >= 10 G3 hat"
   ]
  },
  {
   "cell_type": "code",
   "execution_count": 8,
   "id": "78ba9bb0",
   "metadata": {
    "scrolled": true
   },
   "outputs": [
    {
     "name": "stdout",
     "output_type": "stream",
     "text": [
      "54\n"
     ]
    }
   ],
   "source": [
    "# Fabian Oppermann\n",
    "# Doc: https://pandas.pydata.org/docs/user_guide/basics.html\n",
    "# Parameter: [filter][selectable column].max\n",
    "max_absences = df[df['G3'] >= 10]['absences'].max()\n",
    "print(max_absences)"
   ]
  },
  {
   "cell_type": "markdown",
   "id": "fdd63c7f",
   "metadata": {},
   "source": [
    "## Ermittle, ob die Schüler mit mehr als 18 Punkten eher aus dem ruralen oder aus dem urbanen Raum kommen"
   ]
  },
  {
   "cell_type": "code",
   "execution_count": 11,
   "id": "eb3a3a6b",
   "metadata": {},
   "outputs": [
    {
     "name": "stdout",
     "output_type": "stream",
     "text": [
      "Mehr Schüler mit mehr als 18 Punkten kommen aus dem urbanen Raum.\n"
     ]
    }
   ],
   "source": [
    "# Fabian Oppermann\n",
    "# Doc:\n",
    "# Parameter:\n",
    "high_scorers = df[df['G3'] > 18]\n",
    "urban_count = high_scorers[high_scorers['address'] == 'U'].shape[0]\n",
    "rural_count = high_scorers[high_scorers['address'] == 'R'].shape[0]\n",
    "\n",
    "if urban_count > rural_count:\n",
    "    print(\"Mehr Schüler mit mehr als 18 Punkten kommen aus dem urbanen Raum.\")\n",
    "else:\n",
    "    print(\"Mehr Schüler mit mehr als 18 Punkten kommen aus dem ruralen Raum.\")"
   ]
  },
  {
   "cell_type": "markdown",
   "id": "682a40af",
   "metadata": {},
   "source": [
    "## Versuche, folgende Behauptung zu widerlegen:\n",
    "\"Dass die Eltern unter einem Dach leben ist sehr wichtig für eine **herausragende** Mathematiknote, immerhin leben doppelt so viele dieser Schüler mit **beiden** Eltern zusammen\""
   ]
  },
  {
   "cell_type": "code",
   "execution_count": 20,
   "id": "f0ffb05e",
   "metadata": {},
   "outputs": [
    {
     "name": "stdout",
     "output_type": "stream",
     "text": [
      "Anzahl der Schüler mit herausragender Mathematiknote, die mit beiden Eltern leben: 14\n",
      "Anzahl der Schüler mit herausragender Mathematiknote, die nicht mit beiden Eltern leben: 4\n",
      "Die Behauptung wird unterstützt.\n"
     ]
    }
   ],
   "source": [
    "# Filter students with G3 >= 18\n",
    "high_achievers = df[df['G3'] >= 18]\n",
    "\n",
    "# Count students living with both parents\n",
    "both_parents = high_achievers[high_achievers['Pstatus'] == 'T'].shape[0]\n",
    "\n",
    "# Count students not living with both parents\n",
    "single_parent = high_achievers[high_achievers['Pstatus'] == 'A'].shape[0]\n",
    "\n",
    "# Print the results\n",
    "print(f\"Anzahl der Schüler mit herausragender Mathematiknote, die mit beiden Eltern leben: {both_parents}\")\n",
    "print(f\"Anzahl der Schüler mit herausragender Mathematiknote, die nicht mit beiden Eltern leben: {single_parent}\")\n",
    "\n",
    "if both_parents >= 2 * single_parent:\n",
    "    print(\"Die Behauptung wird unterstützt.\")\n",
    "else:\n",
    "    print(\"Die Behauptung wird widerlegt.\")"
   ]
  },
  {
   "cell_type": "markdown",
   "id": "1ef0c7ba",
   "metadata": {},
   "source": [
    "## Erzeuge folgende Graphik, welche die Punkte nach Adresse darstellt\n",
    "<img align=\"left\"\n",
    "src=\"https://drive.google.com/uc?export=view&id=10Bciig5JKaGiFHeLtGSXjxJOE88jknDU\">"
   ]
  },
  {
   "cell_type": "code",
   "execution_count": null,
   "id": "a67dc27d",
   "metadata": {
    "scrolled": true
   },
   "outputs": [
    {
     "data": {
      "text/plain": [
       "<Axes: title={'center': 'Count of G3 by Address'}, xlabel='G3', ylabel='Count'>"
      ]
     },
     "execution_count": 13,
     "metadata": {},
     "output_type": "execute_result"
    },
    {
     "data": {
      "image/png": "[encoded data removed]",
      "text/plain": [
       "<Figure size 640x480 with 1 Axes>"
      ]
     },
     "metadata": {},
     "output_type": "display_data"
    }
   ],
   "source": [
    "# Fabian Oppermann\n",
    "# Doc:\n",
    "# Parameter:\n",
    "\n",
    "# Group the data by G3 and address and count the number of students in each group\n",
    "grouped = df.groupby(['G3', 'address']).size().unstack(fill_value=0)\n",
    "\n",
    "# Plot the stacked bar chart using pandas\n",
    "grouped.plot(kind='bar', stacked=True, xlabel='G3', ylabel='Count', title='Count of G3 by Address')"
   ]
  },
  {
   "cell_type": "markdown",
   "id": "443aa45d",
   "metadata": {},
   "source": [
    "## Ermittle die durchschnittliche Punktzahl aller Schüler, bei denen Mutter und Vater derselben Berufsgruppe angehören, gruppiert nach Berufsgruppe"
   ]
  },
  {
   "cell_type": "code",
   "execution_count": 5,
   "id": "7494b337",
   "metadata": {},
   "outputs": [
    {
     "name": "stdout",
     "output_type": "stream",
     "text": [
      "Mjob      Fjob    \n",
      "at_home   at_home     12.285714\n",
      "health    health      13.500000\n",
      "other     other        9.798077\n",
      "services  services    10.767442\n",
      "teacher   teacher     13.083333\n",
      "Name: G3, dtype: float64\n"
     ]
    }
   ],
   "source": [
    "same_job_students = df[df['Mjob'] == df['Fjob']].groupby(['Mjob', 'Fjob'])\n",
    "print(same_job_students['G3'].mean())\n"
   ]
  },
  {
   "cell_type": "markdown",
   "id": "4fbcd052",
   "metadata": {},
   "source": [
    "## Ersetze fehlende Werte durch den **Median** der jeweiligen `address`"
   ]
  },
  {
   "cell_type": "code",
   "execution_count": null,
   "id": "7635f8ac",
   "metadata": {},
   "outputs": [
    {
     "name": "stdout",
     "output_type": "stream",
     "text": [
      "0\n"
     ]
    }
   ],
   "source": [
    "# Select only numeric columns\n",
    "numeric_columns = df.select_dtypes(include=['number']).columns\n",
    "\n",
    "# Calculate the median values for each address group for numeric columns only\n",
    "median_values = df.groupby('address')[numeric_columns].median()\n",
    "\n",
    "# Define a function to fill missing values with the median of the respective address\n",
    "def fill_missing_with_median(row):\n",
    "    for column in numeric_columns:\n",
    "        if pd.isnull(row[column]):\n",
    "            row[column] = median_values.loc[row['address'], column]\n",
    "    return row\n",
    "\n",
    "df = df.apply(fill_missing_with_median, axis=1)"
   ]
  }
 ],
 "metadata": {
  "kernelspec": {
   "display_name": "Python 3",
   "language": "python",
   "name": "python3"
  },
  "language_info": {
   "codemirror_mode": {
    "name": "ipython",
    "version": 3
   },
   "file_extension": ".py",
   "mimetype": "text/x-python",
   "name": "python",
   "nbconvert_exporter": "python",
   "pygments_lexer": "ipython3",
   "version": "3.10.11"
  }
 },
 "nbformat": 4,
 "nbformat_minor": 5
}
