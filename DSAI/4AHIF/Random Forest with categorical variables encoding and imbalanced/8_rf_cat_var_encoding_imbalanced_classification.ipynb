{
 "cells": [
  {
   "cell_type": "markdown",
   "id": "related-insertion",
   "metadata": {},
   "source": [
    "# Background\n",
    "\n",
    "![](images/stroke.jpg)\n",
    "\n",
    "From the _American Stroke Association_:\n",
    "\n",
    "> Stroke is a disease that affects the arteries leading to and within the brain. It is the No. 5 cause of death and a leading cause of disability in the United States. A stroke occurs when a blood vessel that carries oxygen and nutrients to the brain is either blocked by a clot or bursts (or ruptures). When that happens, part of the brain cannot get the blood (and oxygen) it needs, so it and brain cells die.\n",
    "\n",
    "The following figure shows the main symptoms of a stroke - it is urgent to **_BE FAST_** and seek immediate medical attention if they are noticed!\n",
    "\n",
    "![](images/be-fast.jpg)\n",
    "\n",
    "Many factors can increase the risk of a stroke, including:\n",
    "\n",
    "* Obesity and lack of regular exercise.\n",
    "* Tobacco use and heavy drinking.\n",
    "* High blood pressure and cholesterol levels.\n",
    "* Cardiovascular diseases.\n",
    "* Men, older people and African Americans have a higher risk of a stroke."
   ]
  },
  {
   "cell_type": "markdown",
   "id": "interested-fourth",
   "metadata": {},
   "source": [
    "# Data Exploration\n",
    "\n",
    "The dataset we'll be working with for this exercise includes a number of _features_ corresponding to the aforementioned risk factors, such as gender, age, various diseases and smoking status, that we can use to _predict_ whether a patient is likely to suffer a stroke.\n",
    "\n",
    "Let's load the dataset and take a first look. As always, keep your eyes open for missing values, outliers and other irregularities!"
   ]
  },
  {
   "cell_type": "code",
   "execution_count": 1,
   "id": "thirty-vector",
   "metadata": {},
   "outputs": [],
   "source": [
    "import numpy as np\n",
    "import pandas as pd"
   ]
  },
  {
   "cell_type": "code",
   "execution_count": 2,
   "id": "reverse-landing",
   "metadata": {
    "scrolled": true
   },
   "outputs": [],
   "source": [
    "data = pd.read_csv('input/stroke.csv')"
   ]
  },
  {
   "cell_type": "code",
   "execution_count": 3,
   "id": "powerful-circular",
   "metadata": {},
   "outputs": [],
   "source": [
    "# We'll again be using the same random state for the whole demo.\n",
    "my_random_state = 9"
   ]
  },
  {
   "cell_type": "code",
   "execution_count": 4,
   "id": "adapted-lincoln",
   "metadata": {
    "scrolled": false
   },
   "outputs": [
    {
     "data": {
      "text/html": [
       "<div>\n",
       "<style scoped>\n",
       "    .dataframe tbody tr th:only-of-type {\n",
       "        vertical-align: middle;\n",
       "    }\n",
       "\n",
       "    .dataframe tbody tr th {\n",
       "        vertical-align: top;\n",
       "    }\n",
       "\n",
       "    .dataframe thead th {\n",
       "        text-align: right;\n",
       "    }\n",
       "</style>\n",
       "<table border=\"1\" class=\"dataframe\">\n",
       "  <thead>\n",
       "    <tr style=\"text-align: right;\">\n",
       "      <th></th>\n",
       "      <th>id</th>\n",
       "      <th>gender</th>\n",
       "      <th>age</th>\n",
       "      <th>hypertension</th>\n",
       "      <th>heart_disease</th>\n",
       "      <th>ever_married</th>\n",
       "      <th>work_type</th>\n",
       "      <th>Residence_type</th>\n",
       "      <th>avg_glucose_level</th>\n",
       "      <th>bmi</th>\n",
       "      <th>smoking_status</th>\n",
       "      <th>stroke</th>\n",
       "    </tr>\n",
       "  </thead>\n",
       "  <tbody>\n",
       "    <tr>\n",
       "      <th>3424</th>\n",
       "      <td>6731</td>\n",
       "      <td>Female</td>\n",
       "      <td>53.0</td>\n",
       "      <td>0</td>\n",
       "      <td>0</td>\n",
       "      <td>No</td>\n",
       "      <td>Private</td>\n",
       "      <td>Rural</td>\n",
       "      <td>235.45</td>\n",
       "      <td>NaN</td>\n",
       "      <td>formerly smoked</td>\n",
       "      <td>0</td>\n",
       "    </tr>\n",
       "    <tr>\n",
       "      <th>3678</th>\n",
       "      <td>18181</td>\n",
       "      <td>Male</td>\n",
       "      <td>44.0</td>\n",
       "      <td>0</td>\n",
       "      <td>0</td>\n",
       "      <td>Yes</td>\n",
       "      <td>Private</td>\n",
       "      <td>Rural</td>\n",
       "      <td>105.49</td>\n",
       "      <td>31.5</td>\n",
       "      <td>smokes</td>\n",
       "      <td>0</td>\n",
       "    </tr>\n",
       "    <tr>\n",
       "      <th>1777</th>\n",
       "      <td>17277</td>\n",
       "      <td>Male</td>\n",
       "      <td>4.0</td>\n",
       "      <td>0</td>\n",
       "      <td>0</td>\n",
       "      <td>No</td>\n",
       "      <td>children</td>\n",
       "      <td>Urban</td>\n",
       "      <td>97.51</td>\n",
       "      <td>22.0</td>\n",
       "      <td>Unknown</td>\n",
       "      <td>0</td>\n",
       "    </tr>\n",
       "    <tr>\n",
       "      <th>2800</th>\n",
       "      <td>8655</td>\n",
       "      <td>Female</td>\n",
       "      <td>51.0</td>\n",
       "      <td>0</td>\n",
       "      <td>1</td>\n",
       "      <td>Yes</td>\n",
       "      <td>Self-employed</td>\n",
       "      <td>Urban</td>\n",
       "      <td>100.96</td>\n",
       "      <td>33.4</td>\n",
       "      <td>never smoked</td>\n",
       "      <td>0</td>\n",
       "    </tr>\n",
       "    <tr>\n",
       "      <th>431</th>\n",
       "      <td>3655</td>\n",
       "      <td>Male</td>\n",
       "      <td>31.0</td>\n",
       "      <td>0</td>\n",
       "      <td>0</td>\n",
       "      <td>Yes</td>\n",
       "      <td>Govt_job</td>\n",
       "      <td>Rural</td>\n",
       "      <td>91.65</td>\n",
       "      <td>24.6</td>\n",
       "      <td>formerly smoked</td>\n",
       "      <td>0</td>\n",
       "    </tr>\n",
       "    <tr>\n",
       "      <th>866</th>\n",
       "      <td>70380</td>\n",
       "      <td>Female</td>\n",
       "      <td>20.0</td>\n",
       "      <td>0</td>\n",
       "      <td>0</td>\n",
       "      <td>No</td>\n",
       "      <td>Private</td>\n",
       "      <td>Urban</td>\n",
       "      <td>112.96</td>\n",
       "      <td>27.5</td>\n",
       "      <td>never smoked</td>\n",
       "      <td>0</td>\n",
       "    </tr>\n",
       "    <tr>\n",
       "      <th>3541</th>\n",
       "      <td>34657</td>\n",
       "      <td>Female</td>\n",
       "      <td>44.0</td>\n",
       "      <td>0</td>\n",
       "      <td>0</td>\n",
       "      <td>Yes</td>\n",
       "      <td>Self-employed</td>\n",
       "      <td>Urban</td>\n",
       "      <td>82.33</td>\n",
       "      <td>24.5</td>\n",
       "      <td>never smoked</td>\n",
       "      <td>0</td>\n",
       "    </tr>\n",
       "    <tr>\n",
       "      <th>1207</th>\n",
       "      <td>22440</td>\n",
       "      <td>Female</td>\n",
       "      <td>49.0</td>\n",
       "      <td>0</td>\n",
       "      <td>0</td>\n",
       "      <td>Yes</td>\n",
       "      <td>Private</td>\n",
       "      <td>Urban</td>\n",
       "      <td>267.76</td>\n",
       "      <td>29.3</td>\n",
       "      <td>formerly smoked</td>\n",
       "      <td>0</td>\n",
       "    </tr>\n",
       "    <tr>\n",
       "      <th>4242</th>\n",
       "      <td>53954</td>\n",
       "      <td>Male</td>\n",
       "      <td>17.0</td>\n",
       "      <td>0</td>\n",
       "      <td>0</td>\n",
       "      <td>No</td>\n",
       "      <td>Private</td>\n",
       "      <td>Rural</td>\n",
       "      <td>69.45</td>\n",
       "      <td>27.6</td>\n",
       "      <td>Unknown</td>\n",
       "      <td>0</td>\n",
       "    </tr>\n",
       "    <tr>\n",
       "      <th>777</th>\n",
       "      <td>49624</td>\n",
       "      <td>Male</td>\n",
       "      <td>69.0</td>\n",
       "      <td>0</td>\n",
       "      <td>0</td>\n",
       "      <td>Yes</td>\n",
       "      <td>Private</td>\n",
       "      <td>Urban</td>\n",
       "      <td>98.92</td>\n",
       "      <td>23.9</td>\n",
       "      <td>formerly smoked</td>\n",
       "      <td>0</td>\n",
       "    </tr>\n",
       "  </tbody>\n",
       "</table>\n",
       "</div>"
      ],
      "text/plain": [
       "         id  gender   age  hypertension  heart_disease ever_married  \\\n",
       "3424   6731  Female  53.0             0              0           No   \n",
       "3678  18181    Male  44.0             0              0          Yes   \n",
       "1777  17277    Male   4.0             0              0           No   \n",
       "2800   8655  Female  51.0             0              1          Yes   \n",
       "431    3655    Male  31.0             0              0          Yes   \n",
       "866   70380  Female  20.0             0              0           No   \n",
       "3541  34657  Female  44.0             0              0          Yes   \n",
       "1207  22440  Female  49.0             0              0          Yes   \n",
       "4242  53954    Male  17.0             0              0           No   \n",
       "777   49624    Male  69.0             0              0          Yes   \n",
       "\n",
       "          work_type Residence_type  avg_glucose_level   bmi   smoking_status  \\\n",
       "3424        Private          Rural             235.45   NaN  formerly smoked   \n",
       "3678        Private          Rural             105.49  31.5           smokes   \n",
       "1777       children          Urban              97.51  22.0          Unknown   \n",
       "2800  Self-employed          Urban             100.96  33.4     never smoked   \n",
       "431        Govt_job          Rural              91.65  24.6  formerly smoked   \n",
       "866         Private          Urban             112.96  27.5     never smoked   \n",
       "3541  Self-employed          Urban              82.33  24.5     never smoked   \n",
       "1207        Private          Urban             267.76  29.3  formerly smoked   \n",
       "4242        Private          Rural              69.45  27.6          Unknown   \n",
       "777         Private          Urban              98.92  23.9  formerly smoked   \n",
       "\n",
       "      stroke  \n",
       "3424       0  \n",
       "3678       0  \n",
       "1777       0  \n",
       "2800       0  \n",
       "431        0  \n",
       "866        0  \n",
       "3541       0  \n",
       "1207       0  \n",
       "4242       0  \n",
       "777        0  "
      ]
     },
     "execution_count": 4,
     "metadata": {},
     "output_type": "execute_result"
    }
   ],
   "source": [
    "data.sample(10, random_state=my_random_state)"
   ]
  },
  {
   "cell_type": "code",
   "execution_count": 5,
   "id": "cultural-wrist",
   "metadata": {},
   "outputs": [
    {
     "data": {
      "text/html": [
       "<div>\n",
       "<style scoped>\n",
       "    .dataframe tbody tr th:only-of-type {\n",
       "        vertical-align: middle;\n",
       "    }\n",
       "\n",
       "    .dataframe tbody tr th {\n",
       "        vertical-align: top;\n",
       "    }\n",
       "\n",
       "    .dataframe thead th {\n",
       "        text-align: right;\n",
       "    }\n",
       "</style>\n",
       "<table border=\"1\" class=\"dataframe\">\n",
       "  <thead>\n",
       "    <tr style=\"text-align: right;\">\n",
       "      <th></th>\n",
       "      <th>id</th>\n",
       "      <th>age</th>\n",
       "      <th>hypertension</th>\n",
       "      <th>heart_disease</th>\n",
       "      <th>avg_glucose_level</th>\n",
       "      <th>bmi</th>\n",
       "      <th>stroke</th>\n",
       "    </tr>\n",
       "  </thead>\n",
       "  <tbody>\n",
       "    <tr>\n",
       "      <th>count</th>\n",
       "      <td>5109.000000</td>\n",
       "      <td>5109.000000</td>\n",
       "      <td>5109.000000</td>\n",
       "      <td>5109.000000</td>\n",
       "      <td>5109.000000</td>\n",
       "      <td>4908.00000</td>\n",
       "      <td>5109.000000</td>\n",
       "    </tr>\n",
       "    <tr>\n",
       "      <th>mean</th>\n",
       "      <td>36513.985516</td>\n",
       "      <td>43.229986</td>\n",
       "      <td>0.097475</td>\n",
       "      <td>0.054022</td>\n",
       "      <td>106.140399</td>\n",
       "      <td>28.89456</td>\n",
       "      <td>0.048738</td>\n",
       "    </tr>\n",
       "    <tr>\n",
       "      <th>std</th>\n",
       "      <td>21162.008804</td>\n",
       "      <td>22.613575</td>\n",
       "      <td>0.296633</td>\n",
       "      <td>0.226084</td>\n",
       "      <td>45.285004</td>\n",
       "      <td>7.85432</td>\n",
       "      <td>0.215340</td>\n",
       "    </tr>\n",
       "    <tr>\n",
       "      <th>min</th>\n",
       "      <td>67.000000</td>\n",
       "      <td>0.080000</td>\n",
       "      <td>0.000000</td>\n",
       "      <td>0.000000</td>\n",
       "      <td>55.120000</td>\n",
       "      <td>10.30000</td>\n",
       "      <td>0.000000</td>\n",
       "    </tr>\n",
       "    <tr>\n",
       "      <th>25%</th>\n",
       "      <td>17740.000000</td>\n",
       "      <td>25.000000</td>\n",
       "      <td>0.000000</td>\n",
       "      <td>0.000000</td>\n",
       "      <td>77.240000</td>\n",
       "      <td>23.50000</td>\n",
       "      <td>0.000000</td>\n",
       "    </tr>\n",
       "    <tr>\n",
       "      <th>50%</th>\n",
       "      <td>36922.000000</td>\n",
       "      <td>45.000000</td>\n",
       "      <td>0.000000</td>\n",
       "      <td>0.000000</td>\n",
       "      <td>91.880000</td>\n",
       "      <td>28.10000</td>\n",
       "      <td>0.000000</td>\n",
       "    </tr>\n",
       "    <tr>\n",
       "      <th>75%</th>\n",
       "      <td>54643.000000</td>\n",
       "      <td>61.000000</td>\n",
       "      <td>0.000000</td>\n",
       "      <td>0.000000</td>\n",
       "      <td>114.090000</td>\n",
       "      <td>33.10000</td>\n",
       "      <td>0.000000</td>\n",
       "    </tr>\n",
       "    <tr>\n",
       "      <th>max</th>\n",
       "      <td>72940.000000</td>\n",
       "      <td>82.000000</td>\n",
       "      <td>1.000000</td>\n",
       "      <td>1.000000</td>\n",
       "      <td>271.740000</td>\n",
       "      <td>97.60000</td>\n",
       "      <td>1.000000</td>\n",
       "    </tr>\n",
       "  </tbody>\n",
       "</table>\n",
       "</div>"
      ],
      "text/plain": [
       "                 id          age  hypertension  heart_disease  \\\n",
       "count   5109.000000  5109.000000   5109.000000    5109.000000   \n",
       "mean   36513.985516    43.229986      0.097475       0.054022   \n",
       "std    21162.008804    22.613575      0.296633       0.226084   \n",
       "min       67.000000     0.080000      0.000000       0.000000   \n",
       "25%    17740.000000    25.000000      0.000000       0.000000   \n",
       "50%    36922.000000    45.000000      0.000000       0.000000   \n",
       "75%    54643.000000    61.000000      0.000000       0.000000   \n",
       "max    72940.000000    82.000000      1.000000       1.000000   \n",
       "\n",
       "       avg_glucose_level         bmi       stroke  \n",
       "count        5109.000000  4908.00000  5109.000000  \n",
       "mean          106.140399    28.89456     0.048738  \n",
       "std            45.285004     7.85432     0.215340  \n",
       "min            55.120000    10.30000     0.000000  \n",
       "25%            77.240000    23.50000     0.000000  \n",
       "50%            91.880000    28.10000     0.000000  \n",
       "75%           114.090000    33.10000     0.000000  \n",
       "max           271.740000    97.60000     1.000000  "
      ]
     },
     "execution_count": 5,
     "metadata": {},
     "output_type": "execute_result"
    }
   ],
   "source": [
    "data.describe()"
   ]
  },
  {
   "cell_type": "code",
   "execution_count": 6,
   "id": "young-coupon",
   "metadata": {
    "scrolled": false
   },
   "outputs": [
    {
     "name": "stdout",
     "output_type": "stream",
     "text": [
      "<class 'pandas.core.frame.DataFrame'>\n",
      "RangeIndex: 5109 entries, 0 to 5108\n",
      "Data columns (total 12 columns):\n",
      " #   Column             Non-Null Count  Dtype  \n",
      "---  ------             --------------  -----  \n",
      " 0   id                 5109 non-null   int64  \n",
      " 1   gender             5109 non-null   object \n",
      " 2   age                5109 non-null   float64\n",
      " 3   hypertension       5109 non-null   int64  \n",
      " 4   heart_disease      5109 non-null   int64  \n",
      " 5   ever_married       5109 non-null   object \n",
      " 6   work_type          5109 non-null   object \n",
      " 7   Residence_type     5109 non-null   object \n",
      " 8   avg_glucose_level  5109 non-null   float64\n",
      " 9   bmi                4908 non-null   float64\n",
      " 10  smoking_status     5109 non-null   object \n",
      " 11  stroke             5109 non-null   int64  \n",
      "dtypes: float64(3), int64(4), object(5)\n",
      "memory usage: 479.1+ KB\n"
     ]
    }
   ],
   "source": [
    "data.info()"
   ]
  },
  {
   "cell_type": "markdown",
   "id": "super-bowling",
   "metadata": {},
   "source": [
    "# Visualization\n",
    "\n",
    "Let's further investigate our data by visualizing some interesting aspects. We import the required libraries and define suitable palettes..."
   ]
  },
  {
   "cell_type": "code",
   "execution_count": 7,
   "id": "dominant-needle",
   "metadata": {},
   "outputs": [],
   "source": [
    "import matplotlib.pyplot as plt\n",
    "import seaborn as sns"
   ]
  },
  {
   "cell_type": "code",
   "execution_count": 8,
   "id": "monthly-clear",
   "metadata": {},
   "outputs": [],
   "source": [
    "palette_default = sns.color_palette(['lightsteelblue', 'lightcoral', 'lightgray', 'wheat', 'lightpink'])\n",
    "palette_stroke = sns.color_palette(['lightgray', 'lightcoral'])\n",
    "\n",
    "sns.set_palette(palette_default)"
   ]
  },
  {
   "cell_type": "markdown",
   "id": "latest-testing",
   "metadata": {},
   "source": [
    "### Gender, Age, _BMI_ And Glucose Levels\n",
    "\n",
    "...and take a look at the expectation, that older people have a higher risk of suffering from a stroke:"
   ]
  },
  {
   "cell_type": "code",
   "execution_count": 9,
   "id": "german-table",
   "metadata": {
    "scrolled": true
   },
   "outputs": [
    {
     "data": {
      "text/plain": [
       "<AxesSubplot:xlabel='stroke', ylabel='age'>"
      ]
     },
     "execution_count": 9,
     "metadata": {},
     "output_type": "execute_result"
    },
    {
     "data": {
      "image/png": "[encoded data removed]",
      "text/plain": [
       "<Figure size 432x288 with 1 Axes>"
      ]
     },
     "metadata": {
      "needs_background": "light"
     },
     "output_type": "display_data"
    }
   ],
   "source": [
    "sns.violinplot(data=data, x='stroke', y='age', palette=palette_stroke)"
   ]
  },
  {
   "cell_type": "markdown",
   "id": "smart-greenhouse",
   "metadata": {},
   "source": [
    "Is the fact, that men pose a risk group, also represented in our dataset?"
   ]
  },
  {
   "cell_type": "code",
   "execution_count": 10,
   "id": "varying-maintenance",
   "metadata": {
    "scrolled": false
   },
   "outputs": [
    {
     "data": {
      "text/plain": [
       "<seaborn.axisgrid.FacetGrid at 0x7f72dc4fe5b0>"
      ]
     },
     "execution_count": 10,
     "metadata": {},
     "output_type": "execute_result"
    },
    {
     "data": {
      "image/png": "[encoded data removed]",
      "text/plain": [
       "<Figure size 360x360 with 1 Axes>"
      ]
     },
     "metadata": {
      "needs_background": "light"
     },
     "output_type": "display_data"
    }
   ],
   "source": [
    "sns.catplot(x='gender', y='stroke', data=data, kind='bar')"
   ]
  },
  {
   "cell_type": "markdown",
   "id": "three-pledge",
   "metadata": {},
   "source": [
    "Let's take a look at the _BMI_ distribution of both genders:"
   ]
  },
  {
   "cell_type": "code",
   "execution_count": 11,
   "id": "rental-concert",
   "metadata": {
    "scrolled": true
   },
   "outputs": [
    {
     "data": {
      "text/plain": [
       "<AxesSubplot:xlabel='gender', ylabel='bmi'>"
      ]
     },
     "execution_count": 11,
     "metadata": {},
     "output_type": "execute_result"
    },
    {
     "data": {
      "image/png": "[encoded data removed]",
      "text/plain": [
       "<Figure size 432x288 with 1 Axes>"
      ]
     },
     "metadata": {
      "needs_background": "light"
     },
     "output_type": "display_data"
    }
   ],
   "source": [
    "sns.violinplot(data=data[data['bmi'] < 60], x='gender', y='bmi', inner='quartile')"
   ]
  },
  {
   "cell_type": "markdown",
   "id": "humanitarian-egyptian",
   "metadata": {},
   "source": [
    "Apparently men's _BMI_ are highly concentrated around the median of ~28, while the women's indices are slightly more evenly distributed (although skewed).\n",
    "\n",
    "The following visualization shows the _BMI_ distribution for healthy people and stroke patients:"
   ]
  },
  {
   "cell_type": "code",
   "execution_count": 12,
   "id": "secure-soccer",
   "metadata": {
    "scrolled": true
   },
   "outputs": [
    {
     "data": {
      "text/plain": [
       "<AxesSubplot:xlabel='stroke', ylabel='bmi'>"
      ]
     },
     "execution_count": 12,
     "metadata": {},
     "output_type": "execute_result"
    },
    {
     "data": {
      "image/png": "[encoded data removed]",
      "text/plain": [
       "<Figure size 432x288 with 1 Axes>"
      ]
     },
     "metadata": {
      "needs_background": "light"
     },
     "output_type": "display_data"
    }
   ],
   "source": [
    "sns.violinplot(data=data[data['bmi'] < 60], x='stroke', y='bmi', palette=palette_stroke)"
   ]
  },
  {
   "cell_type": "markdown",
   "id": "anticipated-mentor",
   "metadata": {},
   "source": [
    "Another suitable method to visualize the risk of a stroke, is to _bin_ the _BMI_ into certain ranges (i.e. _10 to 15_, _15 to 20_ and so on):"
   ]
  },
  {
   "cell_type": "code",
   "execution_count": 13,
   "id": "discrete-blind",
   "metadata": {
    "scrolled": false
   },
   "outputs": [
    {
     "data": {
      "text/plain": [
       "<AxesSubplot:xlabel='bmi_bin', ylabel='stroke'>"
      ]
     },
     "execution_count": 13,
     "metadata": {},
     "output_type": "execute_result"
    },
    {
     "data": {
      "image/png": "[encoded data removed]",
      "text/plain": [
       "<Figure size 432x288 with 1 Axes>"
      ]
     },
     "metadata": {
      "needs_background": "light"
     },
     "output_type": "display_data"
    }
   ],
   "source": [
    "bmi_data = data[['bmi', 'stroke']].copy().dropna()\n",
    "bmi_data['bmi_bin'] = pd.cut(bmi_data['bmi'], bins=np.arange(10, 51, 5))\n",
    "\n",
    "sns.pointplot(x='bmi_bin', y='stroke', data=bmi_data)"
   ]
  },
  {
   "cell_type": "markdown",
   "id": "sunrise-auckland",
   "metadata": {},
   "source": [
    "We can use this technique for the average glucose level as well:"
   ]
  },
  {
   "cell_type": "code",
   "execution_count": 14,
   "id": "younger-revision",
   "metadata": {
    "scrolled": true
   },
   "outputs": [
    {
     "data": {
      "image/png": "[encoded data removed]",
      "text/plain": [
       "<Figure size 432x288 with 1 Axes>"
      ]
     },
     "metadata": {
      "needs_background": "light"
     },
     "output_type": "display_data"
    }
   ],
   "source": [
    "glucose_data = data[['avg_glucose_level', 'stroke']].copy().dropna()\n",
    "glucose_data['avg_glucose_level_bin'] = pd.cut(glucose_data['avg_glucose_level'], bins=np.arange(50, 301, 25))\n",
    "\n",
    "sns.pointplot(x='avg_glucose_level_bin', y='stroke', data=glucose_data)\n",
    "plt.xticks(rotation=45);"
   ]
  },
  {
   "cell_type": "markdown",
   "id": "spiritual-license",
   "metadata": {},
   "source": [
    "While the risk of suffering from a stroke increases marginally with higher average glucose levels, so does the uncertainty as shown by the confidence interval.\n",
    "\n",
    "Let's investigate this fact by plotting a _kernel density estimate_:"
   ]
  },
  {
   "cell_type": "code",
   "execution_count": 15,
   "id": "through-presence",
   "metadata": {
    "scrolled": false
   },
   "outputs": [
    {
     "data": {
      "text/plain": [
       "<AxesSubplot:xlabel='avg_glucose_level', ylabel='Density'>"
      ]
     },
     "execution_count": 15,
     "metadata": {},
     "output_type": "execute_result"
    },
    {
     "data": {
      "image/png": "[encoded data removed]",
      "text/plain": [
       "<Figure size 432x288 with 1 Axes>"
      ]
     },
     "metadata": {
      "needs_background": "light"
     },
     "output_type": "display_data"
    }
   ],
   "source": [
    "sns.kdeplot(data=data, x='avg_glucose_level', fill=True, hue='stroke', palette=palette_stroke)"
   ]
  },
  {
   "cell_type": "markdown",
   "id": "clinical-playlist",
   "metadata": {},
   "source": [
    "As you probably noticed by now, we're dealing with an extremely imbalanced dataset! "
   ]
  },
  {
   "cell_type": "markdown",
   "id": "immune-personality",
   "metadata": {},
   "source": [
    "## Categorical Variables\n",
    "\n",
    "Let's also investigate our categorical variables, such as the _smoking status_:"
   ]
  },
  {
   "cell_type": "code",
   "execution_count": 16,
   "id": "dramatic-pricing",
   "metadata": {
    "scrolled": true
   },
   "outputs": [
    {
     "data": {
      "text/plain": [
       "<AxesSubplot:xlabel='smoking_status', ylabel='count'>"
      ]
     },
     "execution_count": 16,
     "metadata": {},
     "output_type": "execute_result"
    },
    {
     "data": {
      "image/png": "[encoded data removed]",
      "text/plain": [
       "<Figure size 432x288 with 1 Axes>"
      ]
     },
     "metadata": {
      "needs_background": "light"
     },
     "output_type": "display_data"
    }
   ],
   "source": [
    "palette_cigarette = sns.color_palette(['whitesmoke', 'orange'])\n",
    "sns.countplot(data=data, x='smoking_status', hue='stroke', palette=palette_cigarette)"
   ]
  },
  {
   "cell_type": "markdown",
   "id": "noted-neutral",
   "metadata": {},
   "source": [
    "While confirming our observation, that the classes are highly imbalanced, the _count plot_ is not really suitable for this situation - the imbalanced distribution makes it difficult to intepret, so we'll resort to _cat plots_ again:"
   ]
  },
  {
   "cell_type": "code",
   "execution_count": 17,
   "id": "conditional-marriage",
   "metadata": {
    "scrolled": false
   },
   "outputs": [
    {
     "data": {
      "text/plain": [
       "<seaborn.axisgrid.FacetGrid at 0x7f729306e040>"
      ]
     },
     "execution_count": 17,
     "metadata": {},
     "output_type": "execute_result"
    },
    {
     "data": {
      "image/png": "[encoded data removed]",
      "text/plain": [
       "<Figure size 360x360 with 1 Axes>"
      ]
     },
     "metadata": {
      "needs_background": "light"
     },
     "output_type": "display_data"
    }
   ],
   "source": [
    "sns.catplot(x='smoking_status', y='stroke', data=data, kind='bar')"
   ]
  },
  {
   "cell_type": "markdown",
   "id": "saving-phoenix",
   "metadata": {},
   "source": [
    "Apparently former smokers in our dataset have the highest risk of suffering from a stroke, while people who never smoked have the lowest one. We also have a category _unknown_ - keep that in mind for later!\n",
    "\n",
    "Let's use the same technique for visualizing some more of our categorical columns:"
   ]
  },
  {
   "cell_type": "code",
   "execution_count": 18,
   "id": "falling-breakfast",
   "metadata": {
    "scrolled": false
   },
   "outputs": [
    {
     "data": {
      "image/png": "[encoded data removed]",
      "text/plain": [
       "<Figure size 360x360 with 1 Axes>"
      ]
     },
     "metadata": {
      "needs_background": "light"
     },
     "output_type": "display_data"
    },
    {
     "data": {
      "image/png": "[encoded data removed]",
      "text/plain": [
       "<Figure size 360x360 with 1 Axes>"
      ]
     },
     "metadata": {
      "needs_background": "light"
     },
     "output_type": "display_data"
    },
    {
     "data": {
      "image/png": "[encoded data removed]",
      "text/plain": [
       "<Figure size 360x360 with 1 Axes>"
      ]
     },
     "metadata": {
      "needs_background": "light"
     },
     "output_type": "display_data"
    },
    {
     "data": {
      "image/png": "[encoded data removed]",
      "text/plain": [
       "<Figure size 360x360 with 1 Axes>"
      ]
     },
     "metadata": {
      "needs_background": "light"
     },
     "output_type": "display_data"
    }
   ],
   "source": [
    "for curr_variable in ['hypertension', 'heart_disease', 'ever_married', 'Residence_type']:\n",
    "    sns.catplot(x=curr_variable, y='stroke', data=data, kind='bar')"
   ]
  },
  {
   "cell_type": "markdown",
   "id": "unsigned-cycle",
   "metadata": {},
   "source": [
    "Another neat visualization technique for categorical values is a _point plot_, like the on we used above:"
   ]
  },
  {
   "cell_type": "code",
   "execution_count": 19,
   "id": "manual-deviation",
   "metadata": {},
   "outputs": [
    {
     "data": {
      "text/plain": [
       "<AxesSubplot:xlabel='work_type', ylabel='stroke'>"
      ]
     },
     "execution_count": 19,
     "metadata": {},
     "output_type": "execute_result"
    },
    {
     "data": {
      "image/png": "[encoded data removed]",
      "text/plain": [
       "<Figure size 432x288 with 1 Axes>"
      ]
     },
     "metadata": {
      "needs_background": "light"
     },
     "output_type": "display_data"
    }
   ],
   "source": [
    "sns.pointplot(x='work_type', y='stroke', data=data, palette=palette_default)"
   ]
  },
  {
   "cell_type": "markdown",
   "id": "educated-entity",
   "metadata": {},
   "source": [
    "## Stratification"
   ]
  },
  {
   "cell_type": "markdown",
   "id": "equipped-personal",
   "metadata": {},
   "source": [
    "While _seaborn_ does not provide _pie_ plots out-of-the-box, we can use the `plot`-method provided by _pandas_ for `DataFrame`s and `Series`. Let's use this to illustrate the class imbalance:"
   ]
  },
  {
   "cell_type": "code",
   "execution_count": 20,
   "id": "working-occasion",
   "metadata": {
    "scrolled": true
   },
   "outputs": [
    {
     "data": {
      "text/plain": [
       "<AxesSubplot:ylabel='stroke'>"
      ]
     },
     "execution_count": 20,
     "metadata": {},
     "output_type": "execute_result"
    },
    {
     "data": {
      "image/png": "[encoded data removed]",
      "text/plain": [
       "<Figure size 432x288 with 1 Axes>"
      ]
     },
     "metadata": {},
     "output_type": "display_data"
    }
   ],
   "source": [
    "data['stroke'].value_counts().plot(kind='pie', colors=palette_stroke)"
   ]
  },
  {
   "cell_type": "markdown",
   "id": "forty-neighbor",
   "metadata": {},
   "source": [
    "To ensure the same imbalanced class distribution in both training and test set, we need to use _stratification_ when splitting the data:"
   ]
  },
  {
   "cell_type": "code",
   "execution_count": 21,
   "id": "confidential-input",
   "metadata": {},
   "outputs": [],
   "source": [
    "from sklearn.model_selection import train_test_split\n",
    "\n",
    "X = data[data.columns[1:-1]]\n",
    "y = data['stroke']\n",
    "\n",
    "X_train_raw, X_test_raw, y_train, y_test = train_test_split(X, y, random_state=my_random_state, stratify=y, test_size=0.2)\n",
    "\n",
    "# Since the train-test-split only creates \"views\" of the original dataset,\n",
    "# we can run into errors when manipulating the data (e.g. when imputing).\n",
    "# Hence, we're creating a deep copy:\n",
    "X_train = X_train_raw.copy()\n",
    "X_test = X_test_raw.copy()"
   ]
  },
  {
   "cell_type": "markdown",
   "id": "lightweight-order",
   "metadata": {},
   "source": [
    "# Imputation"
   ]
  },
  {
   "cell_type": "markdown",
   "id": "worst-induction",
   "metadata": {},
   "source": [
    "As you've hopefully noticed, we have some missing values in our dataset: The first data exploration showed some `NaN`-values in the _BMI_ column, the visualization revealed multiple _unknown_ `smoking_status`.\n",
    "\n",
    "The following sample shows both situations:"
   ]
  },
  {
   "cell_type": "code",
   "execution_count": 22,
   "id": "foreign-delaware",
   "metadata": {
    "scrolled": true
   },
   "outputs": [
    {
     "data": {
      "text/html": [
       "<div>\n",
       "<style scoped>\n",
       "    .dataframe tbody tr th:only-of-type {\n",
       "        vertical-align: middle;\n",
       "    }\n",
       "\n",
       "    .dataframe tbody tr th {\n",
       "        vertical-align: top;\n",
       "    }\n",
       "\n",
       "    .dataframe thead th {\n",
       "        text-align: right;\n",
       "    }\n",
       "</style>\n",
       "<table border=\"1\" class=\"dataframe\">\n",
       "  <thead>\n",
       "    <tr style=\"text-align: right;\">\n",
       "      <th></th>\n",
       "      <th>gender</th>\n",
       "      <th>age</th>\n",
       "      <th>hypertension</th>\n",
       "      <th>heart_disease</th>\n",
       "      <th>ever_married</th>\n",
       "      <th>work_type</th>\n",
       "      <th>Residence_type</th>\n",
       "      <th>avg_glucose_level</th>\n",
       "      <th>bmi</th>\n",
       "      <th>smoking_status</th>\n",
       "    </tr>\n",
       "  </thead>\n",
       "  <tbody>\n",
       "    <tr>\n",
       "      <th>2126</th>\n",
       "      <td>Female</td>\n",
       "      <td>44.0</td>\n",
       "      <td>0</td>\n",
       "      <td>0</td>\n",
       "      <td>Yes</td>\n",
       "      <td>Private</td>\n",
       "      <td>Rural</td>\n",
       "      <td>222.29</td>\n",
       "      <td>38.2</td>\n",
       "      <td>never smoked</td>\n",
       "    </tr>\n",
       "    <tr>\n",
       "      <th>3522</th>\n",
       "      <td>Female</td>\n",
       "      <td>51.0</td>\n",
       "      <td>0</td>\n",
       "      <td>0</td>\n",
       "      <td>Yes</td>\n",
       "      <td>Self-employed</td>\n",
       "      <td>Rural</td>\n",
       "      <td>97.25</td>\n",
       "      <td>21.5</td>\n",
       "      <td>never smoked</td>\n",
       "    </tr>\n",
       "    <tr>\n",
       "      <th>3743</th>\n",
       "      <td>Male</td>\n",
       "      <td>15.0</td>\n",
       "      <td>0</td>\n",
       "      <td>0</td>\n",
       "      <td>No</td>\n",
       "      <td>Private</td>\n",
       "      <td>Rural</td>\n",
       "      <td>122.25</td>\n",
       "      <td>21.0</td>\n",
       "      <td>never smoked</td>\n",
       "    </tr>\n",
       "    <tr>\n",
       "      <th>3675</th>\n",
       "      <td>Female</td>\n",
       "      <td>4.0</td>\n",
       "      <td>0</td>\n",
       "      <td>0</td>\n",
       "      <td>No</td>\n",
       "      <td>children</td>\n",
       "      <td>Rural</td>\n",
       "      <td>109.81</td>\n",
       "      <td>17.9</td>\n",
       "      <td>Unknown</td>\n",
       "    </tr>\n",
       "    <tr>\n",
       "      <th>3563</th>\n",
       "      <td>Female</td>\n",
       "      <td>55.0</td>\n",
       "      <td>0</td>\n",
       "      <td>1</td>\n",
       "      <td>Yes</td>\n",
       "      <td>Private</td>\n",
       "      <td>Urban</td>\n",
       "      <td>199.38</td>\n",
       "      <td>39.0</td>\n",
       "      <td>Unknown</td>\n",
       "    </tr>\n",
       "    <tr>\n",
       "      <th>3343</th>\n",
       "      <td>Male</td>\n",
       "      <td>41.0</td>\n",
       "      <td>0</td>\n",
       "      <td>0</td>\n",
       "      <td>No</td>\n",
       "      <td>Private</td>\n",
       "      <td>Urban</td>\n",
       "      <td>70.55</td>\n",
       "      <td>44.2</td>\n",
       "      <td>Unknown</td>\n",
       "    </tr>\n",
       "    <tr>\n",
       "      <th>3184</th>\n",
       "      <td>Female</td>\n",
       "      <td>22.0</td>\n",
       "      <td>0</td>\n",
       "      <td>0</td>\n",
       "      <td>No</td>\n",
       "      <td>Govt_job</td>\n",
       "      <td>Urban</td>\n",
       "      <td>87.25</td>\n",
       "      <td>24.9</td>\n",
       "      <td>smokes</td>\n",
       "    </tr>\n",
       "    <tr>\n",
       "      <th>3196</th>\n",
       "      <td>Male</td>\n",
       "      <td>60.0</td>\n",
       "      <td>0</td>\n",
       "      <td>0</td>\n",
       "      <td>Yes</td>\n",
       "      <td>Self-employed</td>\n",
       "      <td>Rural</td>\n",
       "      <td>212.02</td>\n",
       "      <td>NaN</td>\n",
       "      <td>Unknown</td>\n",
       "    </tr>\n",
       "    <tr>\n",
       "      <th>4696</th>\n",
       "      <td>Male</td>\n",
       "      <td>67.0</td>\n",
       "      <td>0</td>\n",
       "      <td>0</td>\n",
       "      <td>Yes</td>\n",
       "      <td>Private</td>\n",
       "      <td>Rural</td>\n",
       "      <td>86.96</td>\n",
       "      <td>31.4</td>\n",
       "      <td>formerly smoked</td>\n",
       "    </tr>\n",
       "    <tr>\n",
       "      <th>64</th>\n",
       "      <td>Male</td>\n",
       "      <td>75.0</td>\n",
       "      <td>0</td>\n",
       "      <td>0</td>\n",
       "      <td>Yes</td>\n",
       "      <td>Private</td>\n",
       "      <td>Urban</td>\n",
       "      <td>104.72</td>\n",
       "      <td>NaN</td>\n",
       "      <td>Unknown</td>\n",
       "    </tr>\n",
       "  </tbody>\n",
       "</table>\n",
       "</div>"
      ],
      "text/plain": [
       "      gender   age  hypertension  heart_disease ever_married      work_type  \\\n",
       "2126  Female  44.0             0              0          Yes        Private   \n",
       "3522  Female  51.0             0              0          Yes  Self-employed   \n",
       "3743    Male  15.0             0              0           No        Private   \n",
       "3675  Female   4.0             0              0           No       children   \n",
       "3563  Female  55.0             0              1          Yes        Private   \n",
       "3343    Male  41.0             0              0           No        Private   \n",
       "3184  Female  22.0             0              0           No       Govt_job   \n",
       "3196    Male  60.0             0              0          Yes  Self-employed   \n",
       "4696    Male  67.0             0              0          Yes        Private   \n",
       "64      Male  75.0             0              0          Yes        Private   \n",
       "\n",
       "     Residence_type  avg_glucose_level   bmi   smoking_status  \n",
       "2126          Rural             222.29  38.2     never smoked  \n",
       "3522          Rural              97.25  21.5     never smoked  \n",
       "3743          Rural             122.25  21.0     never smoked  \n",
       "3675          Rural             109.81  17.9          Unknown  \n",
       "3563          Urban             199.38  39.0          Unknown  \n",
       "3343          Urban              70.55  44.2          Unknown  \n",
       "3184          Urban              87.25  24.9           smokes  \n",
       "3196          Rural             212.02   NaN          Unknown  \n",
       "4696          Rural              86.96  31.4  formerly smoked  \n",
       "64            Urban             104.72   NaN          Unknown  "
      ]
     },
     "execution_count": 22,
     "metadata": {},
     "output_type": "execute_result"
    }
   ],
   "source": [
    "X_train.sample(n=10, random_state=44)"
   ]
  },
  {
   "cell_type": "markdown",
   "id": "premier-yellow",
   "metadata": {},
   "source": [
    "Since both features are clear risk factors for suffering a stroke, it's not a good idea to simply remove the columns.\n",
    "\n",
    "We already learned how to deal missing numerical values, so let's take care of the _BMI_ column by replacing missing values with the _median_ of the column:\n",
    "\n",
    "N.B.: Keep in mind, that we **_fit only on the training data_** so we don't _learn_ anything from the test data!"
   ]
  },
  {
   "cell_type": "code",
   "execution_count": 23,
   "id": "flexible-dance",
   "metadata": {},
   "outputs": [],
   "source": [
    "from sklearn.impute import SimpleImputer"
   ]
  },
  {
   "cell_type": "code",
   "execution_count": 24,
   "id": "recognized-bennett",
   "metadata": {},
   "outputs": [],
   "source": [
    "simple_imputer = SimpleImputer(strategy='median')\n",
    "\n",
    "X_train[['bmi']] = simple_imputer.fit_transform(X_train[['bmi']])\n",
    "X_test[['bmi']] = simple_imputer.transform(X_test[['bmi']])"
   ]
  },
  {
   "cell_type": "markdown",
   "id": "banned-agent",
   "metadata": {},
   "source": [
    "## Imputing Categorical Values\n",
    "\n",
    "We obviously can't apply _mathematical_ strategies such as the mean or the median when imputing categorical data. Instead we can deal with missing values using the self-explanatory `most_frequent`-strategy - or use a `constant` replacement.\n",
    "\n",
    "As you probably noticed, there seems to be a lot of `children`, who have an `Unknown` `smoking_status`. We can safely assume, that they `never smoked`:"
   ]
  },
  {
   "cell_type": "code",
   "execution_count": 25,
   "id": "verbal-infrastructure",
   "metadata": {},
   "outputs": [],
   "source": [
    "simple_imputer = SimpleImputer(strategy='constant', fill_value='never smoked', missing_values='Unknown')\n",
    "\n",
    "X_train.loc[X_train['work_type'] == 'children', 'smoking_status'] = simple_imputer.fit_transform(X_train.loc[X_train['work_type'] == 'children'][['smoking_status']]).ravel()\n",
    "X_test.loc[X_test['work_type'] == 'children', 'smoking_status'] = simple_imputer.transform(X_test.loc[X_test['work_type'] == 'children'][['smoking_status']]).ravel()"
   ]
  },
  {
   "cell_type": "markdown",
   "id": "figured-eagle",
   "metadata": {},
   "source": [
    "What about the others? Let's be prejudiced and assume, that there's a reason, why somebody doesn't want to reveal their smoking status - and simply replace all `Unknown` values with the constant `smokes`. Since this is quite a big assumption, we'll additionally introduce a column to _flag_ the rows where the value was missing."
   ]
  },
  {
   "cell_type": "code",
   "execution_count": 26,
   "id": "dimensional-static",
   "metadata": {},
   "outputs": [],
   "source": [
    "X_train['smoking_status_was_missing'] = X_train['smoking_status'] == 'Unknown'\n",
    "X_test['smoking_status_was_missing'] = X_test['smoking_status'] == 'Unknown'"
   ]
  },
  {
   "cell_type": "code",
   "execution_count": 27,
   "id": "acceptable-nowhere",
   "metadata": {},
   "outputs": [],
   "source": [
    "simple_imputer = SimpleImputer(strategy='constant', fill_value='smokes', missing_values='Unknown')\n",
    "\n",
    "X_train[['smoking_status']] = simple_imputer.fit_transform(X_train[['smoking_status']])\n",
    "X_test[['smoking_status']] = simple_imputer.transform(X_test[['smoking_status']])"
   ]
  },
  {
   "cell_type": "markdown",
   "id": "expired-glance",
   "metadata": {},
   "source": [
    "The following sample shows the success of our imputation:"
   ]
  },
  {
   "cell_type": "code",
   "execution_count": 28,
   "id": "simple-consultancy",
   "metadata": {},
   "outputs": [
    {
     "data": {
      "text/html": [
       "<div>\n",
       "<style scoped>\n",
       "    .dataframe tbody tr th:only-of-type {\n",
       "        vertical-align: middle;\n",
       "    }\n",
       "\n",
       "    .dataframe tbody tr th {\n",
       "        vertical-align: top;\n",
       "    }\n",
       "\n",
       "    .dataframe thead th {\n",
       "        text-align: right;\n",
       "    }\n",
       "</style>\n",
       "<table border=\"1\" class=\"dataframe\">\n",
       "  <thead>\n",
       "    <tr style=\"text-align: right;\">\n",
       "      <th></th>\n",
       "      <th>gender</th>\n",
       "      <th>age</th>\n",
       "      <th>hypertension</th>\n",
       "      <th>heart_disease</th>\n",
       "      <th>ever_married</th>\n",
       "      <th>work_type</th>\n",
       "      <th>Residence_type</th>\n",
       "      <th>avg_glucose_level</th>\n",
       "      <th>bmi</th>\n",
       "      <th>smoking_status</th>\n",
       "      <th>smoking_status_was_missing</th>\n",
       "    </tr>\n",
       "  </thead>\n",
       "  <tbody>\n",
       "    <tr>\n",
       "      <th>1568</th>\n",
       "      <td>Female</td>\n",
       "      <td>65.0</td>\n",
       "      <td>0</td>\n",
       "      <td>0</td>\n",
       "      <td>Yes</td>\n",
       "      <td>Private</td>\n",
       "      <td>Urban</td>\n",
       "      <td>72.49</td>\n",
       "      <td>28.9</td>\n",
       "      <td>smokes</td>\n",
       "      <td>False</td>\n",
       "    </tr>\n",
       "    <tr>\n",
       "      <th>4548</th>\n",
       "      <td>Female</td>\n",
       "      <td>17.0</td>\n",
       "      <td>0</td>\n",
       "      <td>0</td>\n",
       "      <td>No</td>\n",
       "      <td>Private</td>\n",
       "      <td>Rural</td>\n",
       "      <td>79.62</td>\n",
       "      <td>21.6</td>\n",
       "      <td>never smoked</td>\n",
       "      <td>False</td>\n",
       "    </tr>\n",
       "    <tr>\n",
       "      <th>619</th>\n",
       "      <td>Male</td>\n",
       "      <td>43.0</td>\n",
       "      <td>0</td>\n",
       "      <td>0</td>\n",
       "      <td>Yes</td>\n",
       "      <td>Private</td>\n",
       "      <td>Urban</td>\n",
       "      <td>111.43</td>\n",
       "      <td>21.9</td>\n",
       "      <td>smokes</td>\n",
       "      <td>False</td>\n",
       "    </tr>\n",
       "    <tr>\n",
       "      <th>3160</th>\n",
       "      <td>Male</td>\n",
       "      <td>42.0</td>\n",
       "      <td>0</td>\n",
       "      <td>0</td>\n",
       "      <td>Yes</td>\n",
       "      <td>Private</td>\n",
       "      <td>Urban</td>\n",
       "      <td>177.91</td>\n",
       "      <td>28.1</td>\n",
       "      <td>smokes</td>\n",
       "      <td>True</td>\n",
       "    </tr>\n",
       "    <tr>\n",
       "      <th>2069</th>\n",
       "      <td>Female</td>\n",
       "      <td>66.0</td>\n",
       "      <td>0</td>\n",
       "      <td>0</td>\n",
       "      <td>Yes</td>\n",
       "      <td>Private</td>\n",
       "      <td>Urban</td>\n",
       "      <td>202.05</td>\n",
       "      <td>31.7</td>\n",
       "      <td>smokes</td>\n",
       "      <td>False</td>\n",
       "    </tr>\n",
       "  </tbody>\n",
       "</table>\n",
       "</div>"
      ],
      "text/plain": [
       "      gender   age  hypertension  heart_disease ever_married work_type  \\\n",
       "1568  Female  65.0             0              0          Yes   Private   \n",
       "4548  Female  17.0             0              0           No   Private   \n",
       "619     Male  43.0             0              0          Yes   Private   \n",
       "3160    Male  42.0             0              0          Yes   Private   \n",
       "2069  Female  66.0             0              0          Yes   Private   \n",
       "\n",
       "     Residence_type  avg_glucose_level   bmi smoking_status  \\\n",
       "1568          Urban              72.49  28.9         smokes   \n",
       "4548          Rural              79.62  21.6   never smoked   \n",
       "619           Urban             111.43  21.9         smokes   \n",
       "3160          Urban             177.91  28.1         smokes   \n",
       "2069          Urban             202.05  31.7         smokes   \n",
       "\n",
       "      smoking_status_was_missing  \n",
       "1568                       False  \n",
       "4548                       False  \n",
       "619                        False  \n",
       "3160                        True  \n",
       "2069                       False  "
      ]
     },
     "execution_count": 28,
     "metadata": {},
     "output_type": "execute_result"
    }
   ],
   "source": [
    "X_train.sample(n=5, random_state=10)"
   ]
  },
  {
   "cell_type": "markdown",
   "id": "individual-calibration",
   "metadata": {},
   "source": [
    "## Our First Model\n",
    "\n",
    "Time to train our first model!"
   ]
  },
  {
   "cell_type": "code",
   "execution_count": 29,
   "id": "agricultural-reputation",
   "metadata": {},
   "outputs": [],
   "source": [
    "from sklearn.ensemble import RandomForestClassifier"
   ]
  },
  {
   "cell_type": "code",
   "execution_count": 30,
   "id": "challenging-pontiac",
   "metadata": {
    "scrolled": true
   },
   "outputs": [
    {
     "name": "stdout",
     "output_type": "stream",
     "text": [
      "Exception occurred:\n",
      "could not convert string to float: 'Male'\n"
     ]
    }
   ],
   "source": [
    "try:\n",
    "    rf_model = RandomForestClassifier(random_state=my_random_state)\n",
    "    rf_model.fit(X_train, y_train)\n",
    "except Exception as e:\n",
    "    print('Exception occurred:')\n",
    "    print(e)"
   ]
  },
  {
   "cell_type": "markdown",
   "id": "amber-asian",
   "metadata": {},
   "source": [
    "As you've expected, it wasn't going to be that easy: The algorithm can't work with _string_ values, and we have quite a few as the following output shows:"
   ]
  },
  {
   "cell_type": "code",
   "execution_count": 31,
   "id": "auburn-victory",
   "metadata": {
    "scrolled": true
   },
   "outputs": [
    {
     "data": {
      "text/html": [
       "<div>\n",
       "<style scoped>\n",
       "    .dataframe tbody tr th:only-of-type {\n",
       "        vertical-align: middle;\n",
       "    }\n",
       "\n",
       "    .dataframe tbody tr th {\n",
       "        vertical-align: top;\n",
       "    }\n",
       "\n",
       "    .dataframe thead th {\n",
       "        text-align: right;\n",
       "    }\n",
       "</style>\n",
       "<table border=\"1\" class=\"dataframe\">\n",
       "  <thead>\n",
       "    <tr style=\"text-align: right;\">\n",
       "      <th></th>\n",
       "      <th>gender</th>\n",
       "      <th>ever_married</th>\n",
       "      <th>work_type</th>\n",
       "      <th>Residence_type</th>\n",
       "      <th>smoking_status</th>\n",
       "      <th>smoking_status_was_missing</th>\n",
       "    </tr>\n",
       "  </thead>\n",
       "  <tbody>\n",
       "    <tr>\n",
       "      <th>1131</th>\n",
       "      <td>Female</td>\n",
       "      <td>Yes</td>\n",
       "      <td>Private</td>\n",
       "      <td>Rural</td>\n",
       "      <td>never smoked</td>\n",
       "      <td>False</td>\n",
       "    </tr>\n",
       "    <tr>\n",
       "      <th>3567</th>\n",
       "      <td>Male</td>\n",
       "      <td>Yes</td>\n",
       "      <td>Private</td>\n",
       "      <td>Rural</td>\n",
       "      <td>smokes</td>\n",
       "      <td>False</td>\n",
       "    </tr>\n",
       "    <tr>\n",
       "      <th>245</th>\n",
       "      <td>Female</td>\n",
       "      <td>No</td>\n",
       "      <td>children</td>\n",
       "      <td>Rural</td>\n",
       "      <td>never smoked</td>\n",
       "      <td>False</td>\n",
       "    </tr>\n",
       "    <tr>\n",
       "      <th>2991</th>\n",
       "      <td>Female</td>\n",
       "      <td>Yes</td>\n",
       "      <td>Private</td>\n",
       "      <td>Urban</td>\n",
       "      <td>never smoked</td>\n",
       "      <td>False</td>\n",
       "    </tr>\n",
       "    <tr>\n",
       "      <th>3278</th>\n",
       "      <td>Female</td>\n",
       "      <td>Yes</td>\n",
       "      <td>Private</td>\n",
       "      <td>Urban</td>\n",
       "      <td>smokes</td>\n",
       "      <td>True</td>\n",
       "    </tr>\n",
       "    <tr>\n",
       "      <th>4848</th>\n",
       "      <td>Male</td>\n",
       "      <td>Yes</td>\n",
       "      <td>Govt_job</td>\n",
       "      <td>Rural</td>\n",
       "      <td>formerly smoked</td>\n",
       "      <td>False</td>\n",
       "    </tr>\n",
       "    <tr>\n",
       "      <th>2434</th>\n",
       "      <td>Female</td>\n",
       "      <td>Yes</td>\n",
       "      <td>Govt_job</td>\n",
       "      <td>Urban</td>\n",
       "      <td>never smoked</td>\n",
       "      <td>False</td>\n",
       "    </tr>\n",
       "    <tr>\n",
       "      <th>664</th>\n",
       "      <td>Male</td>\n",
       "      <td>Yes</td>\n",
       "      <td>Private</td>\n",
       "      <td>Rural</td>\n",
       "      <td>never smoked</td>\n",
       "      <td>False</td>\n",
       "    </tr>\n",
       "    <tr>\n",
       "      <th>3239</th>\n",
       "      <td>Female</td>\n",
       "      <td>No</td>\n",
       "      <td>children</td>\n",
       "      <td>Rural</td>\n",
       "      <td>never smoked</td>\n",
       "      <td>False</td>\n",
       "    </tr>\n",
       "    <tr>\n",
       "      <th>3815</th>\n",
       "      <td>Male</td>\n",
       "      <td>Yes</td>\n",
       "      <td>Govt_job</td>\n",
       "      <td>Rural</td>\n",
       "      <td>smokes</td>\n",
       "      <td>True</td>\n",
       "    </tr>\n",
       "  </tbody>\n",
       "</table>\n",
       "</div>"
      ],
      "text/plain": [
       "      gender ever_married work_type Residence_type   smoking_status  \\\n",
       "1131  Female          Yes   Private          Rural     never smoked   \n",
       "3567    Male          Yes   Private          Rural           smokes   \n",
       "245   Female           No  children          Rural     never smoked   \n",
       "2991  Female          Yes   Private          Urban     never smoked   \n",
       "3278  Female          Yes   Private          Urban           smokes   \n",
       "4848    Male          Yes  Govt_job          Rural  formerly smoked   \n",
       "2434  Female          Yes  Govt_job          Urban     never smoked   \n",
       "664     Male          Yes   Private          Rural     never smoked   \n",
       "3239  Female           No  children          Rural     never smoked   \n",
       "3815    Male          Yes  Govt_job          Rural           smokes   \n",
       "\n",
       "      smoking_status_was_missing  \n",
       "1131                       False  \n",
       "3567                       False  \n",
       "245                        False  \n",
       "2991                       False  \n",
       "3278                        True  \n",
       "4848                       False  \n",
       "2434                       False  \n",
       "664                        False  \n",
       "3239                       False  \n",
       "3815                        True  "
      ]
     },
     "execution_count": 31,
     "metadata": {},
     "output_type": "execute_result"
    }
   ],
   "source": [
    "X_train.select_dtypes(exclude=np.number).sample(10, random_state=1)"
   ]
  },
  {
   "cell_type": "markdown",
   "id": "sunset-deviation",
   "metadata": {},
   "source": [
    "# Encoding Categorical Values\n",
    "\n",
    "How will we deal with categorical data? To answer that question we first have to distinguish two types of categorical data:\n",
    "\n",
    "* **_Ordinal data_** is classified into categories that have a natural rank order (where the distances between the categories are not known). Examples include _school grades_, _olympic medals_...\n",
    "* **_Nominal data_** (also called _named data_) is defined as data that is used for naming or labelling variables without any quantitative value. Examples of categories without intrinsic ordering include _race_, _hair color_, _favorite music genre_..."
   ]
  },
  {
   "cell_type": "markdown",
   "id": "junior-ridge",
   "metadata": {},
   "source": [
    "## Ordinal Encoding\n",
    "\n",
    "Let's take a look at some example data containing two columns: One for _school grades_ and one for _sex_. While latter is _not ordinal_ per se but rather binary, we can still encode it in the same fashion."
   ]
  },
  {
   "cell_type": "code",
   "execution_count": 32,
   "id": "inappropriate-library",
   "metadata": {},
   "outputs": [
    {
     "data": {
      "text/html": [
       "<div>\n",
       "<style scoped>\n",
       "    .dataframe tbody tr th:only-of-type {\n",
       "        vertical-align: middle;\n",
       "    }\n",
       "\n",
       "    .dataframe tbody tr th {\n",
       "        vertical-align: top;\n",
       "    }\n",
       "\n",
       "    .dataframe thead th {\n",
       "        text-align: right;\n",
       "    }\n",
       "</style>\n",
       "<table border=\"1\" class=\"dataframe\">\n",
       "  <thead>\n",
       "    <tr style=\"text-align: right;\">\n",
       "      <th></th>\n",
       "      <th>grade</th>\n",
       "      <th>sex</th>\n",
       "    </tr>\n",
       "  </thead>\n",
       "  <tbody>\n",
       "    <tr>\n",
       "      <th>0</th>\n",
       "      <td>GUT</td>\n",
       "      <td>f</td>\n",
       "    </tr>\n",
       "    <tr>\n",
       "      <th>1</th>\n",
       "      <td>NGD</td>\n",
       "      <td>m</td>\n",
       "    </tr>\n",
       "    <tr>\n",
       "      <th>2</th>\n",
       "      <td>BEF</td>\n",
       "      <td>m</td>\n",
       "    </tr>\n",
       "    <tr>\n",
       "      <th>3</th>\n",
       "      <td>SGT</td>\n",
       "      <td>f</td>\n",
       "    </tr>\n",
       "    <tr>\n",
       "      <th>4</th>\n",
       "      <td>GEN</td>\n",
       "      <td>f</td>\n",
       "    </tr>\n",
       "    <tr>\n",
       "      <th>5</th>\n",
       "      <td>SGT</td>\n",
       "      <td>m</td>\n",
       "    </tr>\n",
       "    <tr>\n",
       "      <th>6</th>\n",
       "      <td>GUT</td>\n",
       "      <td>m</td>\n",
       "    </tr>\n",
       "  </tbody>\n",
       "</table>\n",
       "</div>"
      ],
      "text/plain": [
       "  grade sex\n",
       "0   GUT   f\n",
       "1   NGD   m\n",
       "2   BEF   m\n",
       "3   SGT   f\n",
       "4   GEN   f\n",
       "5   SGT   m\n",
       "6   GUT   m"
      ]
     },
     "execution_count": 32,
     "metadata": {},
     "output_type": "execute_result"
    }
   ],
   "source": [
    "example_data = pd.DataFrame({'grade': ['GUT', 'NGD', 'BEF', 'SGT', 'GEN', 'SGT', 'GUT'], 'sex': ['f', 'm', 'm', 'f', 'f', 'm', 'm']})\n",
    "example_data"
   ]
  },
  {
   "cell_type": "markdown",
   "id": "finite-socket",
   "metadata": {},
   "source": [
    "_scikit-learn_ provides an `OrdinalEncoder` that can be used to easily encode ordinal data. Analogous to the `Imputer` we use _fit_ and _transform_ to apply it to our data:"
   ]
  },
  {
   "cell_type": "code",
   "execution_count": 33,
   "id": "powered-extreme",
   "metadata": {},
   "outputs": [],
   "source": [
    "from sklearn.preprocessing import OrdinalEncoder"
   ]
  },
  {
   "cell_type": "code",
   "execution_count": 34,
   "id": "thousand-quantity",
   "metadata": {
    "scrolled": true
   },
   "outputs": [
    {
     "data": {
      "text/plain": [
       "array([[2., 0.],\n",
       "       [3., 1.],\n",
       "       [0., 1.],\n",
       "       [4., 0.],\n",
       "       [1., 0.],\n",
       "       [4., 1.],\n",
       "       [2., 1.]])"
      ]
     },
     "execution_count": 34,
     "metadata": {},
     "output_type": "execute_result"
    }
   ],
   "source": [
    "ordinal_encoder = OrdinalEncoder()\n",
    "ordinal_encoder.fit_transform(example_data[['grade', 'sex']])"
   ]
  },
  {
   "cell_type": "markdown",
   "id": "freelance-climate",
   "metadata": {},
   "source": [
    "The result for the school grade is not quite satisfying - after all, how should _scikit-learn_ know, how to rank Austrian grades?\n",
    "\n",
    "We can provide the ordering as follows:"
   ]
  },
  {
   "cell_type": "code",
   "execution_count": 35,
   "id": "funky-philip",
   "metadata": {
    "scrolled": true
   },
   "outputs": [
    {
     "data": {
      "text/plain": [
       "array([[1.],\n",
       "       [4.],\n",
       "       [2.],\n",
       "       [0.],\n",
       "       [3.],\n",
       "       [0.],\n",
       "       [1.]])"
      ]
     },
     "execution_count": 35,
     "metadata": {},
     "output_type": "execute_result"
    }
   ],
   "source": [
    "ordinal_encoder = OrdinalEncoder(categories=[['SGT', 'GUT', 'BEF', 'GEN', 'NGD']])\n",
    "ordinal_encoder.fit_transform(example_data[['grade']])"
   ]
  },
  {
   "cell_type": "markdown",
   "id": "private-shannon",
   "metadata": {},
   "source": [
    "Let's take closer look to see which columns we can apply ordinal encoding to:"
   ]
  },
  {
   "cell_type": "code",
   "execution_count": 36,
   "id": "general-vehicle",
   "metadata": {
    "scrolled": false
   },
   "outputs": [
    {
     "name": "stdout",
     "output_type": "stream",
     "text": [
      "gender\n",
      "['Male' 'Female']\n",
      "ever_married\n",
      "['Yes' 'No']\n",
      "work_type\n",
      "['Govt_job' 'Self-employed' 'Private' 'children' 'Never_worked']\n",
      "Residence_type\n",
      "['Urban' 'Rural']\n",
      "smoking_status\n",
      "['smokes' 'formerly smoked' 'never smoked']\n",
      "smoking_status_was_missing\n",
      "[False  True]\n"
     ]
    }
   ],
   "source": [
    "for curr_col in X_train.select_dtypes(exclude=np.number).columns:\n",
    "    print(curr_col)\n",
    "    print(X_train[curr_col].unique())"
   ]
  },
  {
   "cell_type": "markdown",
   "id": "trying-nelson",
   "metadata": {},
   "source": [
    "Since the columns `gender`, `ever_married` and `Residence_type` are _binary_ we can easily encode them like we did before:\n",
    "\n",
    "N.B.: Notice the missing quotation marks in the `smoking_status_was_missing`-column, indicating a _boolean_ value, which we don't need to encode."
   ]
  },
  {
   "cell_type": "code",
   "execution_count": 37,
   "id": "chronic-perspective",
   "metadata": {},
   "outputs": [],
   "source": [
    "ordinal_encoder = OrdinalEncoder()\n",
    "\n",
    "X_train[['gender', 'ever_married', 'Residence_type']] = ordinal_encoder.fit_transform(X_train[['gender', 'ever_married', 'Residence_type']])\n",
    "X_test[['gender', 'ever_married', 'Residence_type']] = ordinal_encoder.transform(X_test[['gender', 'ever_married', 'Residence_type']])"
   ]
  },
  {
   "cell_type": "markdown",
   "id": "transsexual-trauma",
   "metadata": {},
   "source": [
    "The next obvious choice is the `smoking_status`, constituting a _real_ ordinal variable, since there's a clear order. After taking a closer look at the unique values in the column, we can create an ordered list and use the `OrdinalEncoder` to convert the categorial variable to a numerical one:"
   ]
  },
  {
   "cell_type": "code",
   "execution_count": 38,
   "id": "written-terrorist",
   "metadata": {},
   "outputs": [],
   "source": [
    "smoking_status_ordered = ['never smoked', 'formerly smoked', 'smokes']\n",
    "\n",
    "ordinal_encoder = OrdinalEncoder(categories=[smoking_status_ordered])\n",
    "\n",
    "X_train[['smoking_status']] = ordinal_encoder.fit_transform(X_train[['smoking_status']])\n",
    "X_test[['smoking_status']] = ordinal_encoder.transform(X_test[['smoking_status']])"
   ]
  },
  {
   "cell_type": "markdown",
   "id": "civil-regulation",
   "metadata": {},
   "source": [
    "Let's take a look at the result:"
   ]
  },
  {
   "cell_type": "code",
   "execution_count": 39,
   "id": "equipped-makeup",
   "metadata": {
    "scrolled": true
   },
   "outputs": [
    {
     "data": {
      "text/html": [
       "<div>\n",
       "<style scoped>\n",
       "    .dataframe tbody tr th:only-of-type {\n",
       "        vertical-align: middle;\n",
       "    }\n",
       "\n",
       "    .dataframe tbody tr th {\n",
       "        vertical-align: top;\n",
       "    }\n",
       "\n",
       "    .dataframe thead th {\n",
       "        text-align: right;\n",
       "    }\n",
       "</style>\n",
       "<table border=\"1\" class=\"dataframe\">\n",
       "  <thead>\n",
       "    <tr style=\"text-align: right;\">\n",
       "      <th></th>\n",
       "      <th>gender</th>\n",
       "      <th>age</th>\n",
       "      <th>hypertension</th>\n",
       "      <th>heart_disease</th>\n",
       "      <th>ever_married</th>\n",
       "      <th>work_type</th>\n",
       "      <th>Residence_type</th>\n",
       "      <th>avg_glucose_level</th>\n",
       "      <th>bmi</th>\n",
       "      <th>smoking_status</th>\n",
       "      <th>smoking_status_was_missing</th>\n",
       "    </tr>\n",
       "  </thead>\n",
       "  <tbody>\n",
       "    <tr>\n",
       "      <th>1131</th>\n",
       "      <td>0.0</td>\n",
       "      <td>47.0</td>\n",
       "      <td>0</td>\n",
       "      <td>0</td>\n",
       "      <td>1.0</td>\n",
       "      <td>Private</td>\n",
       "      <td>0.0</td>\n",
       "      <td>195.04</td>\n",
       "      <td>45.5</td>\n",
       "      <td>0.0</td>\n",
       "      <td>False</td>\n",
       "    </tr>\n",
       "    <tr>\n",
       "      <th>3567</th>\n",
       "      <td>1.0</td>\n",
       "      <td>39.0</td>\n",
       "      <td>1</td>\n",
       "      <td>0</td>\n",
       "      <td>1.0</td>\n",
       "      <td>Private</td>\n",
       "      <td>0.0</td>\n",
       "      <td>88.18</td>\n",
       "      <td>33.5</td>\n",
       "      <td>2.0</td>\n",
       "      <td>False</td>\n",
       "    </tr>\n",
       "    <tr>\n",
       "      <th>245</th>\n",
       "      <td>0.0</td>\n",
       "      <td>14.0</td>\n",
       "      <td>0</td>\n",
       "      <td>0</td>\n",
       "      <td>0.0</td>\n",
       "      <td>children</td>\n",
       "      <td>0.0</td>\n",
       "      <td>57.93</td>\n",
       "      <td>30.9</td>\n",
       "      <td>0.0</td>\n",
       "      <td>False</td>\n",
       "    </tr>\n",
       "    <tr>\n",
       "      <th>2991</th>\n",
       "      <td>0.0</td>\n",
       "      <td>47.0</td>\n",
       "      <td>0</td>\n",
       "      <td>0</td>\n",
       "      <td>1.0</td>\n",
       "      <td>Private</td>\n",
       "      <td>1.0</td>\n",
       "      <td>74.63</td>\n",
       "      <td>45.3</td>\n",
       "      <td>0.0</td>\n",
       "      <td>False</td>\n",
       "    </tr>\n",
       "    <tr>\n",
       "      <th>3278</th>\n",
       "      <td>0.0</td>\n",
       "      <td>27.0</td>\n",
       "      <td>0</td>\n",
       "      <td>0</td>\n",
       "      <td>1.0</td>\n",
       "      <td>Private</td>\n",
       "      <td>1.0</td>\n",
       "      <td>127.28</td>\n",
       "      <td>23.4</td>\n",
       "      <td>2.0</td>\n",
       "      <td>True</td>\n",
       "    </tr>\n",
       "    <tr>\n",
       "      <th>4848</th>\n",
       "      <td>1.0</td>\n",
       "      <td>75.0</td>\n",
       "      <td>0</td>\n",
       "      <td>0</td>\n",
       "      <td>1.0</td>\n",
       "      <td>Govt_job</td>\n",
       "      <td>0.0</td>\n",
       "      <td>93.93</td>\n",
       "      <td>24.4</td>\n",
       "      <td>1.0</td>\n",
       "      <td>False</td>\n",
       "    </tr>\n",
       "    <tr>\n",
       "      <th>2434</th>\n",
       "      <td>0.0</td>\n",
       "      <td>49.0</td>\n",
       "      <td>0</td>\n",
       "      <td>0</td>\n",
       "      <td>1.0</td>\n",
       "      <td>Govt_job</td>\n",
       "      <td>1.0</td>\n",
       "      <td>117.34</td>\n",
       "      <td>21.6</td>\n",
       "      <td>0.0</td>\n",
       "      <td>False</td>\n",
       "    </tr>\n",
       "    <tr>\n",
       "      <th>664</th>\n",
       "      <td>1.0</td>\n",
       "      <td>56.0</td>\n",
       "      <td>0</td>\n",
       "      <td>0</td>\n",
       "      <td>1.0</td>\n",
       "      <td>Private</td>\n",
       "      <td>0.0</td>\n",
       "      <td>81.18</td>\n",
       "      <td>26.9</td>\n",
       "      <td>0.0</td>\n",
       "      <td>False</td>\n",
       "    </tr>\n",
       "    <tr>\n",
       "      <th>3239</th>\n",
       "      <td>0.0</td>\n",
       "      <td>7.0</td>\n",
       "      <td>0</td>\n",
       "      <td>0</td>\n",
       "      <td>0.0</td>\n",
       "      <td>children</td>\n",
       "      <td>0.0</td>\n",
       "      <td>73.27</td>\n",
       "      <td>19.5</td>\n",
       "      <td>0.0</td>\n",
       "      <td>False</td>\n",
       "    </tr>\n",
       "    <tr>\n",
       "      <th>3815</th>\n",
       "      <td>1.0</td>\n",
       "      <td>43.0</td>\n",
       "      <td>0</td>\n",
       "      <td>0</td>\n",
       "      <td>1.0</td>\n",
       "      <td>Govt_job</td>\n",
       "      <td>0.0</td>\n",
       "      <td>56.08</td>\n",
       "      <td>23.9</td>\n",
       "      <td>2.0</td>\n",
       "      <td>True</td>\n",
       "    </tr>\n",
       "  </tbody>\n",
       "</table>\n",
       "</div>"
      ],
      "text/plain": [
       "      gender   age  hypertension  heart_disease  ever_married work_type  \\\n",
       "1131     0.0  47.0             0              0           1.0   Private   \n",
       "3567     1.0  39.0             1              0           1.0   Private   \n",
       "245      0.0  14.0             0              0           0.0  children   \n",
       "2991     0.0  47.0             0              0           1.0   Private   \n",
       "3278     0.0  27.0             0              0           1.0   Private   \n",
       "4848     1.0  75.0             0              0           1.0  Govt_job   \n",
       "2434     0.0  49.0             0              0           1.0  Govt_job   \n",
       "664      1.0  56.0             0              0           1.0   Private   \n",
       "3239     0.0   7.0             0              0           0.0  children   \n",
       "3815     1.0  43.0             0              0           1.0  Govt_job   \n",
       "\n",
       "      Residence_type  avg_glucose_level   bmi  smoking_status  \\\n",
       "1131             0.0             195.04  45.5             0.0   \n",
       "3567             0.0              88.18  33.5             2.0   \n",
       "245              0.0              57.93  30.9             0.0   \n",
       "2991             1.0              74.63  45.3             0.0   \n",
       "3278             1.0             127.28  23.4             2.0   \n",
       "4848             0.0              93.93  24.4             1.0   \n",
       "2434             1.0             117.34  21.6             0.0   \n",
       "664              0.0              81.18  26.9             0.0   \n",
       "3239             0.0              73.27  19.5             0.0   \n",
       "3815             0.0              56.08  23.9             2.0   \n",
       "\n",
       "      smoking_status_was_missing  \n",
       "1131                       False  \n",
       "3567                       False  \n",
       "245                        False  \n",
       "2991                       False  \n",
       "3278                        True  \n",
       "4848                       False  \n",
       "2434                       False  \n",
       "664                        False  \n",
       "3239                       False  \n",
       "3815                        True  "
      ]
     },
     "execution_count": 39,
     "metadata": {},
     "output_type": "execute_result"
    }
   ],
   "source": [
    "X_train.sample(10, random_state=1)"
   ]
  },
  {
   "cell_type": "markdown",
   "id": "outdoor-token",
   "metadata": {},
   "source": [
    "## _One-Hot Encoding_\n",
    "\n",
    "Unfortunately we can't use ordinal encoding for our last categorical column `work_type`: Assigning numerical values to nominal variables' values would create a fictional ranking between them, which could lead to wrong assumptions in the model and thus poor performance.\n",
    "\n",
    "In this case, **_one-hot encoding_** can be applied to _binarize_ the nominal data: For each possible category (e.g. _red, green_ and _blue_) a new binary column (e.g. _is-red, is-green_ and _is-blue_) is created.\n",
    "\n",
    "This is demonstrated in the following example:"
   ]
  },
  {
   "cell_type": "code",
   "execution_count": 40,
   "id": "current-invitation",
   "metadata": {
    "scrolled": true
   },
   "outputs": [
    {
     "data": {
      "text/html": [
       "<div>\n",
       "<style scoped>\n",
       "    .dataframe tbody tr th:only-of-type {\n",
       "        vertical-align: middle;\n",
       "    }\n",
       "\n",
       "    .dataframe tbody tr th {\n",
       "        vertical-align: top;\n",
       "    }\n",
       "\n",
       "    .dataframe thead th {\n",
       "        text-align: right;\n",
       "    }\n",
       "</style>\n",
       "<table border=\"1\" class=\"dataframe\">\n",
       "  <thead>\n",
       "    <tr style=\"text-align: right;\">\n",
       "      <th></th>\n",
       "      <th>favorite_color</th>\n",
       "    </tr>\n",
       "  </thead>\n",
       "  <tbody>\n",
       "    <tr>\n",
       "      <th>0</th>\n",
       "      <td>blue</td>\n",
       "    </tr>\n",
       "    <tr>\n",
       "      <th>1</th>\n",
       "      <td>red</td>\n",
       "    </tr>\n",
       "    <tr>\n",
       "      <th>2</th>\n",
       "      <td>blue</td>\n",
       "    </tr>\n",
       "    <tr>\n",
       "      <th>3</th>\n",
       "      <td>green</td>\n",
       "    </tr>\n",
       "    <tr>\n",
       "      <th>4</th>\n",
       "      <td>red</td>\n",
       "    </tr>\n",
       "  </tbody>\n",
       "</table>\n",
       "</div>"
      ],
      "text/plain": [
       "  favorite_color\n",
       "0           blue\n",
       "1            red\n",
       "2           blue\n",
       "3          green\n",
       "4            red"
      ]
     },
     "execution_count": 40,
     "metadata": {},
     "output_type": "execute_result"
    }
   ],
   "source": [
    "example_data = pd.DataFrame({'favorite_color': ['blue', 'red', 'blue', 'green', 'red']})\n",
    "example_data"
   ]
  },
  {
   "cell_type": "markdown",
   "id": "stopped-justice",
   "metadata": {},
   "source": [
    "We can now use _scikit-learn_'s `OneHotEncoder` to create _dummy variables_ from the `favorite_color` column:\n",
    "\n",
    "N.B.: _pandas_ provides a `sparse`-data-structure for efficiently storing data with lots of zeroes. We don't want the matrix to be _compressed_, since we'll be adding it to our dataframe - hence the `False`-parameter."
   ]
  },
  {
   "cell_type": "code",
   "execution_count": 41,
   "id": "little-token",
   "metadata": {},
   "outputs": [],
   "source": [
    "from sklearn.preprocessing import OneHotEncoder"
   ]
  },
  {
   "cell_type": "code",
   "execution_count": 42,
   "id": "according-experiment",
   "metadata": {
    "scrolled": true
   },
   "outputs": [
    {
     "data": {
      "text/html": [
       "<div>\n",
       "<style scoped>\n",
       "    .dataframe tbody tr th:only-of-type {\n",
       "        vertical-align: middle;\n",
       "    }\n",
       "\n",
       "    .dataframe tbody tr th {\n",
       "        vertical-align: top;\n",
       "    }\n",
       "\n",
       "    .dataframe thead th {\n",
       "        text-align: right;\n",
       "    }\n",
       "</style>\n",
       "<table border=\"1\" class=\"dataframe\">\n",
       "  <thead>\n",
       "    <tr style=\"text-align: right;\">\n",
       "      <th></th>\n",
       "      <th>x0_blue</th>\n",
       "      <th>x0_green</th>\n",
       "      <th>x0_red</th>\n",
       "    </tr>\n",
       "  </thead>\n",
       "  <tbody>\n",
       "    <tr>\n",
       "      <th>0</th>\n",
       "      <td>1.0</td>\n",
       "      <td>0.0</td>\n",
       "      <td>0.0</td>\n",
       "    </tr>\n",
       "    <tr>\n",
       "      <th>1</th>\n",
       "      <td>0.0</td>\n",
       "      <td>0.0</td>\n",
       "      <td>1.0</td>\n",
       "    </tr>\n",
       "    <tr>\n",
       "      <th>2</th>\n",
       "      <td>1.0</td>\n",
       "      <td>0.0</td>\n",
       "      <td>0.0</td>\n",
       "    </tr>\n",
       "    <tr>\n",
       "      <th>3</th>\n",
       "      <td>0.0</td>\n",
       "      <td>1.0</td>\n",
       "      <td>0.0</td>\n",
       "    </tr>\n",
       "    <tr>\n",
       "      <th>4</th>\n",
       "      <td>0.0</td>\n",
       "      <td>0.0</td>\n",
       "      <td>1.0</td>\n",
       "    </tr>\n",
       "  </tbody>\n",
       "</table>\n",
       "</div>"
      ],
      "text/plain": [
       "   x0_blue  x0_green  x0_red\n",
       "0      1.0       0.0     0.0\n",
       "1      0.0       0.0     1.0\n",
       "2      1.0       0.0     0.0\n",
       "3      0.0       1.0     0.0\n",
       "4      0.0       0.0     1.0"
      ]
     },
     "execution_count": 42,
     "metadata": {},
     "output_type": "execute_result"
    }
   ],
   "source": [
    "one_hot_encoder = OneHotEncoder(sparse=False)\n",
    "one_hot_raw = one_hot_encoder.fit_transform(example_data[['favorite_color']])\n",
    "\n",
    "pd.DataFrame(one_hot_raw, columns=one_hot_encoder.get_feature_names())"
   ]
  },
  {
   "cell_type": "markdown",
   "id": "swedish-mirror",
   "metadata": {},
   "source": [
    "Let's now apply one-hot-encoding to our `work_type`-column. Note that we drop the original column, since we don't need it anymore."
   ]
  },
  {
   "cell_type": "code",
   "execution_count": 43,
   "id": "coated-official",
   "metadata": {},
   "outputs": [],
   "source": [
    "one_hot_encoder = OneHotEncoder(sparse=False)\n",
    "\n",
    "one_hot_raw = pd.DataFrame(one_hot_encoder.fit_transform(X_train[['work_type']]), columns=one_hot_encoder.get_feature_names())\n",
    "# We need to re-set the original index, since it gets lost in the process.\n",
    "one_hot_raw.index = X_train.index\n",
    "X_train = pd.concat([X_train, one_hot_raw], axis=1)\n",
    "X_train.drop(['work_type'], axis=1, inplace=True)\n",
    "\n",
    "one_hot_raw = pd.DataFrame(one_hot_encoder.transform(X_test[['work_type']]), columns=one_hot_encoder.get_feature_names())\n",
    "one_hot_raw.index = X_test.index\n",
    "X_test = pd.concat([X_test, one_hot_raw], axis=1)\n",
    "X_test.drop(['work_type'], axis=1, inplace=True)"
   ]
  },
  {
   "cell_type": "markdown",
   "id": "seventh-carter",
   "metadata": {},
   "source": [
    "Let's see how our final, processed data looks like:"
   ]
  },
  {
   "cell_type": "code",
   "execution_count": 44,
   "id": "neural-snapshot",
   "metadata": {},
   "outputs": [
    {
     "data": {
      "text/html": [
       "<div>\n",
       "<style scoped>\n",
       "    .dataframe tbody tr th:only-of-type {\n",
       "        vertical-align: middle;\n",
       "    }\n",
       "\n",
       "    .dataframe tbody tr th {\n",
       "        vertical-align: top;\n",
       "    }\n",
       "\n",
       "    .dataframe thead th {\n",
       "        text-align: right;\n",
       "    }\n",
       "</style>\n",
       "<table border=\"1\" class=\"dataframe\">\n",
       "  <thead>\n",
       "    <tr style=\"text-align: right;\">\n",
       "      <th></th>\n",
       "      <th>gender</th>\n",
       "      <th>age</th>\n",
       "      <th>hypertension</th>\n",
       "      <th>heart_disease</th>\n",
       "      <th>ever_married</th>\n",
       "      <th>Residence_type</th>\n",
       "      <th>avg_glucose_level</th>\n",
       "      <th>bmi</th>\n",
       "      <th>smoking_status</th>\n",
       "      <th>smoking_status_was_missing</th>\n",
       "      <th>x0_Govt_job</th>\n",
       "      <th>x0_Never_worked</th>\n",
       "      <th>x0_Private</th>\n",
       "      <th>x0_Self-employed</th>\n",
       "      <th>x0_children</th>\n",
       "    </tr>\n",
       "  </thead>\n",
       "  <tbody>\n",
       "    <tr>\n",
       "      <th>1131</th>\n",
       "      <td>0.0</td>\n",
       "      <td>47.0</td>\n",
       "      <td>0</td>\n",
       "      <td>0</td>\n",
       "      <td>1.0</td>\n",
       "      <td>0.0</td>\n",
       "      <td>195.04</td>\n",
       "      <td>45.5</td>\n",
       "      <td>0.0</td>\n",
       "      <td>False</td>\n",
       "      <td>0.0</td>\n",
       "      <td>0.0</td>\n",
       "      <td>1.0</td>\n",
       "      <td>0.0</td>\n",
       "      <td>0.0</td>\n",
       "    </tr>\n",
       "    <tr>\n",
       "      <th>3567</th>\n",
       "      <td>1.0</td>\n",
       "      <td>39.0</td>\n",
       "      <td>1</td>\n",
       "      <td>0</td>\n",
       "      <td>1.0</td>\n",
       "      <td>0.0</td>\n",
       "      <td>88.18</td>\n",
       "      <td>33.5</td>\n",
       "      <td>2.0</td>\n",
       "      <td>False</td>\n",
       "      <td>0.0</td>\n",
       "      <td>0.0</td>\n",
       "      <td>1.0</td>\n",
       "      <td>0.0</td>\n",
       "      <td>0.0</td>\n",
       "    </tr>\n",
       "    <tr>\n",
       "      <th>245</th>\n",
       "      <td>0.0</td>\n",
       "      <td>14.0</td>\n",
       "      <td>0</td>\n",
       "      <td>0</td>\n",
       "      <td>0.0</td>\n",
       "      <td>0.0</td>\n",
       "      <td>57.93</td>\n",
       "      <td>30.9</td>\n",
       "      <td>0.0</td>\n",
       "      <td>False</td>\n",
       "      <td>0.0</td>\n",
       "      <td>0.0</td>\n",
       "      <td>0.0</td>\n",
       "      <td>0.0</td>\n",
       "      <td>1.0</td>\n",
       "    </tr>\n",
       "    <tr>\n",
       "      <th>2991</th>\n",
       "      <td>0.0</td>\n",
       "      <td>47.0</td>\n",
       "      <td>0</td>\n",
       "      <td>0</td>\n",
       "      <td>1.0</td>\n",
       "      <td>1.0</td>\n",
       "      <td>74.63</td>\n",
       "      <td>45.3</td>\n",
       "      <td>0.0</td>\n",
       "      <td>False</td>\n",
       "      <td>0.0</td>\n",
       "      <td>0.0</td>\n",
       "      <td>1.0</td>\n",
       "      <td>0.0</td>\n",
       "      <td>0.0</td>\n",
       "    </tr>\n",
       "    <tr>\n",
       "      <th>3278</th>\n",
       "      <td>0.0</td>\n",
       "      <td>27.0</td>\n",
       "      <td>0</td>\n",
       "      <td>0</td>\n",
       "      <td>1.0</td>\n",
       "      <td>1.0</td>\n",
       "      <td>127.28</td>\n",
       "      <td>23.4</td>\n",
       "      <td>2.0</td>\n",
       "      <td>True</td>\n",
       "      <td>0.0</td>\n",
       "      <td>0.0</td>\n",
       "      <td>1.0</td>\n",
       "      <td>0.0</td>\n",
       "      <td>0.0</td>\n",
       "    </tr>\n",
       "    <tr>\n",
       "      <th>4848</th>\n",
       "      <td>1.0</td>\n",
       "      <td>75.0</td>\n",
       "      <td>0</td>\n",
       "      <td>0</td>\n",
       "      <td>1.0</td>\n",
       "      <td>0.0</td>\n",
       "      <td>93.93</td>\n",
       "      <td>24.4</td>\n",
       "      <td>1.0</td>\n",
       "      <td>False</td>\n",
       "      <td>1.0</td>\n",
       "      <td>0.0</td>\n",
       "      <td>0.0</td>\n",
       "      <td>0.0</td>\n",
       "      <td>0.0</td>\n",
       "    </tr>\n",
       "    <tr>\n",
       "      <th>2434</th>\n",
       "      <td>0.0</td>\n",
       "      <td>49.0</td>\n",
       "      <td>0</td>\n",
       "      <td>0</td>\n",
       "      <td>1.0</td>\n",
       "      <td>1.0</td>\n",
       "      <td>117.34</td>\n",
       "      <td>21.6</td>\n",
       "      <td>0.0</td>\n",
       "      <td>False</td>\n",
       "      <td>1.0</td>\n",
       "      <td>0.0</td>\n",
       "      <td>0.0</td>\n",
       "      <td>0.0</td>\n",
       "      <td>0.0</td>\n",
       "    </tr>\n",
       "    <tr>\n",
       "      <th>664</th>\n",
       "      <td>1.0</td>\n",
       "      <td>56.0</td>\n",
       "      <td>0</td>\n",
       "      <td>0</td>\n",
       "      <td>1.0</td>\n",
       "      <td>0.0</td>\n",
       "      <td>81.18</td>\n",
       "      <td>26.9</td>\n",
       "      <td>0.0</td>\n",
       "      <td>False</td>\n",
       "      <td>0.0</td>\n",
       "      <td>0.0</td>\n",
       "      <td>1.0</td>\n",
       "      <td>0.0</td>\n",
       "      <td>0.0</td>\n",
       "    </tr>\n",
       "    <tr>\n",
       "      <th>3239</th>\n",
       "      <td>0.0</td>\n",
       "      <td>7.0</td>\n",
       "      <td>0</td>\n",
       "      <td>0</td>\n",
       "      <td>0.0</td>\n",
       "      <td>0.0</td>\n",
       "      <td>73.27</td>\n",
       "      <td>19.5</td>\n",
       "      <td>0.0</td>\n",
       "      <td>False</td>\n",
       "      <td>0.0</td>\n",
       "      <td>0.0</td>\n",
       "      <td>0.0</td>\n",
       "      <td>0.0</td>\n",
       "      <td>1.0</td>\n",
       "    </tr>\n",
       "    <tr>\n",
       "      <th>3815</th>\n",
       "      <td>1.0</td>\n",
       "      <td>43.0</td>\n",
       "      <td>0</td>\n",
       "      <td>0</td>\n",
       "      <td>1.0</td>\n",
       "      <td>0.0</td>\n",
       "      <td>56.08</td>\n",
       "      <td>23.9</td>\n",
       "      <td>2.0</td>\n",
       "      <td>True</td>\n",
       "      <td>1.0</td>\n",
       "      <td>0.0</td>\n",
       "      <td>0.0</td>\n",
       "      <td>0.0</td>\n",
       "      <td>0.0</td>\n",
       "    </tr>\n",
       "  </tbody>\n",
       "</table>\n",
       "</div>"
      ],
      "text/plain": [
       "      gender   age  hypertension  heart_disease  ever_married  Residence_type  \\\n",
       "1131     0.0  47.0             0              0           1.0             0.0   \n",
       "3567     1.0  39.0             1              0           1.0             0.0   \n",
       "245      0.0  14.0             0              0           0.0             0.0   \n",
       "2991     0.0  47.0             0              0           1.0             1.0   \n",
       "3278     0.0  27.0             0              0           1.0             1.0   \n",
       "4848     1.0  75.0             0              0           1.0             0.0   \n",
       "2434     0.0  49.0             0              0           1.0             1.0   \n",
       "664      1.0  56.0             0              0           1.0             0.0   \n",
       "3239     0.0   7.0             0              0           0.0             0.0   \n",
       "3815     1.0  43.0             0              0           1.0             0.0   \n",
       "\n",
       "      avg_glucose_level   bmi  smoking_status  smoking_status_was_missing  \\\n",
       "1131             195.04  45.5             0.0                       False   \n",
       "3567              88.18  33.5             2.0                       False   \n",
       "245               57.93  30.9             0.0                       False   \n",
       "2991              74.63  45.3             0.0                       False   \n",
       "3278             127.28  23.4             2.0                        True   \n",
       "4848              93.93  24.4             1.0                       False   \n",
       "2434             117.34  21.6             0.0                       False   \n",
       "664               81.18  26.9             0.0                       False   \n",
       "3239              73.27  19.5             0.0                       False   \n",
       "3815              56.08  23.9             2.0                        True   \n",
       "\n",
       "      x0_Govt_job  x0_Never_worked  x0_Private  x0_Self-employed  x0_children  \n",
       "1131          0.0              0.0         1.0               0.0          0.0  \n",
       "3567          0.0              0.0         1.0               0.0          0.0  \n",
       "245           0.0              0.0         0.0               0.0          1.0  \n",
       "2991          0.0              0.0         1.0               0.0          0.0  \n",
       "3278          0.0              0.0         1.0               0.0          0.0  \n",
       "4848          1.0              0.0         0.0               0.0          0.0  \n",
       "2434          1.0              0.0         0.0               0.0          0.0  \n",
       "664           0.0              0.0         1.0               0.0          0.0  \n",
       "3239          0.0              0.0         0.0               0.0          1.0  \n",
       "3815          1.0              0.0         0.0               0.0          0.0  "
      ]
     },
     "execution_count": 44,
     "metadata": {},
     "output_type": "execute_result"
    }
   ],
   "source": [
    "X_train.sample(10, random_state=1)"
   ]
  },
  {
   "cell_type": "markdown",
   "id": "loose-compound",
   "metadata": {},
   "source": [
    "## Finally - Our First Model\n",
    "\n",
    "Now that we prepared our data we can finally train a model..."
   ]
  },
  {
   "cell_type": "code",
   "execution_count": 45,
   "id": "proper-following",
   "metadata": {},
   "outputs": [
    {
     "data": {
      "text/plain": [
       "RandomForestClassifier(n_estimators=300, random_state=9)"
      ]
     },
     "execution_count": 45,
     "metadata": {},
     "output_type": "execute_result"
    }
   ],
   "source": [
    "rf_model = RandomForestClassifier(random_state=my_random_state, n_estimators=300)\n",
    "rf_model.fit(X_train, y_train)"
   ]
  },
  {
   "cell_type": "markdown",
   "id": "surrounded-mortgage",
   "metadata": {},
   "source": [
    "...and see how it performs:"
   ]
  },
  {
   "cell_type": "code",
   "execution_count": 46,
   "id": "functioning-victorian",
   "metadata": {},
   "outputs": [],
   "source": [
    "from sklearn import metrics"
   ]
  },
  {
   "cell_type": "code",
   "execution_count": 47,
   "id": "virgin-worthy",
   "metadata": {
    "scrolled": true
   },
   "outputs": [
    {
     "name": "stdout",
     "output_type": "stream",
     "text": [
      "Accuracy: 94.81%\n"
     ]
    }
   ],
   "source": [
    "y_pred = rf_model.predict(X_test)\n",
    "\n",
    "print('Accuracy: {:.2%}'.format(metrics.accuracy_score(y_test, y_pred)))"
   ]
  },
  {
   "cell_type": "markdown",
   "id": "detailed-sending",
   "metadata": {},
   "source": [
    "Fortunately you know better by now, that our work here is not done yet, just becaue we reached amazing accuracy... let's take a look at the other metrics:"
   ]
  },
  {
   "cell_type": "code",
   "execution_count": 48,
   "id": "furnished-devices",
   "metadata": {
    "scrolled": true
   },
   "outputs": [
    {
     "name": "stdout",
     "output_type": "stream",
     "text": [
      "Precision: 0.00%\n",
      "Recall: 0.00%\n",
      "F1: 0.00%\n"
     ]
    }
   ],
   "source": [
    "print('Precision: {:.2%}'.format(metrics.precision_score(y_test, y_pred)))\n",
    "print('Recall: {:.2%}'.format(metrics.recall_score(y_test, y_pred)))\n",
    "print('F1: {:.2%}'.format(metrics.f1_score(y_test, y_pred)))"
   ]
  },
  {
   "cell_type": "markdown",
   "id": "banned-arrangement",
   "metadata": {},
   "source": [
    "And there we have it: Our model simply labels everything as _not a stroke_... but why is the performance so bad?"
   ]
  },
  {
   "cell_type": "markdown",
   "id": "distinct-composite",
   "metadata": {},
   "source": [
    "# Dealing With Imbalance"
   ]
  },
  {
   "cell_type": "markdown",
   "id": "productive-reminder",
   "metadata": {},
   "source": [
    "To answer this question, let's revisit the label distribution of our dataset:"
   ]
  },
  {
   "cell_type": "code",
   "execution_count": 49,
   "id": "owned-geography",
   "metadata": {
    "scrolled": true
   },
   "outputs": [
    {
     "data": {
      "text/plain": [
       "<AxesSubplot:ylabel='stroke'>"
      ]
     },
     "execution_count": 49,
     "metadata": {},
     "output_type": "execute_result"
    },
    {
     "data": {
      "image/png": "[encoded data removed]",
      "text/plain": [
       "<Figure size 432x288 with 1 Axes>"
      ]
     },
     "metadata": {},
     "output_type": "display_data"
    }
   ],
   "source": [
    "y.value_counts().plot(kind='pie', colors=palette_stroke)"
   ]
  },
  {
   "cell_type": "code",
   "execution_count": 50,
   "id": "limiting-government",
   "metadata": {
    "scrolled": true
   },
   "outputs": [
    {
     "data": {
      "text/plain": [
       "0    4860\n",
       "1     249\n",
       "Name: stroke, dtype: int64"
      ]
     },
     "execution_count": 50,
     "metadata": {},
     "output_type": "execute_result"
    }
   ],
   "source": [
    "y.value_counts()"
   ]
  },
  {
   "cell_type": "markdown",
   "id": "attractive-monitoring",
   "metadata": {},
   "source": [
    "What we're dealing with here is a severely **_imbalanced dataset_**, as described by _Jason Brownlee_ from _Machine Learning Mastery_:\n",
    "\n",
    "> Imbalanced datasets are those where there is a severe skew in the class distribution, such as 1:100 or 1:1000 examples in the minority class to the majority class.\n",
    ">This bias in the training dataset can influence many machine learning algorithms, leading some to ignore the minority class entirely. This is a problem as it is typically the minority class on which predictions are most important.\n",
    "\n",
    "But how can we deal with the problematic imbalance? An obvious prerequisite, that we already discussed and applied is using alternative metrics: If we relied on _accuracy_, we wouldn't evem have found out about our problem. _Brownlee_ suggests two alternative approaches:\n",
    "\n",
    ">One approach to addressing the problem of class imbalance is to randomly resample the training dataset. The two main approaches to randomly resampling an imbalanced dataset are to delete examples from the majority class, called undersampling, and to duplicate examples from the minority class, called oversampling.\n",
    "\n",
    "So for now, we have two easy options (we'll take a look at a more sophisticated approach later) for dealing with the imbalance:\n",
    "\n",
    "* For **_Random Undersampling_** we randomly delete some observations from the **_majority class_**.\n",
    "* For **_Random Oversampling_** we randomly duplicate some observations from the **_minority class_**."
   ]
  },
  {
   "cell_type": "markdown",
   "id": "brutal-services",
   "metadata": {},
   "source": [
    "## _Random Undersampling_\n",
    "\n",
    "Let's try out the first approach: Luckily, there is _Imbalanced-learn_ (imported as `imblearn`) - an open source library providing tools when dealing with classification with imbalanced classes."
   ]
  },
  {
   "cell_type": "code",
   "execution_count": 51,
   "id": "photographic-rolling",
   "metadata": {},
   "outputs": [],
   "source": [
    "from imblearn.under_sampling import RandomUnderSampler"
   ]
  },
  {
   "cell_type": "markdown",
   "id": "royal-crazy",
   "metadata": {},
   "source": [
    "By parameterizing `sampling_strategy` with $1$, we _randomly undersample_ the majority class to achieve a 1:1 ratio to the minority class. E.g. by using $0.5$ the minority class would have _half_ the number of samples as the majority class.\n",
    "\n",
    "Note, that we **only apply the resampling on the _training_ data**, since we only want to influence the fit of the model by giving it a better class distribution for learning. Since we expect _real-world_-data to have the same distribution as our dataset (i.e. ~5% of people risk suffering from a stroke), resampling the test data would create an unrealistic scenario giving us no insights about our model's real performance."
   ]
  },
  {
   "cell_type": "code",
   "execution_count": 52,
   "id": "decimal-begin",
   "metadata": {},
   "outputs": [],
   "source": [
    "undersampler = RandomUnderSampler(sampling_strategy=1, random_state=my_random_state)\n",
    "X_under, y_under = undersampler.fit_resample(X_train, y_train)"
   ]
  },
  {
   "cell_type": "code",
   "execution_count": 53,
   "id": "tropical-neutral",
   "metadata": {
    "scrolled": false
   },
   "outputs": [
    {
     "data": {
      "text/plain": [
       "0    199\n",
       "1    199\n",
       "Name: stroke, dtype: int64"
      ]
     },
     "execution_count": 53,
     "metadata": {},
     "output_type": "execute_result"
    }
   ],
   "source": [
    "y_under.value_counts()"
   ]
  },
  {
   "cell_type": "code",
   "execution_count": null,
   "id": "antique-shoulder",
   "metadata": {},
   "outputs": [],
   "source": [
    "rf_model = RandomForestClassifier(random_state=my_random_state)\n",
    "rf_model.fit(X_under, y_under)\n",
    "\n",
    "y_pred = rf_model.predict(X_test)\n",
    "\n",
    "print('Accuracy: {:.2%}'.format(metrics.accuracy_score(y_test, y_pred)))\n",
    "print('Precision: {:.2%}'.format(metrics.precision_score(y_test, y_pred)))\n",
    "print('Recall: {:.2%}'.format(metrics.recall_score(y_test, y_pred)))\n",
    "print('F1: {:.2%}'.format(metrics.f1_score(y_test, y_pred)))"
   ]
  },
  {
   "cell_type": "markdown",
   "id": "premier-mineral",
   "metadata": {},
   "source": [
    "Not that bad - while our new model seems to be overeager to classify observations as strokes (resulting in lots of _false positives_ which results in low _precision_), it's still preferable to simply saying no one is at risk of suffering from it.\n",
    "\n",
    "N.B.: Of course it would make sense to use _cross-validation_ - unfortunately things would get more complicated in this scenario. Thus we're skipping it for didactic reasons."
   ]
  },
  {
   "cell_type": "markdown",
   "id": "noted-leader",
   "metadata": {},
   "source": [
    "## _Random Oversampling_"
   ]
  },
  {
   "cell_type": "markdown",
   "id": "elegant-saying",
   "metadata": {},
   "source": [
    "The _opposite_ of _undersampling_ the majority class is _oversampling_ the minority class: For this, random copies of existing observations from the minority class are created until a desired distribution is reached.\n",
    "\n",
    "We can also achieve this using `imblearn`:"
   ]
  },
  {
   "cell_type": "code",
   "execution_count": null,
   "id": "optional-china",
   "metadata": {},
   "outputs": [],
   "source": [
    "from imblearn.over_sampling import RandomOverSampler"
   ]
  },
  {
   "cell_type": "code",
   "execution_count": null,
   "id": "executed-controversy",
   "metadata": {},
   "outputs": [],
   "source": [
    "oversampler = RandomOverSampler(sampling_strategy=1, random_state=my_random_state)\n",
    "X_over, y_over = oversampler.fit_resample(X_train, y_train)"
   ]
  },
  {
   "cell_type": "code",
   "execution_count": null,
   "id": "instant-attention",
   "metadata": {
    "scrolled": false
   },
   "outputs": [],
   "source": [
    "y_over.value_counts()"
   ]
  },
  {
   "cell_type": "markdown",
   "id": "assigned-wheel",
   "metadata": {},
   "source": [
    "Before we evaluate this approach: What do you think will happen? Is it a good idea to duplicate the same samples over and over?"
   ]
  },
  {
   "cell_type": "code",
   "execution_count": null,
   "id": "national-branch",
   "metadata": {
    "scrolled": true
   },
   "outputs": [],
   "source": [
    "rf_model = RandomForestClassifier(random_state=my_random_state)\n",
    "rf_model.fit(X_over, y_over)\n",
    "\n",
    "y_pred = rf_model.predict(X_test)\n",
    "\n",
    "print('Accuracy: {:.2%}'.format(metrics.accuracy_score(y_test, y_pred)))\n",
    "print('Precision: {:.2%}'.format(metrics.precision_score(y_test, y_pred)))\n",
    "print('Recall: {:.2%}'.format(metrics.recall_score(y_test, y_pred)))\n",
    "print('F1: {:.2%}'.format(metrics.f1_score(y_test, y_pred)))"
   ]
  },
  {
   "cell_type": "markdown",
   "id": "potential-passion",
   "metadata": {},
   "source": [
    "As we see, our performance got even worse with the high over-sampling rate. A possible reason is described by Fernández et al. in _Learning from Imbalanced Data Sets_:\n",
    "\n",
    "> … the random oversampling may increase the likelihood of occurring overfitting, since it makes exact copies of the minority class examples. In this way, a symbolic classifier, for instance, might construct rules that are apparently accurate, but actually cover one replicated example.\n",
    "\n",
    "What about a combination of both approaches? We could try only slighly oversampling our stroke cases and then use undersampling to balance the class distribution:"
   ]
  },
  {
   "cell_type": "code",
   "execution_count": null,
   "id": "classical-weekend",
   "metadata": {},
   "outputs": [],
   "source": [
    "oversampler = RandomOverSampler(sampling_strategy=0.1, random_state=my_random_state)\n",
    "X_over, y_over = oversampler.fit_resample(X_train, y_train)"
   ]
  },
  {
   "cell_type": "code",
   "execution_count": null,
   "id": "rolled-creek",
   "metadata": {},
   "outputs": [],
   "source": [
    "y_over.value_counts()"
   ]
  },
  {
   "cell_type": "code",
   "execution_count": null,
   "id": "closed-opera",
   "metadata": {},
   "outputs": [],
   "source": [
    "undersampler = RandomUnderSampler(sampling_strategy=1, random_state=my_random_state)"
   ]
  },
  {
   "cell_type": "code",
   "execution_count": null,
   "id": "cubic-reception",
   "metadata": {},
   "outputs": [],
   "source": [
    "X_over, y_over = undersampler.fit_resample(X_over, y_over)"
   ]
  },
  {
   "cell_type": "code",
   "execution_count": null,
   "id": "roman-mediterranean",
   "metadata": {
    "scrolled": false
   },
   "outputs": [],
   "source": [
    "y_over.value_counts()"
   ]
  },
  {
   "cell_type": "code",
   "execution_count": null,
   "id": "verified-circular",
   "metadata": {},
   "outputs": [],
   "source": [
    "rf_model = RandomForestClassifier(random_state=my_random_state)\n",
    "rf_model.fit(X_over, y_over)\n",
    "\n",
    "y_pred = rf_model.predict(X_test)\n",
    "\n",
    "print('Accuracy: {:.2%}'.format(metrics.accuracy_score(y_test, y_pred)))\n",
    "print('Precision: {:.2%}'.format(metrics.precision_score(y_test, y_pred)))\n",
    "print('Recall: {:.2%}'.format(metrics.recall_score(y_test, y_pred)))\n",
    "print('F1: {:.2%}'.format(metrics.f1_score(y_test, y_pred)))"
   ]
  },
  {
   "cell_type": "markdown",
   "id": "fossil-currency",
   "metadata": {},
   "source": [
    "## _SMOTE_\n",
    "\n",
    "While balancing our class distribution by randomly duplicating samples and improving our performance (in combination with undersampling), oversampling didn't add any new information to our model.\n",
    "\n",
    "A possible improvement to duplicating random observations from the minority class is synthesizing (i.e. creating new data artificially) new samples. _**S**ynthetic **M**inority **O**versampling **TE**chnique_, or _SMOTE_, is a widely used approach for this data augmentation procedure. The technique was proposed by Chawla et al. in their 2002 paper:\n",
    "\n",
    "> We propose an over-sampling approach in which the minority class is over-sampled by creating “synthetic” examples rather than by over-sampling with replacement. [...] The minority class is over-sampled by taking each minority class sample and introducing synthetic examples along the line segments joining any/all of the k minority class nearest neighbors. [...] Synthetic samples are generated in the following way: Take the diﬀerence between the feature vector (sample) under consideration and its nearest neighbor. Multiply this diﬀerence by a random number between 0 and 1, and add it to the feature vector under consideration. This causes the selection of a random point along the line segment between two speciﬁc features.\n",
    "\n",
    "\n",
    "The following figure illustrates the technique:\n",
    "\n",
    "![](images/smote.png)"
   ]
  },
  {
   "cell_type": "markdown",
   "id": "speaking-afternoon",
   "metadata": {},
   "source": [
    "Before we try out _SMOTE_, let's reflect on the meaning of _nearest neighbor_ for a moment. Our dataset contains variables with various ranges, such as the age, the _BMI_ and the average glucose level:"
   ]
  },
  {
   "cell_type": "code",
   "execution_count": null,
   "id": "willing-piano",
   "metadata": {},
   "outputs": [],
   "source": [
    "X_train.sample(5, random_state=my_random_state).loc[:,['age', 'bmi', 'avg_glucose_level']]"
   ]
  },
  {
   "cell_type": "code",
   "execution_count": null,
   "id": "chubby-horse",
   "metadata": {},
   "outputs": [],
   "source": [
    "sns.kdeplot(X_train['age'])\n",
    "sns.kdeplot(X_train['bmi'])\n",
    "sns.kdeplot(X_train['avg_glucose_level'])\n",
    "\n",
    "plt.xlabel(None)\n",
    "plt.legend(title='Feature', loc='upper right', labels=['age', 'bmi', 'avg_glucose_level'])"
   ]
  },
  {
   "cell_type": "markdown",
   "id": "stuck-helen",
   "metadata": {},
   "source": [
    "Since calculating nearest neighbors relies on the _Euclidean distance_, we risk that features with large ranges (such as the glucose level) will dominate the calculation.\n",
    "\n",
    "We can apply _standardization_ to handle this problem: this involves rescaling the distribution of values so that the _mean_ of observed values is 0 and the _standard deviation_ is 1.\n",
    "\n",
    "This can be easily achieved using _scikit-learn_'s `StandardScaler` as follows:"
   ]
  },
  {
   "cell_type": "code",
   "execution_count": null,
   "id": "permanent-england",
   "metadata": {},
   "outputs": [],
   "source": [
    "from sklearn.preprocessing import StandardScaler"
   ]
  },
  {
   "cell_type": "code",
   "execution_count": null,
   "id": "dirty-monte",
   "metadata": {},
   "outputs": [],
   "source": [
    "scaler = StandardScaler()\n",
    "\n",
    "X_train_scaled = pd.DataFrame(scaler.fit_transform(X_train))\n",
    "X_train_scaled.index = X_train.index\n",
    "X_train_scaled.columns = X_train.columns\n",
    "\n",
    "X_test_scaled = pd.DataFrame(scaler.transform(X_test))\n",
    "X_test_scaled.index = X_test.index\n",
    "X_test_scaled.columns = X_test.columns"
   ]
  },
  {
   "cell_type": "markdown",
   "id": "spoken-skill",
   "metadata": {},
   "source": [
    "The standardized data now looks like this:"
   ]
  },
  {
   "cell_type": "code",
   "execution_count": null,
   "id": "wooden-louisiana",
   "metadata": {
    "scrolled": true
   },
   "outputs": [],
   "source": [
    "X_train_scaled.sample(5, random_state=my_random_state).loc[:,['age', 'bmi', 'avg_glucose_level']]"
   ]
  },
  {
   "cell_type": "code",
   "execution_count": null,
   "id": "asian-retention",
   "metadata": {
    "scrolled": true
   },
   "outputs": [],
   "source": [
    "sns.kdeplot(X_train_scaled['age'])\n",
    "sns.kdeplot(X_train_scaled['bmi'])\n",
    "sns.kdeplot(X_train_scaled['avg_glucose_level'])\n",
    "\n",
    "plt.xlabel(None)\n",
    "plt.legend(title='Feature', loc='upper right', labels=['age', 'bmi', 'avg_glucose_level'])"
   ]
  },
  {
   "cell_type": "markdown",
   "id": "fuzzy-ottawa",
   "metadata": {},
   "source": [
    "We can now use _SMOTE_, which is also included in the `imblearn` library. We'll apply the same strategy as before and combine slight oversampling (using _SMOTE_) with random undersampling:\n",
    "\n",
    "N.B.: Since _SMOTE_ is originally designed for numerical data, we'll be using `SMOTENC` - _**S**ynthetic **M**inority **O**ver-sampling **TE**chnique - (for) **N**ominal And **C**ontinuous Data_."
   ]
  },
  {
   "cell_type": "code",
   "execution_count": null,
   "id": "clear-pierce",
   "metadata": {},
   "outputs": [],
   "source": [
    "from imblearn.over_sampling import SMOTENC"
   ]
  },
  {
   "cell_type": "code",
   "execution_count": null,
   "id": "alive-brass",
   "metadata": {},
   "outputs": [],
   "source": [
    "smote = SMOTENC(random_state=my_random_state, sampling_strategy=0.1, categorical_features=[0, 2, 3, 4, 5, 8, 9, 10, 11, 12, 13, 14])\n",
    "X_smote, y_smote = smote.fit_resample(X_train_scaled, y_train)\n",
    "\n",
    "y_smote.value_counts()"
   ]
  },
  {
   "cell_type": "code",
   "execution_count": null,
   "id": "mobile-programmer",
   "metadata": {},
   "outputs": [],
   "source": [
    "undersampler = RandomUnderSampler(random_state=my_random_state, sampling_strategy=1)\n",
    "X_smote, y_smote = undersampler.fit_resample(X_smote, y_smote)\n",
    "\n",
    "y_smote.value_counts()"
   ]
  },
  {
   "cell_type": "code",
   "execution_count": null,
   "id": "controlling-florist",
   "metadata": {
    "scrolled": true
   },
   "outputs": [],
   "source": [
    "rf_model = RandomForestClassifier(random_state=my_random_state)\n",
    "rf_model.fit(X_smote, y_smote)\n",
    "\n",
    "y_pred = rf_model.predict(X_test_scaled)\n",
    "\n",
    "print('Accuracy: {:.2%}'.format(metrics.accuracy_score(y_test, y_pred)))\n",
    "print('Precision: {:.2%}'.format(metrics.precision_score(y_test, y_pred)))\n",
    "print('Recall: {:.2%}'.format(metrics.recall_score(y_test, y_pred)))\n",
    "print('F1: {:.2%}'.format(metrics.f1_score(y_test, y_pred)))    "
   ]
  },
  {
   "cell_type": "markdown",
   "id": "functioning-superior",
   "metadata": {},
   "source": [
    "# Conclusion\n",
    "\n",
    "In this demo we covered how to work with categorical data using two different approaches for encoding. We also experienced working with severely imbalanced class distributions and discovered techniques that allow us to compensate for the problems that come with it.\n",
    "\n",
    "While being slightly underwhelming, we were able to train a half-decent model on a dataset which was unusable beforehand. Note, that the results may extremely vary given the stochastic nature of the algorithm and evaluation procedure."
   ]
  }
 ],
 "metadata": {
  "kernelspec": {
   "display_name": "Python 3",
   "language": "python",
   "name": "python3"
  },
  "language_info": {
   "codemirror_mode": {
    "name": "ipython",
    "version": 3
   },
   "file_extension": ".py",
   "mimetype": "text/x-python",
   "name": "python",
   "nbconvert_exporter": "python",
   "pygments_lexer": "ipython3",
   "version": "3.9.2"
  }
 },
 "nbformat": 4,
 "nbformat_minor": 5
}
