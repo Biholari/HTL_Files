{
 "cells": [
  {
   "cell_type": "markdown",
   "id": "economic-graduation",
   "metadata": {},
   "source": [
    "# Motivation"
   ]
  },
  {
   "cell_type": "markdown",
   "id": "stretch-ocean",
   "metadata": {},
   "source": [
    "Let's reflect on our use of _accuracy_ to determine how good (or bad) our models perform:\n",
    "\n",
    "Imagine we're training a classifier for a common condition, such as _hypertension_: Since about one in two people (at least in the _US_) suffers from _high blood pressure_, a **_balanced_** dataset containing 1000 observations would have about 500 _positive_ labels and 500 _negative_ labels. If we now say _everyone has high blood pressure_ we're correct half of the time - resulting in an accuracy of 50%. So far so good.\n",
    "\n",
    "Let's repeat the same thought experiment with a rare disease, that only affects one in thousand people. If this distribution would be reflected in our data, it would result in a highly **_imbalanced_** dataset, containing 999 _negative_ and 1 _positive_ label. If we now say _nobody has this rare disease_ we reach an accuracy of 99.9% - amazing model performance, right? Intuitively, we know that predicting all labels as negative is not helpful for our _rare disease_-detection problem - and no hospital will buy our great model."
   ]
  },
  {
   "cell_type": "markdown",
   "id": "elder-rolling",
   "metadata": {},
   "source": [
    "# Data Exploration And First Model\n",
    "\n",
    "In this demo we'll be returning to our previous example: the _Breast Cancer Wisconsin_ dataset, containing features computed from a digitized image of a _fine needle aspirate_ (_FNA_) of breast mass, that we can use to predict whether a tissue sample is _malignant_ or _benign_.\n",
    "\n",
    "We'll limit ourselves to a quick _EDA_ to refreshen our memory of the data we're working with.\n",
    "\n",
    "N.B.: We're working with the _original_ dataset this time - the last one was slightly modified so we could learn how to handle missing values.\n",
    "\n",
    "![](images/breast-cancer.png)"
   ]
  },
  {
   "cell_type": "code",
   "execution_count": 1,
   "id": "complimentary-springer",
   "metadata": {},
   "outputs": [],
   "source": [
    "import pandas as pd"
   ]
  },
  {
   "cell_type": "code",
   "execution_count": 2,
   "id": "naughty-barrier",
   "metadata": {},
   "outputs": [],
   "source": [
    "data = pd.read_csv('input/breast-cancer-prepared.csv')"
   ]
  },
  {
   "cell_type": "code",
   "execution_count": 3,
   "id": "worldwide-patrick",
   "metadata": {
    "scrolled": false
   },
   "outputs": [
    {
     "name": "stdout",
     "output_type": "stream",
     "text": [
      "<class 'pandas.core.frame.DataFrame'>\n",
      "RangeIndex: 569 entries, 0 to 568\n",
      "Data columns (total 31 columns):\n",
      " #   Column                   Non-Null Count  Dtype  \n",
      "---  ------                   --------------  -----  \n",
      " 0   mean radius              569 non-null    float64\n",
      " 1   mean texture             569 non-null    float64\n",
      " 2   mean perimeter           569 non-null    float64\n",
      " 3   mean area                569 non-null    float64\n",
      " 4   mean smoothness          569 non-null    float64\n",
      " 5   mean compactness         569 non-null    float64\n",
      " 6   mean concavity           569 non-null    float64\n",
      " 7   mean concave points      569 non-null    float64\n",
      " 8   mean symmetry            569 non-null    float64\n",
      " 9   mean fractal dimension   569 non-null    float64\n",
      " 10  radius error             569 non-null    float64\n",
      " 11  texture error            569 non-null    float64\n",
      " 12  perimeter error          569 non-null    float64\n",
      " 13  area error               569 non-null    float64\n",
      " 14  smoothness error         569 non-null    float64\n",
      " 15  compactness error        569 non-null    float64\n",
      " 16  concavity error          569 non-null    float64\n",
      " 17  concave points error     569 non-null    float64\n",
      " 18  symmetry error           569 non-null    float64\n",
      " 19  fractal dimension error  569 non-null    float64\n",
      " 20  worst radius             569 non-null    float64\n",
      " 21  worst texture            569 non-null    float64\n",
      " 22  worst perimeter          569 non-null    float64\n",
      " 23  worst area               569 non-null    float64\n",
      " 24  worst smoothness         569 non-null    float64\n",
      " 25  worst compactness        569 non-null    float64\n",
      " 26  worst concavity          569 non-null    float64\n",
      " 27  worst concave points     569 non-null    float64\n",
      " 28  worst symmetry           569 non-null    float64\n",
      " 29  worst fractal dimension  569 non-null    float64\n",
      " 30  is_malignant             569 non-null    int64  \n",
      "dtypes: float64(30), int64(1)\n",
      "memory usage: 137.9 KB\n"
     ]
    }
   ],
   "source": [
    "data.info()"
   ]
  },
  {
   "cell_type": "code",
   "execution_count": 4,
   "id": "established-spanking",
   "metadata": {},
   "outputs": [
    {
     "data": {
      "text/html": [
       "<div>\n",
       "<style scoped>\n",
       "    .dataframe tbody tr th:only-of-type {\n",
       "        vertical-align: middle;\n",
       "    }\n",
       "\n",
       "    .dataframe tbody tr th {\n",
       "        vertical-align: top;\n",
       "    }\n",
       "\n",
       "    .dataframe thead th {\n",
       "        text-align: right;\n",
       "    }\n",
       "</style>\n",
       "<table border=\"1\" class=\"dataframe\">\n",
       "  <thead>\n",
       "    <tr style=\"text-align: right;\">\n",
       "      <th></th>\n",
       "      <th>mean radius</th>\n",
       "      <th>mean texture</th>\n",
       "      <th>mean perimeter</th>\n",
       "      <th>mean area</th>\n",
       "      <th>mean smoothness</th>\n",
       "      <th>mean compactness</th>\n",
       "      <th>mean concavity</th>\n",
       "      <th>mean concave points</th>\n",
       "      <th>mean symmetry</th>\n",
       "      <th>mean fractal dimension</th>\n",
       "      <th>...</th>\n",
       "      <th>worst texture</th>\n",
       "      <th>worst perimeter</th>\n",
       "      <th>worst area</th>\n",
       "      <th>worst smoothness</th>\n",
       "      <th>worst compactness</th>\n",
       "      <th>worst concavity</th>\n",
       "      <th>worst concave points</th>\n",
       "      <th>worst symmetry</th>\n",
       "      <th>worst fractal dimension</th>\n",
       "      <th>is_malignant</th>\n",
       "    </tr>\n",
       "  </thead>\n",
       "  <tbody>\n",
       "    <tr>\n",
       "      <th>204</th>\n",
       "      <td>12.47</td>\n",
       "      <td>18.60</td>\n",
       "      <td>81.09</td>\n",
       "      <td>481.9</td>\n",
       "      <td>0.09965</td>\n",
       "      <td>0.10580</td>\n",
       "      <td>0.08005</td>\n",
       "      <td>0.03821</td>\n",
       "      <td>0.1925</td>\n",
       "      <td>0.06373</td>\n",
       "      <td>...</td>\n",
       "      <td>24.64</td>\n",
       "      <td>96.05</td>\n",
       "      <td>677.9</td>\n",
       "      <td>0.14260</td>\n",
       "      <td>0.2378</td>\n",
       "      <td>0.2671</td>\n",
       "      <td>0.10150</td>\n",
       "      <td>0.3014</td>\n",
       "      <td>0.08750</td>\n",
       "      <td>0</td>\n",
       "    </tr>\n",
       "    <tr>\n",
       "      <th>70</th>\n",
       "      <td>18.94</td>\n",
       "      <td>21.31</td>\n",
       "      <td>123.60</td>\n",
       "      <td>1130.0</td>\n",
       "      <td>0.09009</td>\n",
       "      <td>0.10290</td>\n",
       "      <td>0.10800</td>\n",
       "      <td>0.07951</td>\n",
       "      <td>0.1582</td>\n",
       "      <td>0.05461</td>\n",
       "      <td>...</td>\n",
       "      <td>26.58</td>\n",
       "      <td>165.90</td>\n",
       "      <td>1866.0</td>\n",
       "      <td>0.11930</td>\n",
       "      <td>0.2336</td>\n",
       "      <td>0.2687</td>\n",
       "      <td>0.17890</td>\n",
       "      <td>0.2551</td>\n",
       "      <td>0.06589</td>\n",
       "      <td>1</td>\n",
       "    </tr>\n",
       "    <tr>\n",
       "      <th>131</th>\n",
       "      <td>15.46</td>\n",
       "      <td>19.48</td>\n",
       "      <td>101.70</td>\n",
       "      <td>748.9</td>\n",
       "      <td>0.10920</td>\n",
       "      <td>0.12230</td>\n",
       "      <td>0.14660</td>\n",
       "      <td>0.08087</td>\n",
       "      <td>0.1931</td>\n",
       "      <td>0.05796</td>\n",
       "      <td>...</td>\n",
       "      <td>26.00</td>\n",
       "      <td>124.90</td>\n",
       "      <td>1156.0</td>\n",
       "      <td>0.15460</td>\n",
       "      <td>0.2394</td>\n",
       "      <td>0.3791</td>\n",
       "      <td>0.15140</td>\n",
       "      <td>0.2837</td>\n",
       "      <td>0.08019</td>\n",
       "      <td>1</td>\n",
       "    </tr>\n",
       "    <tr>\n",
       "      <th>431</th>\n",
       "      <td>12.40</td>\n",
       "      <td>17.68</td>\n",
       "      <td>81.47</td>\n",
       "      <td>467.8</td>\n",
       "      <td>0.10540</td>\n",
       "      <td>0.13160</td>\n",
       "      <td>0.07741</td>\n",
       "      <td>0.02799</td>\n",
       "      <td>0.1811</td>\n",
       "      <td>0.07102</td>\n",
       "      <td>...</td>\n",
       "      <td>22.91</td>\n",
       "      <td>89.61</td>\n",
       "      <td>515.8</td>\n",
       "      <td>0.14500</td>\n",
       "      <td>0.2629</td>\n",
       "      <td>0.2403</td>\n",
       "      <td>0.07370</td>\n",
       "      <td>0.2556</td>\n",
       "      <td>0.09359</td>\n",
       "      <td>0</td>\n",
       "    </tr>\n",
       "    <tr>\n",
       "      <th>540</th>\n",
       "      <td>11.54</td>\n",
       "      <td>14.44</td>\n",
       "      <td>74.65</td>\n",
       "      <td>402.9</td>\n",
       "      <td>0.09984</td>\n",
       "      <td>0.11200</td>\n",
       "      <td>0.06737</td>\n",
       "      <td>0.02594</td>\n",
       "      <td>0.1818</td>\n",
       "      <td>0.06782</td>\n",
       "      <td>...</td>\n",
       "      <td>19.68</td>\n",
       "      <td>78.78</td>\n",
       "      <td>457.8</td>\n",
       "      <td>0.13450</td>\n",
       "      <td>0.2118</td>\n",
       "      <td>0.1797</td>\n",
       "      <td>0.06918</td>\n",
       "      <td>0.2329</td>\n",
       "      <td>0.08134</td>\n",
       "      <td>0</td>\n",
       "    </tr>\n",
       "    <tr>\n",
       "      <th>567</th>\n",
       "      <td>20.60</td>\n",
       "      <td>29.33</td>\n",
       "      <td>140.10</td>\n",
       "      <td>1265.0</td>\n",
       "      <td>0.11780</td>\n",
       "      <td>0.27700</td>\n",
       "      <td>0.35140</td>\n",
       "      <td>0.15200</td>\n",
       "      <td>0.2397</td>\n",
       "      <td>0.07016</td>\n",
       "      <td>...</td>\n",
       "      <td>39.42</td>\n",
       "      <td>184.60</td>\n",
       "      <td>1821.0</td>\n",
       "      <td>0.16500</td>\n",
       "      <td>0.8681</td>\n",
       "      <td>0.9387</td>\n",
       "      <td>0.26500</td>\n",
       "      <td>0.4087</td>\n",
       "      <td>0.12400</td>\n",
       "      <td>1</td>\n",
       "    </tr>\n",
       "    <tr>\n",
       "      <th>369</th>\n",
       "      <td>22.01</td>\n",
       "      <td>21.90</td>\n",
       "      <td>147.20</td>\n",
       "      <td>1482.0</td>\n",
       "      <td>0.10630</td>\n",
       "      <td>0.19540</td>\n",
       "      <td>0.24480</td>\n",
       "      <td>0.15010</td>\n",
       "      <td>0.1824</td>\n",
       "      <td>0.06140</td>\n",
       "      <td>...</td>\n",
       "      <td>25.80</td>\n",
       "      <td>195.00</td>\n",
       "      <td>2227.0</td>\n",
       "      <td>0.12940</td>\n",
       "      <td>0.3885</td>\n",
       "      <td>0.4756</td>\n",
       "      <td>0.24320</td>\n",
       "      <td>0.2741</td>\n",
       "      <td>0.08574</td>\n",
       "      <td>1</td>\n",
       "    </tr>\n",
       "    <tr>\n",
       "      <th>29</th>\n",
       "      <td>17.57</td>\n",
       "      <td>15.05</td>\n",
       "      <td>115.00</td>\n",
       "      <td>955.1</td>\n",
       "      <td>0.09847</td>\n",
       "      <td>0.11570</td>\n",
       "      <td>0.09875</td>\n",
       "      <td>0.07953</td>\n",
       "      <td>0.1739</td>\n",
       "      <td>0.06149</td>\n",
       "      <td>...</td>\n",
       "      <td>19.52</td>\n",
       "      <td>134.90</td>\n",
       "      <td>1227.0</td>\n",
       "      <td>0.12550</td>\n",
       "      <td>0.2812</td>\n",
       "      <td>0.2489</td>\n",
       "      <td>0.14560</td>\n",
       "      <td>0.2756</td>\n",
       "      <td>0.07919</td>\n",
       "      <td>1</td>\n",
       "    </tr>\n",
       "    <tr>\n",
       "      <th>81</th>\n",
       "      <td>13.34</td>\n",
       "      <td>15.86</td>\n",
       "      <td>86.49</td>\n",
       "      <td>520.0</td>\n",
       "      <td>0.10780</td>\n",
       "      <td>0.15350</td>\n",
       "      <td>0.11690</td>\n",
       "      <td>0.06987</td>\n",
       "      <td>0.1942</td>\n",
       "      <td>0.06902</td>\n",
       "      <td>...</td>\n",
       "      <td>23.19</td>\n",
       "      <td>96.66</td>\n",
       "      <td>614.9</td>\n",
       "      <td>0.15360</td>\n",
       "      <td>0.4791</td>\n",
       "      <td>0.4858</td>\n",
       "      <td>0.17080</td>\n",
       "      <td>0.3527</td>\n",
       "      <td>0.10160</td>\n",
       "      <td>0</td>\n",
       "    </tr>\n",
       "    <tr>\n",
       "      <th>477</th>\n",
       "      <td>13.90</td>\n",
       "      <td>16.62</td>\n",
       "      <td>88.97</td>\n",
       "      <td>599.4</td>\n",
       "      <td>0.06828</td>\n",
       "      <td>0.05319</td>\n",
       "      <td>0.02224</td>\n",
       "      <td>0.01339</td>\n",
       "      <td>0.1813</td>\n",
       "      <td>0.05536</td>\n",
       "      <td>...</td>\n",
       "      <td>21.80</td>\n",
       "      <td>101.20</td>\n",
       "      <td>718.9</td>\n",
       "      <td>0.09384</td>\n",
       "      <td>0.2006</td>\n",
       "      <td>0.1384</td>\n",
       "      <td>0.06222</td>\n",
       "      <td>0.2679</td>\n",
       "      <td>0.07698</td>\n",
       "      <td>0</td>\n",
       "    </tr>\n",
       "  </tbody>\n",
       "</table>\n",
       "<p>10 rows × 31 columns</p>\n",
       "</div>"
      ],
      "text/plain": [
       "     mean radius  mean texture  mean perimeter  mean area  mean smoothness  \\\n",
       "204        12.47         18.60           81.09      481.9          0.09965   \n",
       "70         18.94         21.31          123.60     1130.0          0.09009   \n",
       "131        15.46         19.48          101.70      748.9          0.10920   \n",
       "431        12.40         17.68           81.47      467.8          0.10540   \n",
       "540        11.54         14.44           74.65      402.9          0.09984   \n",
       "567        20.60         29.33          140.10     1265.0          0.11780   \n",
       "369        22.01         21.90          147.20     1482.0          0.10630   \n",
       "29         17.57         15.05          115.00      955.1          0.09847   \n",
       "81         13.34         15.86           86.49      520.0          0.10780   \n",
       "477        13.90         16.62           88.97      599.4          0.06828   \n",
       "\n",
       "     mean compactness  mean concavity  mean concave points  mean symmetry  \\\n",
       "204           0.10580         0.08005              0.03821         0.1925   \n",
       "70            0.10290         0.10800              0.07951         0.1582   \n",
       "131           0.12230         0.14660              0.08087         0.1931   \n",
       "431           0.13160         0.07741              0.02799         0.1811   \n",
       "540           0.11200         0.06737              0.02594         0.1818   \n",
       "567           0.27700         0.35140              0.15200         0.2397   \n",
       "369           0.19540         0.24480              0.15010         0.1824   \n",
       "29            0.11570         0.09875              0.07953         0.1739   \n",
       "81            0.15350         0.11690              0.06987         0.1942   \n",
       "477           0.05319         0.02224              0.01339         0.1813   \n",
       "\n",
       "     mean fractal dimension  ...  worst texture  worst perimeter  worst area  \\\n",
       "204                 0.06373  ...          24.64            96.05       677.9   \n",
       "70                  0.05461  ...          26.58           165.90      1866.0   \n",
       "131                 0.05796  ...          26.00           124.90      1156.0   \n",
       "431                 0.07102  ...          22.91            89.61       515.8   \n",
       "540                 0.06782  ...          19.68            78.78       457.8   \n",
       "567                 0.07016  ...          39.42           184.60      1821.0   \n",
       "369                 0.06140  ...          25.80           195.00      2227.0   \n",
       "29                  0.06149  ...          19.52           134.90      1227.0   \n",
       "81                  0.06902  ...          23.19            96.66       614.9   \n",
       "477                 0.05536  ...          21.80           101.20       718.9   \n",
       "\n",
       "     worst smoothness  worst compactness  worst concavity  \\\n",
       "204           0.14260             0.2378           0.2671   \n",
       "70            0.11930             0.2336           0.2687   \n",
       "131           0.15460             0.2394           0.3791   \n",
       "431           0.14500             0.2629           0.2403   \n",
       "540           0.13450             0.2118           0.1797   \n",
       "567           0.16500             0.8681           0.9387   \n",
       "369           0.12940             0.3885           0.4756   \n",
       "29            0.12550             0.2812           0.2489   \n",
       "81            0.15360             0.4791           0.4858   \n",
       "477           0.09384             0.2006           0.1384   \n",
       "\n",
       "     worst concave points  worst symmetry  worst fractal dimension  \\\n",
       "204               0.10150          0.3014                  0.08750   \n",
       "70                0.17890          0.2551                  0.06589   \n",
       "131               0.15140          0.2837                  0.08019   \n",
       "431               0.07370          0.2556                  0.09359   \n",
       "540               0.06918          0.2329                  0.08134   \n",
       "567               0.26500          0.4087                  0.12400   \n",
       "369               0.24320          0.2741                  0.08574   \n",
       "29                0.14560          0.2756                  0.07919   \n",
       "81                0.17080          0.3527                  0.10160   \n",
       "477               0.06222          0.2679                  0.07698   \n",
       "\n",
       "     is_malignant  \n",
       "204             0  \n",
       "70              1  \n",
       "131             1  \n",
       "431             0  \n",
       "540             0  \n",
       "567             1  \n",
       "369             1  \n",
       "29              1  \n",
       "81              0  \n",
       "477             0  \n",
       "\n",
       "[10 rows x 31 columns]"
      ]
     },
     "execution_count": 4,
     "metadata": {},
     "output_type": "execute_result"
    }
   ],
   "source": [
    "data.sample(10, random_state=42)"
   ]
  },
  {
   "cell_type": "markdown",
   "id": "alpha-custody",
   "metadata": {},
   "source": [
    "Let's train a _decision tree_ model using a _train-test-split_ with _stratification_  - just like we did before:"
   ]
  },
  {
   "cell_type": "code",
   "execution_count": 5,
   "id": "challenging-paragraph",
   "metadata": {},
   "outputs": [],
   "source": [
    "from sklearn.tree import DecisionTreeClassifier\n",
    "from sklearn.model_selection import train_test_split\n",
    "from sklearn import metrics"
   ]
  },
  {
   "cell_type": "code",
   "execution_count": 6,
   "id": "closing-tokyo",
   "metadata": {},
   "outputs": [
    {
     "name": "stdout",
     "output_type": "stream",
     "text": [
      "Accuracy: 90.91%\n"
     ]
    }
   ],
   "source": [
    "X = data[data.columns[:-1]]\n",
    "y = data['is_malignant']\n",
    "\n",
    "train_X, test_X, train_y, test_y = train_test_split(X, y, random_state=33, stratify=y)\n",
    "\n",
    "dt_model = DecisionTreeClassifier(random_state=33)\n",
    "dt_model.fit(train_X, train_y)\n",
    "\n",
    "pred_y = dt_model.predict(test_X)\n",
    "\n",
    "accuracy_score = metrics.accuracy_score(test_y, pred_y)\n",
    "print('Accuracy: {:.2%}'.format(accuracy_score))"
   ]
  },
  {
   "cell_type": "markdown",
   "id": "aggressive-louisville",
   "metadata": {},
   "source": [
    "# Evaluation And Metrics\n",
    "\n",
    "We've reached approximately 91% accuracy, but does this really reflect how good our model performs considering our scenario - and the slight imbalance in our dataset, shown in the following output?"
   ]
  },
  {
   "cell_type": "code",
   "execution_count": 7,
   "id": "accepted-wallace",
   "metadata": {
    "scrolled": false
   },
   "outputs": [
    {
     "data": {
      "text/plain": [
       "0    357\n",
       "1    212\n",
       "Name: is_malignant, dtype: int64"
      ]
     },
     "execution_count": 7,
     "metadata": {},
     "output_type": "execute_result"
    }
   ],
   "source": [
    "data['is_malignant'].value_counts()"
   ]
  },
  {
   "cell_type": "code",
   "execution_count": 8,
   "id": "peripheral-chinese",
   "metadata": {},
   "outputs": [
    {
     "data": {
      "text/plain": [
       "<AxesSubplot:ylabel='is_malignant'>"
      ]
     },
     "execution_count": 8,
     "metadata": {},
     "output_type": "execute_result"
    },
    {
     "data": {
      "image/png": "[encoded data removed]",
      "text/plain": [
       "<Figure size 432x288 with 1 Axes>"
      ]
     },
     "metadata": {},
     "output_type": "display_data"
    }
   ],
   "source": [
    "data['is_malignant'].value_counts().plot(kind='pie')"
   ]
  },
  {
   "cell_type": "markdown",
   "id": "electronic-peter",
   "metadata": {},
   "source": [
    "## _Confusion Matrix_\n",
    "\n",
    "Ready to get confused? Before we start talking about alternative metrics, we need to take a look at some important vocabulary and concepts.\n",
    "\n",
    "For this, we'll use our _real_ (or _true_) labels and the predicted _labels_ to create a **_confusion matrix_**: A table summarizing the count of correct and incorrect predictions broken down by each class."
   ]
  },
  {
   "cell_type": "code",
   "execution_count": 9,
   "id": "capital-gossip",
   "metadata": {},
   "outputs": [],
   "source": [
    "from sklearn.metrics import confusion_matrix"
   ]
  },
  {
   "cell_type": "code",
   "execution_count": 10,
   "id": "single-cancellation",
   "metadata": {
    "scrolled": false
   },
   "outputs": [
    {
     "data": {
      "text/plain": [
       "array([[87,  3],\n",
       "       [10, 43]])"
      ]
     },
     "execution_count": 10,
     "metadata": {},
     "output_type": "execute_result"
    }
   ],
   "source": [
    "cm = confusion_matrix(test_y, pred_y)\n",
    "cm"
   ]
  },
  {
   "cell_type": "markdown",
   "id": "deluxe-trust",
   "metadata": {},
   "source": [
    "Without further knowledge the output above will probably not make much sense to you. The following visualization should help:"
   ]
  },
  {
   "cell_type": "code",
   "execution_count": 11,
   "id": "further-winner",
   "metadata": {},
   "outputs": [],
   "source": [
    "from sklearn.metrics import ConfusionMatrixDisplay"
   ]
  },
  {
   "cell_type": "code",
   "execution_count": 12,
   "id": "dynamic-hypothesis",
   "metadata": {
    "scrolled": false
   },
   "outputs": [
    {
     "data": {
      "text/plain": [
       "<sklearn.metrics._plot.confusion_matrix.ConfusionMatrixDisplay at 0x7f7f068f6850>"
      ]
     },
     "execution_count": 12,
     "metadata": {},
     "output_type": "execute_result"
    },
    {
     "data": {
      "image/png": "[encoded data removed]",
      "text/plain": [
       "<Figure size 432x288 with 2 Axes>"
      ]
     },
     "metadata": {
      "needs_background": "light"
     },
     "output_type": "display_data"
    }
   ],
   "source": [
    "cm_display = ConfusionMatrixDisplay(cm)\n",
    "cm_display.plot()"
   ]
  },
  {
   "cell_type": "markdown",
   "id": "listed-summer",
   "metadata": {},
   "source": [
    "To summarize the plot above:\n",
    "\n",
    "* In 87 cases the tissue was _benign_ and was predicted as _benign_. This constitutes a **_True Negative_**.\n",
    "* In 3 cases the tissue was _benign_ but was predicted as _malignant_. This constitutes a **_False Positive_**.\n",
    "* In 10 cases the tissue was _malignant_ but was predicted as _benign_. This constitutes a **_False Negative_**.\n",
    "* In 43 cases the tissue was _malignant_ and was predicted as _malignant_. This constitutes a **_True Positive_**.\n",
    "\n",
    "Or in table form:\n",
    "\n",
    "|||\n",
    "|-|-|\n",
    "|_True Negatives_|**_False Positive_**|\n",
    "|**_False Negatives_**|_True Positives_|\n",
    "\n",
    "Or in funny image form:\n",
    "\n",
    "![](images/fp-fn.png)"
   ]
  },
  {
   "cell_type": "markdown",
   "id": "formed-oriental",
   "metadata": {},
   "source": [
    "## _Recall_\n",
    "\n",
    "The (subjectively) worst case that can happen in our scenario is incorrectly classifying _malignant_ tissue as _not malignant_ - i.e. a _false negative_ - since it could lead to false security and no further examinations. The opposite - i.e. a _false positive_ - would be an unpleasant shock for the patient but could be cleared up by the doctors after further investigation.\n",
    "\n",
    "What are other scenarios where _false negatives_ are considered worse (and _false positives_ consequently preferable)? Note that the following examples are subjective and arguable:\n",
    "\n",
    "* We'd rather have a _false positive_ on a _COVID-19_-test and simply take another one to make sure, than having a _false negative_ and walk around infecting others.\n",
    "* We'd rather have an airport metal detector go off wrongly, than people bringing dangerous items onto a flight.\n",
    "* We'd rather perform multiple background checks on wrong suspects of terrorism, than not notice terroristic and threatening activies.\n",
    "\n",
    "Luckily, there is a metric that helps us focus on identifying the positive cases by adding the number of _false negatives_ into the equation. _Recall_ describes the ability of a model to find all relevant cases within a dataset and is defined as follows:\n",
    "\n",
    "$$\\text{Recall} = \\frac{\\text{True Positives}}{\\text{True Positives} + \\text{False Negatives}}$$\n",
    "\n",
    "Or in our scenario:\n",
    "\n",
    "$$\\text{Recall} = \\frac{\\text{Correctly Identified Malignant Tissue}}{\\text{Correctly Identified Malignant Tissue} + \\text{Tissue Incorrectly Labeled As Not Malignant}}$$\n",
    "\n",
    "Let's calculate the _recall_ for our model by inserting the _true positives_ (43) and the _false negatives_ (10) into the formula:"
   ]
  },
  {
   "cell_type": "code",
   "execution_count": 13,
   "id": "sudden-vintage",
   "metadata": {},
   "outputs": [
    {
     "data": {
      "text/plain": [
       "0.8113207547169812"
      ]
     },
     "execution_count": 13,
     "metadata": {},
     "output_type": "execute_result"
    }
   ],
   "source": [
    "recall = 43 / (43 + 10)\n",
    "recall"
   ]
  },
  {
   "cell_type": "markdown",
   "id": "severe-oxygen",
   "metadata": {},
   "source": [
    "You can also use the built-in method from _scikit-learn_'s `metrics` module:\n",
    "\n",
    "N.B.: In contrast to accuracy, the parameter order is important here!"
   ]
  },
  {
   "cell_type": "code",
   "execution_count": 14,
   "id": "operating-allen",
   "metadata": {},
   "outputs": [
    {
     "data": {
      "text/plain": [
       "0.8113207547169812"
      ]
     },
     "execution_count": 14,
     "metadata": {},
     "output_type": "execute_result"
    }
   ],
   "source": [
    "metrics.recall_score(test_y, pred_y)"
   ]
  },
  {
   "cell_type": "markdown",
   "id": "cross-funds",
   "metadata": {},
   "source": [
    "## _Precision_\n",
    "\n",
    "You probably noticed something about the formula: Why don't we simply label all tissue samples as _malignant_? With a _false negative_ count of 0 the _recall_ would obviously be 100%.\n",
    "\n",
    "This is where another metric comes into play: _precision_, which expresses _relevancy_ of our prediction by answering the question, what proportion of positive identifications was actually correct. It is defined as follows:\n",
    "\n",
    "$$\\text{Precision} = \\frac{\\text{True Positives}}{\\text{True Positives} + \\text{False Positives}}$$\n",
    "\n",
    "Instead of _false negatives_ like we did in _recall_, we now focus on _false positives_. We can again find multiple real-world scenarios where _false positives_ are considered worse, like the following (subjective, again) examples:\n",
    "\n",
    "* I'd rather receive some mails from _Nigerian princes_ or fishy online drug stores, than have my _spam filter_ wrongly remove potentially important mails.\n",
    "* In criminal courts, it is generally considered preferable to reach a _false negative_ verdict, where a criminal is not found guilty, than convicting an innocent person - especially in countries that carry out capital punishment.\n",
    "\n",
    "Applied to our scenario, we can rephrase the formula as follows:\n",
    "\n",
    "$$\\text{Precision} = \\frac{\\text{Correctly Identified Malignant Tissue}}{\\text{Correctly Identified Malignant Tissue} + \\text{Tissue Incorrectly Labeled As Malignant}}$$\n",
    "\n",
    "With this metric we are focused on evaluating, if the tissue samples identified as _malignant_ were really _malignant_. This could be important, if the risk (or cost) of a follow-up examination would be very high.\n",
    "\n",
    "If we insert our count of _true positives_ (43) and the count of _false positives_ (3) into the formula, we calculate the following precision:"
   ]
  },
  {
   "cell_type": "code",
   "execution_count": 15,
   "id": "pointed-graph",
   "metadata": {},
   "outputs": [
    {
     "data": {
      "text/plain": [
       "0.9347826086956522"
      ]
     },
     "execution_count": 15,
     "metadata": {},
     "output_type": "execute_result"
    }
   ],
   "source": [
    "precision = 43 / (43 + 3)\n",
    "precision"
   ]
  },
  {
   "cell_type": "markdown",
   "id": "handy-joseph",
   "metadata": {},
   "source": [
    "You can also use the built-in method from _scikit-learn_'s `metrics` module:\n",
    "\n",
    "N.B.: Analogous to _recall_, the parameter order is important here!"
   ]
  },
  {
   "cell_type": "code",
   "execution_count": 16,
   "id": "signed-portsmouth",
   "metadata": {
    "scrolled": false
   },
   "outputs": [
    {
     "data": {
      "text/plain": [
       "0.9347826086956522"
      ]
     },
     "execution_count": 16,
     "metadata": {},
     "output_type": "execute_result"
    }
   ],
   "source": [
    "metrics.precision_score(test_y, pred_y)"
   ]
  },
  {
   "cell_type": "markdown",
   "id": "middle-tyler",
   "metadata": {},
   "source": [
    "## Relationship Between _Recall_ And _Precision_\n",
    "\n",
    "Imagine we modify our model so that it is able to identify a single tissue sample correctly as _malignant_. We would achieve a _precision_ of 100% (since we have no _false positives_), but our _recall_ would be extremely low, because we failed to find more _malignant_ tumors (i.e. high number of _false negatives_). If we go to the other extreme and classify every tissue sample as _malignant_, we would have a _recall_ of 100%, but our _precision_ would be extremely low, and we would have to perform a lot of follow-up examinations. In other words, as we _increase_ _precision_, we _decrease recall_ - and vice versa.\n",
    "\n",
    "In some cases - like the provided examples above or our main scenario, where wrong bad news and follow-up examinations are preferable to undetected disease - we can rather clearly decide which metric we can neglect.\n",
    "\n",
    "However, in cases where we want an optimal blend of _precision_ and _recall_, we can use the _F1 score_, which is defined as the _harmonic mean_ of both metrics:\n",
    "\n",
    "$$\\text{F1 Score} = 2 * \\frac{\\text{Precision} * \\text{Recall}}{\\text{Precision} + \\text{Recall}}$$\n",
    "\n",
    "The _F1 score_ for our model would thus be:"
   ]
  },
  {
   "cell_type": "code",
   "execution_count": 17,
   "id": "daily-return",
   "metadata": {},
   "outputs": [
    {
     "data": {
      "text/plain": [
       "0.8686868686868686"
      ]
     },
     "execution_count": 17,
     "metadata": {},
     "output_type": "execute_result"
    }
   ],
   "source": [
    "f1_score = 2 * ((precision * recall)/(precision + recall))\n",
    "f1_score"
   ]
  },
  {
   "cell_type": "markdown",
   "id": "sticky-dispute",
   "metadata": {},
   "source": [
    "We can - again - use the built-in method from _scikit-learn_'s `metrics` module:"
   ]
  },
  {
   "cell_type": "code",
   "execution_count": 18,
   "id": "human-password",
   "metadata": {
    "scrolled": true
   },
   "outputs": [
    {
     "data": {
      "text/plain": [
       "0.8686868686868686"
      ]
     },
     "execution_count": 18,
     "metadata": {},
     "output_type": "execute_result"
    }
   ],
   "source": [
    "metrics.f1_score(test_y, pred_y)"
   ]
  },
  {
   "cell_type": "markdown",
   "id": "postal-girlfriend",
   "metadata": {},
   "source": [
    "# _Hold-Out_ Vs. _Cross-Validation_\n",
    "\n",
    "Since we're at it, let's dive further into the topic of evaluation. Consider the following example:"
   ]
  },
  {
   "cell_type": "code",
   "execution_count": 19,
   "id": "stock-shopper",
   "metadata": {
    "scrolled": true
   },
   "outputs": [
    {
     "name": "stdout",
     "output_type": "stream",
     "text": [
      "Accuracy: 95.80%\n",
      "Precision: 92.73%\n",
      "Recall: 96.23%\n",
      "F1 Score: 94.44%\n"
     ]
    }
   ],
   "source": [
    "X = data[data.columns[:-1]]\n",
    "y = data['is_malignant']\n",
    "\n",
    "train_X, test_X, train_y, test_y = train_test_split(X, y, random_state=52, stratify=y)\n",
    "\n",
    "dt_model = DecisionTreeClassifier(random_state=52)\n",
    "dt_model.fit(train_X, train_y)\n",
    "\n",
    "pred_y = dt_model.predict(test_X)\n",
    "\n",
    "print('Accuracy: {:.2%}'.format(metrics.accuracy_score(test_y, pred_y)))\n",
    "print('Precision: {:.2%}'.format(metrics.precision_score(test_y, pred_y)))\n",
    "print('Recall: {:.2%}'.format(metrics.recall_score(test_y, pred_y)))\n",
    "print('F1 Score: {:.2%}'.format(metrics.f1_score(test_y, pred_y)))"
   ]
  },
  {
   "cell_type": "markdown",
   "id": "structured-craps",
   "metadata": {},
   "source": [
    "What happened? Our model performs significantly better across (almost) all metrics we have covered so far. What changed?\n",
    "\n",
    "While we did not tune any hyperparameters, the only thing we adjusted was the `random_state`-parameter that determined the split between the _train_- and _test_-set.\n",
    "\n",
    "## _Hold-Out_ Method\n",
    "\n",
    "What you saw above, is a common problem of the **_Hold-Out_**-method, where we split the whole dataset once and use one part (about 80%) for _learning_ while _holding out_ another part (about 20%) to see how the model performs on _unseen_ data. While being easy and fast to use, working reasonably well on huge datasets and being handy at providing a first indication of our model's performance, it comes with the problem of depending completely on how we split the data - as demonstrated above.\n",
    "\n",
    "When we adjust our hyperparameters to perform optimally on this one _test-set_, we are risking _overfitting_ our model, since knowledge about the _test-set_ can _leak_ into the model which leads to our evaluation metrics no longer reporting on generalization performance.\n",
    "\n",
    "![](images/train_test_val.png)\n",
    "\n",
    "This problem is sometimes solved by splitting the whole data into three parts: one for _training_, one for _validation_ and one for _testing_. We then use the new **_validation set_** for tuning the hyperparameters, while further _holding-out_ the _test set_ for the final evaluation. The problem with this approach is, that it further reduces the number of observations we can use for training.\n",
    "\n",
    "## _Cross-Validation_\n",
    "\n",
    "**_Cross-validation_** or _k-fold cross-validation_ is the usually preferred alternative to the _hold-out_-method, since it allows us to teach and evaluate our model on multiple _splits_ instead of just one we're completely dependent on. For this, the dataset is split randomly into $k$ groups - or _folds_. After that a model is trained on all but one of the _folds_ and evaluated on the _unseen_ one. This is repeated until every _fold_ has been used for _validation_ once.\n",
    "\n",
    "E.g. for _5-fold cross-validation_ the dataset is split into 5 groups and the model would be trained and evaluated 5 separate times so each _fold_ would get a chance to be the _validation_ set, as depicted in the table below:\n",
    "\n",
    "|Split|Fold 1|Fold 2|Fold 3|Fold 4|Fold 5|\n",
    "|-|-|-|-|-|-|\n",
    "|1|**_Validation_**|_Train_|_Train_|_Train_|_Train_|\n",
    "|2|_Train_|**_Validation_**|_Train_|_Train_|_Train_|\n",
    "|3|_Train_|_Train_|**_Validation_**|_Train_|_Train_|\n",
    "|4|_Train_|_Train_|_Train_|**_Validation_**|_Train_|\n",
    "|5|_Train_|_Train_|_Train_|_Train_|**_Validation_**|\n",
    "\n",
    "N.B.: Of course it still makes sense to _hold out_ a test set for final evaluation.\n",
    "\n",
    "_scikit-learn_ offers us a handy way to perform _cross-validation_ using the method `cross_val_score`:"
   ]
  },
  {
   "cell_type": "code",
   "execution_count": 20,
   "id": "direct-punch",
   "metadata": {},
   "outputs": [],
   "source": [
    "from sklearn.model_selection import cross_val_score"
   ]
  },
  {
   "cell_type": "code",
   "execution_count": 21,
   "id": "controlled-princeton",
   "metadata": {},
   "outputs": [
    {
     "data": {
      "text/plain": [
       "array([0.9122807 , 0.90350877, 0.92982456, 0.93859649, 0.90265487])"
      ]
     },
     "execution_count": 21,
     "metadata": {},
     "output_type": "execute_result"
    }
   ],
   "source": [
    "scores = cross_val_score(dt_model, X, y, scoring='accuracy', cv=5)\n",
    "scores"
   ]
  },
  {
   "cell_type": "markdown",
   "id": "productive-diagnosis",
   "metadata": {},
   "source": [
    "As you see we get the score for every _fold_ - of course we can also calculate the _mean_:"
   ]
  },
  {
   "cell_type": "code",
   "execution_count": 22,
   "id": "brutal-length",
   "metadata": {},
   "outputs": [
    {
     "data": {
      "text/plain": [
       "0.9173730787144854"
      ]
     },
     "execution_count": 22,
     "metadata": {},
     "output_type": "execute_result"
    }
   ],
   "source": [
    "scores.mean()"
   ]
  },
  {
   "cell_type": "markdown",
   "id": "rotary-colony",
   "metadata": {},
   "source": [
    "We can also use other metrics by adjusting the `scoring`-parameter:"
   ]
  },
  {
   "cell_type": "code",
   "execution_count": 23,
   "id": "fundamental-hughes",
   "metadata": {},
   "outputs": [
    {
     "data": {
      "text/plain": [
       "0.9056478405315614"
      ]
     },
     "execution_count": 23,
     "metadata": {},
     "output_type": "execute_result"
    }
   ],
   "source": [
    "scores = cross_val_score(dt_model, X, y, scoring='recall', cv=5)\n",
    "scores.mean()"
   ]
  },
  {
   "cell_type": "code",
   "execution_count": 24,
   "id": "alive-outside",
   "metadata": {},
   "outputs": [
    {
     "data": {
      "text/plain": [
       "0.8913916553308739"
      ]
     },
     "execution_count": 24,
     "metadata": {},
     "output_type": "execute_result"
    }
   ],
   "source": [
    "scores = cross_val_score(dt_model, X, y, scoring='f1', cv=5)\n",
    "scores.mean()"
   ]
  },
  {
   "cell_type": "markdown",
   "id": "nervous-digest",
   "metadata": {},
   "source": [
    "Or calculate all of them using a loop:"
   ]
  },
  {
   "cell_type": "code",
   "execution_count": 25,
   "id": "sophisticated-belle",
   "metadata": {},
   "outputs": [
    {
     "name": "stdout",
     "output_type": "stream",
     "text": [
      "accuracy: 91.74%\n",
      "precision: 87.93%\n",
      "recall: 90.56%\n",
      "f1: 89.14%\n"
     ]
    }
   ],
   "source": [
    "for curr_scoring in ['accuracy', 'precision', 'recall', 'f1']:\n",
    "    scores = cross_val_score(dt_model, X, y, scoring=curr_scoring, cv=5)\n",
    "    print('{}: {:.2%}'.format(curr_scoring, scores.mean()))"
   ]
  },
  {
   "cell_type": "markdown",
   "id": "dress-emission",
   "metadata": {},
   "source": [
    "# _Random Forest_\n",
    "\n",
    "In a real hospital, multiple doctors would take a look at the same samples and try to find a decision collectively. Each doctor would be looking at different aspects of the tissue, based on his/her experience or research focus. Some doctors would make their personal decisions based on the shape or smoothness, others by the size or symmetry of the potential tumor. In the end, the doctors would discuss or vote on how to proceed.\n",
    "\n",
    "What we described here, is a great analogy for **_ensemble methods_** (also called _ensemble machine learning algorithms_), which use multiple learning algorithms to obtain better predictive performance. One such method is probably the most popular and widely used machine learning algorithm **_random forest_**.\n",
    "\n",
    "Let's break apart its name:\n",
    "\n",
    "* The **_forest_** consists of _multiple decision trees_, each of which comes up with a prediction. The predictions are then either averaged (for _regression_ tasks) or put up for a _majority vote_ (for _classification_ tasks).\n",
    "* The **_random_**-_ness_ comes from each decision tree only using a _random subset of features_.\n",
    "\n",
    "The following figure depicts both properties of a random forest:\n",
    "\n",
    "![](images/random-forest.png)\n",
    "\n",
    "While being slightly harder to interpret than a single decision tree, it generally performs better and reduces the risk of _overfitting_: The _voting_ (or _averaging_ in _regression_ tasks) process of many trees (100 by default!) compensates for the proneness of single trees to overfit."
   ]
  },
  {
   "cell_type": "markdown",
   "id": "certain-receiver",
   "metadata": {},
   "source": [
    "## Training And Hyperparameters"
   ]
  },
  {
   "cell_type": "markdown",
   "id": "quiet-nation",
   "metadata": {},
   "source": [
    "As you probably expected, training and applying a _random forest model_ follows the same blueprint we're used to from previous algorithms:"
   ]
  },
  {
   "cell_type": "code",
   "execution_count": 26,
   "id": "aerial-monday",
   "metadata": {},
   "outputs": [],
   "source": [
    "from sklearn.ensemble import RandomForestClassifier"
   ]
  },
  {
   "cell_type": "code",
   "execution_count": 27,
   "id": "described-energy",
   "metadata": {
    "scrolled": false
   },
   "outputs": [
    {
     "name": "stdout",
     "output_type": "stream",
     "text": [
      "Accuracy: 95.80%\n",
      "Precision: 96.15%\n",
      "Recall: 92.59%\n",
      "F1 Score: 94.34%\n"
     ]
    }
   ],
   "source": [
    "X = data[data.columns[:-1]]\n",
    "y = data['is_malignant']\n",
    "\n",
    "train_X, test_X, train_y, test_y = train_test_split(X, y, random_state=33)\n",
    "\n",
    "rf_model = RandomForestClassifier(random_state=33)\n",
    "rf_model.fit(train_X, train_y)\n",
    "\n",
    "pred_y = rf_model.predict(test_X)\n",
    "\n",
    "accuracy_score = metrics.accuracy_score(pred_y, test_y)\n",
    "print('Accuracy: {:.2%}'.format(metrics.accuracy_score(test_y, pred_y)))\n",
    "print('Precision: {:.2%}'.format(metrics.precision_score(test_y, pred_y)))\n",
    "print('Recall: {:.2%}'.format(metrics.recall_score(test_y, pred_y)))\n",
    "print('F1 Score: {:.2%}'.format(metrics.f1_score(test_y, pred_y)))"
   ]
  },
  {
   "cell_type": "markdown",
   "id": "second-blast",
   "metadata": {},
   "source": [
    "As you see, the random forest seems to perform better across all metrics we've covered so far. Of course we can also use cross-validation for a more sophisticated evaluation:"
   ]
  },
  {
   "cell_type": "code",
   "execution_count": 28,
   "id": "returning-segment",
   "metadata": {
    "scrolled": false
   },
   "outputs": [
    {
     "name": "stdout",
     "output_type": "stream",
     "text": [
      "accuracy: 96.49%\n",
      "precision: 97.11%\n",
      "recall: 93.43%\n",
      "f1: 95.19%\n"
     ]
    }
   ],
   "source": [
    "for curr_scoring in ['accuracy', 'precision', 'recall', 'f1']:\n",
    "    scores = cross_val_score(rf_model, X, y, scoring=curr_scoring, cv=5)\n",
    "    print('{}: {:.2%}'.format(curr_scoring, scores.mean()))"
   ]
  },
  {
   "cell_type": "markdown",
   "id": "atomic-separate",
   "metadata": {},
   "source": [
    "While we didn't need to adjust any _hyperparameters_ to achieve a better score, it's still important to know which adjustements we can make during the learning process. Since the forest is based on trees, we can specify the parameters we already got to know when training _decision trees_, such as:\n",
    "\n",
    "* `max_depth`, denoting the maximum extent to which our trees can split. If the value is higher than the optimal value, the model will tend to overfit. But a low depth can hamper the training process.\n",
    "* `min_samples_split`, indicating the minimum samples to be present in the nodes after they have split from the parent node.\n",
    "\n",
    "Apart from that, we can control the number of trees in the forest using `n_estimators`, which is 100 by default. Try it out with a (much) higher value - does it improve the performance? What else do you notice?"
   ]
  },
  {
   "cell_type": "markdown",
   "id": "western-mission",
   "metadata": {},
   "source": [
    "## _Feature Importances_"
   ]
  },
  {
   "cell_type": "markdown",
   "id": "forty-desktop",
   "metadata": {},
   "source": [
    "A cool feature of _tree-based_ models we haven't covered so far, is measuring the _feature importance_ - i.e. determining which features are most useful for predicting a target variable.\n",
    "\n",
    "For reaching this goal, we can use the attribute `feature_importances_`, containing the _impurity-based feature importances_: The higher, the more important the feature. The importance of a feature is computed as the (normalized) total reduction of the criterion brought by that feature. It is also known as the _Gini importance_.\n",
    "\n",
    "N.B.: Both _decision trees_ and _random forests_ contain this attribute. Since forests provide more information because of the number of trees, we're going to go with the latter."
   ]
  },
  {
   "cell_type": "code",
   "execution_count": 29,
   "id": "corporate-transsexual",
   "metadata": {
    "scrolled": true
   },
   "outputs": [
    {
     "data": {
      "text/plain": [
       "array([0.07616975, 0.01254852, 0.03953921, 0.06519748, 0.00754734,\n",
       "       0.01421261, 0.05260371, 0.09491522, 0.00224195, 0.0039692 ,\n",
       "       0.01497696, 0.00323977, 0.01287356, 0.02554922, 0.00396013,\n",
       "       0.00498574, 0.00752332, 0.00390774, 0.0034859 , 0.00473654,\n",
       "       0.09483115, 0.0171474 , 0.10882753, 0.16562965, 0.01030784,\n",
       "       0.00991405, 0.03731567, 0.08894089, 0.00710271, 0.00579924])"
      ]
     },
     "execution_count": 29,
     "metadata": {},
     "output_type": "execute_result"
    }
   ],
   "source": [
    "X = data[data.columns[:-1]]\n",
    "y = data['is_malignant']\n",
    "\n",
    "train_X, test_X, train_y, test_y = train_test_split(X, y, random_state=33)\n",
    "\n",
    "rf_model = RandomForestClassifier(random_state=33)\n",
    "rf_model.fit(train_X, train_y)\n",
    "\n",
    "rf_model.feature_importances_"
   ]
  },
  {
   "cell_type": "markdown",
   "id": "heavy-mitchell",
   "metadata": {},
   "source": [
    "Since the list above is kind of meaningless, let's combine it with the feature names and sort it descendingly:"
   ]
  },
  {
   "cell_type": "code",
   "execution_count": 30,
   "id": "french-handbook",
   "metadata": {
    "scrolled": true
   },
   "outputs": [
    {
     "data": {
      "text/plain": [
       "worst area                 0.165630\n",
       "worst perimeter            0.108828\n",
       "mean concave points        0.094915\n",
       "worst radius               0.094831\n",
       "worst concave points       0.088941\n",
       "mean radius                0.076170\n",
       "mean area                  0.065197\n",
       "mean concavity             0.052604\n",
       "mean perimeter             0.039539\n",
       "worst concavity            0.037316\n",
       "area error                 0.025549\n",
       "worst texture              0.017147\n",
       "radius error               0.014977\n",
       "mean compactness           0.014213\n",
       "perimeter error            0.012874\n",
       "mean texture               0.012549\n",
       "worst smoothness           0.010308\n",
       "worst compactness          0.009914\n",
       "mean smoothness            0.007547\n",
       "concavity error            0.007523\n",
       "worst symmetry             0.007103\n",
       "worst fractal dimension    0.005799\n",
       "compactness error          0.004986\n",
       "fractal dimension error    0.004737\n",
       "mean fractal dimension     0.003969\n",
       "smoothness error           0.003960\n",
       "concave points error       0.003908\n",
       "symmetry error             0.003486\n",
       "texture error              0.003240\n",
       "mean symmetry              0.002242\n",
       "dtype: float64"
      ]
     },
     "execution_count": 30,
     "metadata": {},
     "output_type": "execute_result"
    }
   ],
   "source": [
    "feature_importances = pd.Series(rf_model.feature_importances_, index=data.columns[:-1])\n",
    "feature_importances.sort_values(ascending=False)"
   ]
  },
  {
   "cell_type": "markdown",
   "id": "binding-stake",
   "metadata": {},
   "source": [
    "Or plot the 5 most important features using the `plot`-method:"
   ]
  },
  {
   "cell_type": "code",
   "execution_count": 31,
   "id": "adapted-switzerland",
   "metadata": {
    "scrolled": false
   },
   "outputs": [
    {
     "data": {
      "text/plain": [
       "<AxesSubplot:>"
      ]
     },
     "execution_count": 31,
     "metadata": {},
     "output_type": "execute_result"
    },
    {
     "data": {
      "image/png": "[encoded data removed]",
      "text/plain": [
       "<Figure size 432x288 with 1 Axes>"
      ]
     },
     "metadata": {
      "needs_background": "light"
     },
     "output_type": "display_data"
    }
   ],
   "source": [
    "feature_importances.nlargest(5).plot(kind='bar')"
   ]
  },
  {
   "cell_type": "markdown",
   "id": "changed-bundle",
   "metadata": {},
   "source": [
    "As you see, we can not only use tree-based algorithms for prediction - it can also play an important role during data exploration!"
   ]
  }
 ],
 "metadata": {
  "kernelspec": {
   "display_name": "Python 3",
   "language": "python",
   "name": "python3"
  },
  "language_info": {
   "codemirror_mode": {
    "name": "ipython",
    "version": 3
   },
   "file_extension": ".py",
   "mimetype": "text/x-python",
   "name": "python",
   "nbconvert_exporter": "python",
   "pygments_lexer": "ipython3",
   "version": "3.9.2"
  }
 },
 "nbformat": 4,
 "nbformat_minor": 5
}
